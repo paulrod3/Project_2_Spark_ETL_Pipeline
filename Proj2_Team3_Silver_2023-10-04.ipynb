{
 "cells": [
  {
   "cell_type": "markdown",
   "metadata": {
    "application/vnd.databricks.v1+cell": {
     "cellMetadata": {
      "byteLimit": 2048000,
      "rowLimit": 10000
     },
     "inputWidgets": {},
     "nuid": "3c893387-c7fa-4d3c-8f8d-06299014279c",
     "showTitle": false,
     "title": ""
    }
   },
   "source": [
    "# Project 2_ Team 3 _ Bronze to Silver Layer"
   ]
  },
  {
   "cell_type": "markdown",
   "metadata": {
    "application/vnd.databricks.v1+cell": {
     "cellMetadata": {
      "byteLimit": 2048000,
      "rowLimit": 10000
     },
     "inputWidgets": {},
     "nuid": "3e90e208-a6e9-48a2-a7fc-e9f0edda4ede",
     "showTitle": false,
     "title": ""
    }
   },
   "source": [
    "## Table of contents:\n",
    "--- \n",
    "- Read the bronze layer from the container\n",
    "- Cleaning functions\n",
    "- Flatten the bronze table\n",
    "- Explore the Payload column separately\n",
    "- ERD Tables:\n",
    "  - Event_Table\n",
    "  - repo_df\n",
    "  - actor_df\n",
    "  - organization_df\n",
    "  - PushEvent_df\n",
    "  - ReleaseEvent_df\n",
    "  - CreateEvent_df\n",
    "  - PullRequestEvent_df\n",
    "  - PullRequestReviewEvent_df\n",
    "  - CommitCommentEvent_df\n",
    "  - PullRequestReviewCommentEvent_df\n",
    "  - DeleteEvent_df\n",
    "  - GollumEvent_df\n",
    "  - MemberEvent_df\n",
    "  - IssuesEvent_df\n",
    "  - ForkEvent_df\n",
    "  - IssueCommentEvent_df\n",
    "  - WatchEvent"
   ]
  },
  {
   "cell_type": "markdown",
   "metadata": {
    "application/vnd.databricks.v1+cell": {
     "cellMetadata": {
      "byteLimit": 2048000,
      "rowLimit": 10000
     },
     "inputWidgets": {},
     "nuid": "75330120-e45d-4fe1-b7ba-234b42710efe",
     "showTitle": false,
     "title": ""
    }
   },
   "source": [
    "\n",
    "##  Import the necessary libraries/functions"
   ]
  },
  {
   "cell_type": "code",
   "execution_count": 0,
   "metadata": {
    "application/vnd.databricks.v1+cell": {
     "cellMetadata": {
      "byteLimit": 2048000,
      "rowLimit": 10000
     },
     "inputWidgets": {},
     "nuid": "b0dd5683-5d4d-4733-bf47-473cb44ce712",
     "showTitle": false,
     "title": ""
    }
   },
   "outputs": [],
   "source": [
    "\n",
    "import pyspark.sql.functions as F\n",
    "from pyspark.sql.functions import col, explode, isnan, isnull, when, count, countDistinct, isnan, isnull, when, row_number, to_date, coalesce, to_timestamp, regexp_replace\n",
    "from pyspark.sql.types import StructField, StructType, StringType, LongType, IntegerType, DateType, FloatType, BooleanType\n",
    "from pyspark.sql.window import Window\n"
   ]
  },
  {
   "cell_type": "markdown",
   "metadata": {
    "application/vnd.databricks.v1+cell": {
     "cellMetadata": {
      "byteLimit": 2048000,
      "rowLimit": 10000
     },
     "inputWidgets": {},
     "nuid": "336d39ad-8edf-401a-9782-6b6bd57701e3",
     "showTitle": false,
     "title": ""
    }
   },
   "source": [
    "\n",
    "## Configure access to our Azure Storage account container:"
   ]
  },
  {
   "cell_type": "code",
   "execution_count": 0,
   "metadata": {
    "application/vnd.databricks.v1+cell": {
     "cellMetadata": {
      "byteLimit": 2048000,
      "rowLimit": 10000
     },
     "inputWidgets": {},
     "nuid": "ff68a916-46c5-4f6b-8557-37cc3333402a",
     "showTitle": false,
     "title": ""
    }
   },
   "outputs": [],
   "source": [
    "\n",
    "contname = 'team3-project2' #azure storage account container\n",
    "storage_acct_name = '20230821desa'\n",
    "client_id = 'de4ff859-02b1-4e2f-9d16-b578fa03df4f' #aka: app id\n",
    "tenant_id = '33da9f3f-4c1a-4640-8ce1-3f63024aea1d' #aka: directory id\n",
    "service_credential = dbutils.secrets.get(scope=\"databricks-app-kv\",key=\"databricks-application\")"
   ]
  },
  {
   "cell_type": "markdown",
   "metadata": {
    "application/vnd.databricks.v1+cell": {
     "cellMetadata": {
      "byteLimit": 2048000,
      "rowLimit": 10000
     },
     "inputWidgets": {},
     "nuid": "b5d0236c-77a4-4b06-9624-b21eed2b245b",
     "showTitle": false,
     "title": ""
    }
   },
   "source": [
    "\n",
    "## Configure Spark to access Azure Storage securely using OAuth-based authentication:"
   ]
  },
  {
   "cell_type": "code",
   "execution_count": 0,
   "metadata": {
    "application/vnd.databricks.v1+cell": {
     "cellMetadata": {
      "byteLimit": 2048000,
      "rowLimit": 10000
     },
     "inputWidgets": {},
     "nuid": "985dfdca-af7d-4423-bbf2-4da4becac94e",
     "showTitle": false,
     "title": ""
    }
   },
   "outputs": [],
   "source": [
    "\n",
    "spark.conf.set(f\"fs.azure.account.auth.type.{storage_acct_name}.dfs.core.windows.net\", \"OAuth\")\n",
    "spark.conf.set(f\"fs.azure.account.oauth.provider.type.{storage_acct_name}.dfs.core.windows.net\", \"org.apache.hadoop.fs.azurebfs.oauth2.ClientCredsTokenProvider\")\n",
    "spark.conf.set(f\"fs.azure.account.oauth2.client.id.{storage_acct_name}.dfs.core.windows.net\", f\"{client_id}\")\n",
    "spark.conf.set(f\"fs.azure.account.oauth2.client.secret.{storage_acct_name}.dfs.core.windows.net\", service_credential)\n",
    "spark.conf.set(f\"fs.azure.account.oauth2.client.endpoint.{storage_acct_name}.dfs.core.windows.net\", f\"https://login.microsoftonline.com/{tenant_id}/oauth2/token\")"
   ]
  },
  {
   "cell_type": "markdown",
   "metadata": {
    "application/vnd.databricks.v1+cell": {
     "cellMetadata": {
      "byteLimit": 2048000,
      "rowLimit": 10000
     },
     "inputWidgets": {},
     "nuid": "3533eb7c-c420-451f-8c66-f97fddbe7e9f",
     "showTitle": false,
     "title": ""
    }
   },
   "source": [
    "## Read the bronze layer from the container"
   ]
  },
  {
   "cell_type": "code",
   "execution_count": 0,
   "metadata": {
    "application/vnd.databricks.v1+cell": {
     "cellMetadata": {
      "byteLimit": 2048000,
      "rowLimit": 10000
     },
     "inputWidgets": {},
     "nuid": "9c3bef2a-e6e4-4847-b7a3-64e80c2d0a33",
     "showTitle": false,
     "title": ""
    }
   },
   "outputs": [],
   "source": [
    "brz_df = spark.read.parquet(f\"abfss://{contname}@{storage_acct_name}.dfs.core.windows.net/BronzeLayer\")"
   ]
  },
  {
   "cell_type": "markdown",
   "metadata": {
    "application/vnd.databricks.v1+cell": {
     "cellMetadata": {
      "byteLimit": 2048000,
      "rowLimit": 10000
     },
     "inputWidgets": {},
     "nuid": "e4ee42d3-5a59-4b62-ac22-7d9a17701f06",
     "showTitle": false,
     "title": ""
    }
   },
   "source": [
    "## Cleaning functions"
   ]
  },
  {
   "cell_type": "code",
   "execution_count": 0,
   "metadata": {
    "application/vnd.databricks.v1+cell": {
     "cellMetadata": {
      "byteLimit": 2048000,
      "rowLimit": 10000
     },
     "inputWidgets": {},
     "nuid": "1c63af43-218e-4a49-9ab3-fe6114c796b9",
     "showTitle": false,
     "title": ""
    }
   },
   "outputs": [],
   "source": [
    "# 1- Check for missing values in a dataframe:\n",
    "#--------------------------------------------\n",
    "def check_Missing_Val(df):\n",
    "\n",
    "    missing_values_counts = df.agg(\n",
    "        *[count(when(isnull(col(c)) | isnan(col(c)), c)).alias(c) for c in df.columns]\n",
    "    )\n",
    "    missing_values_counts.show()\n",
    "\n",
    "\n",
    "\n",
    "# 2- Count the number of duplicate rows in a dataframe:\n",
    "#-----------------------------------------------------\n",
    "def count_Duplicates(df): \n",
    "    duplicate_rows_count = df.groupBy(df.columns).count().filter(col(\"count\") > 1).count()\n",
    "    print(f\"Number of duplicate rows: {duplicate_rows_count}\")\n",
    "\n",
    "\n",
    "\n",
    "# 3- Check if a column in df has only unique values:\n",
    "#----------------------------------------------------\n",
    "def check_Unique(df, colm):\n",
    "    distinct_count = df.select(colm).distinct().count()\n",
    "    total_count = df.select(colm).count()\n",
    "    print(f\"There are {total_count-distinct_count} duplicates in {colm}\")\n",
    "    \n",
    "\n",
    "# show NaNs in columns\n",
    "def show_NaNs(df, colm):\n",
    "    df.where(isnan(col(colm))).show() #probably repalce NaNs with \"missing\", right split the ref column for location\n"
   ]
  },
  {
   "cell_type": "code",
   "execution_count": 0,
   "metadata": {
    "application/vnd.databricks.v1+cell": {
     "cellMetadata": {
      "byteLimit": 2048000,
      "rowLimit": 10000
     },
     "inputWidgets": {},
     "nuid": "1456066e-c078-4c2c-affb-bf6fc5950487",
     "showTitle": false,
     "title": ""
    }
   },
   "outputs": [
    {
     "output_type": "stream",
     "name": "stdout",
     "output_type": "stream",
     "text": [
      "There are 10 duplicates in id\n"
     ]
    }
   ],
   "source": [
    "check_Unique(brz_df, \"id\")"
   ]
  },
  {
   "cell_type": "code",
   "execution_count": 0,
   "metadata": {
    "application/vnd.databricks.v1+cell": {
     "cellMetadata": {
      "byteLimit": 2048000,
      "rowLimit": 10000
     },
     "inputWidgets": {},
     "nuid": "ac8f7094-0b84-4a0c-b6e4-5cfa02d78158",
     "showTitle": false,
     "title": ""
    }
   },
   "outputs": [],
   "source": [
    "brz_df = brz_df.dropDuplicates([\"id\"])"
   ]
  },
  {
   "cell_type": "code",
   "execution_count": 0,
   "metadata": {
    "application/vnd.databricks.v1+cell": {
     "cellMetadata": {
      "byteLimit": 2048000,
      "rowLimit": 10000
     },
     "inputWidgets": {},
     "nuid": "573c2c17-3058-4568-b7aa-6c3b0c4d499e",
     "showTitle": false,
     "title": ""
    }
   },
   "outputs": [
    {
     "output_type": "display_data",
     "data": {
      "text/html": [
       "<style scoped>\n",
       "  .table-result-container {\n",
       "    max-height: 300px;\n",
       "    overflow: auto;\n",
       "  }\n",
       "  table, th, td {\n",
       "    border: 1px solid black;\n",
       "    border-collapse: collapse;\n",
       "  }\n",
       "  th, td {\n",
       "    padding: 5px;\n",
       "  }\n",
       "  th {\n",
       "    text-align: left;\n",
       "  }\n",
       "</style><div class='table-result-container'><table class='table-result'><thead style='background-color: white'><tr><th>type</th><th>count</th></tr></thead><tbody><tr><td>PullRequestReviewEvent</td><td>29841</td></tr><tr><td>PushEvent</td><td>1303922</td></tr><tr><td>GollumEvent</td><td>4035</td></tr><tr><td>ReleaseEvent</td><td>13642</td></tr><tr><td>CommitCommentEvent</td><td>10727</td></tr><tr><td>CreateEvent</td><td>261401</td></tr><tr><td>PullRequestReviewCommentEvent</td><td>9020</td></tr><tr><td>IssueCommentEvent</td><td>88845</td></tr><tr><td>DeleteEvent</td><td>72318</td></tr><tr><td>IssuesEvent</td><td>35029</td></tr><tr><td>ForkEvent</td><td>33686</td></tr><tr><td>PublicEvent</td><td>5358</td></tr><tr><td>MemberEvent</td><td>2644</td></tr><tr><td>WatchEvent</td><td>111119</td></tr><tr><td>PullRequestEvent</td><td>159441</td></tr></tbody></table></div>"
      ]
     },
     "metadata": {
      "application/vnd.databricks.v1+output": {
       "addedWidgets": {},
       "aggData": [],
       "aggError": "",
       "aggOverflow": false,
       "aggSchema": [],
       "aggSeriesLimitReached": false,
       "aggType": "",
       "arguments": {},
       "columnCustomDisplayInfos": {},
       "data": [
        [
         "PullRequestReviewEvent",
         29841
        ],
        [
         "PushEvent",
         1303922
        ],
        [
         "GollumEvent",
         4035
        ],
        [
         "ReleaseEvent",
         13642
        ],
        [
         "CommitCommentEvent",
         10727
        ],
        [
         "CreateEvent",
         261401
        ],
        [
         "PullRequestReviewCommentEvent",
         9020
        ],
        [
         "IssueCommentEvent",
         88845
        ],
        [
         "DeleteEvent",
         72318
        ],
        [
         "IssuesEvent",
         35029
        ],
        [
         "ForkEvent",
         33686
        ],
        [
         "PublicEvent",
         5358
        ],
        [
         "MemberEvent",
         2644
        ],
        [
         "WatchEvent",
         111119
        ],
        [
         "PullRequestEvent",
         159441
        ]
       ],
       "datasetInfos": [],
       "dbfsResultPath": null,
       "isJsonSchema": true,
       "metadata": {},
       "overflow": false,
       "plotOptions": {
        "customPlotOptions": {},
        "displayType": "table",
        "pivotAggregation": null,
        "pivotColumns": null,
        "xColumns": null,
        "yColumns": null
       },
       "removedWidgets": [],
       "schema": [
        {
         "metadata": "{}",
         "name": "type",
         "type": "\"string\""
        },
        {
         "metadata": "{}",
         "name": "count",
         "type": "\"long\""
        }
       ],
       "type": "table"
      }
     },
     "output_type": "display_data"
    }
   ],
   "source": [
    "# Used to check event types and their count\n",
    "brz_df.groupBy(\"type\").count().display()"
   ]
  },
  {
   "cell_type": "code",
   "execution_count": 0,
   "metadata": {
    "application/vnd.databricks.v1+cell": {
     "cellMetadata": {
      "byteLimit": 2048000,
      "rowLimit": 10000
     },
     "inputWidgets": {},
     "nuid": "e6e283c5-9a02-448f-89b1-89afacd19199",
     "showTitle": false,
     "title": ""
    }
   },
   "outputs": [],
   "source": [
    "# Check the number of partitions\n",
    "# brz_df.rdd.getNumPartitions()"
   ]
  },
  {
   "cell_type": "code",
   "execution_count": 0,
   "metadata": {
    "application/vnd.databricks.v1+cell": {
     "cellMetadata": {
      "byteLimit": 2048000,
      "rowLimit": 10000
     },
     "inputWidgets": {},
     "nuid": "4c5e358d-dcd1-4cd5-a238-2102f65e9312",
     "showTitle": false,
     "title": ""
    }
   },
   "outputs": [
    {
     "output_type": "execute_result",
     "data": {
      "text/plain": [
       "['actor', 'created_at', 'id', 'org', 'payload', 'public', 'repo', 'type']"
      ]
     },
     "execution_count": 11,
     "metadata": {},
     "output_type": "execute_result"
    }
   ],
   "source": [
    "# print the name of the columns\n",
    "brz_df.columns"
   ]
  },
  {
   "cell_type": "code",
   "execution_count": 0,
   "metadata": {
    "application/vnd.databricks.v1+cell": {
     "cellMetadata": {
      "byteLimit": 2048000,
      "rowLimit": 10000
     },
     "inputWidgets": {},
     "nuid": "e409d571-8acc-41ee-bacf-d3a2c866d879",
     "showTitle": false,
     "title": ""
    }
   },
   "outputs": [],
   "source": [
    "# Rename the id column to event_id to differentiate it from other 'id' columns within the nested columns\n",
    "brz_df = brz_df.withColumnRenamed(\"id\", \"event_id\")"
   ]
  },
  {
   "cell_type": "code",
   "execution_count": 0,
   "metadata": {
    "application/vnd.databricks.v1+cell": {
     "cellMetadata": {
      "byteLimit": 2048000,
      "rowLimit": 10000
     },
     "inputWidgets": {},
     "nuid": "4040a0d8-50fb-4b4d-8fd5-15aa6b755e3b",
     "showTitle": false,
     "title": ""
    }
   },
   "outputs": [
    {
     "output_type": "stream",
     "name": "stdout",
     "output_type": "stream",
     "text": [
      "root\n |-- actor: struct (nullable = true)\n |    |-- avatar_url: string (nullable = true)\n |    |-- display_login: string (nullable = true)\n |    |-- gravatar_id: string (nullable = true)\n |    |-- id: long (nullable = true)\n |    |-- login: string (nullable = true)\n |    |-- url: string (nullable = true)\n |-- created_at: string (nullable = true)\n |-- event_id: string (nullable = true)\n |-- org: struct (nullable = true)\n |    |-- avatar_url: string (nullable = true)\n |    |-- gravatar_id: string (nullable = true)\n |    |-- id: long (nullable = true)\n |    |-- login: string (nullable = true)\n |    |-- url: string (nullable = true)\n |-- payload: struct (nullable = true)\n |    |-- action: string (nullable = true)\n |    |-- before: string (nullable = true)\n |    |-- comment: struct (nullable = true)\n |    |    |-- _links: struct (nullable = true)\n |    |    |    |-- html: struct (nullable = true)\n |    |    |    |    |-- href: string (nullable = true)\n |    |    |    |-- pull_request: struct (nullable = true)\n |    |    |    |    |-- href: string (nullable = true)\n |    |    |    |-- self: struct (nullable = true)\n |    |    |    |    |-- href: string (nullable = true)\n |    |    |-- author_association: string (nullable = true)\n |    |    |-- body: string (nullable = true)\n |    |    |-- commit_id: string (nullable = true)\n |    |    |-- created_at: string (nullable = true)\n |    |    |-- diff_hunk: string (nullable = true)\n |    |    |-- html_url: string (nullable = true)\n |    |    |-- id: long (nullable = true)\n |    |    |-- in_reply_to_id: long (nullable = true)\n |    |    |-- issue_url: string (nullable = true)\n |    |    |-- line: long (nullable = true)\n |    |    |-- node_id: string (nullable = true)\n |    |    |-- original_commit_id: string (nullable = true)\n |    |    |-- original_line: long (nullable = true)\n |    |    |-- original_position: long (nullable = true)\n |    |    |-- original_start_line: long (nullable = true)\n |    |    |-- path: string (nullable = true)\n |    |    |-- performed_via_github_app: struct (nullable = true)\n |    |    |    |-- created_at: string (nullable = true)\n |    |    |    |-- description: string (nullable = true)\n |    |    |    |-- events: array (nullable = true)\n |    |    |    |    |-- element: string (containsNull = true)\n |    |    |    |-- external_url: string (nullable = true)\n |    |    |    |-- html_url: string (nullable = true)\n |    |    |    |-- id: long (nullable = true)\n |    |    |    |-- name: string (nullable = true)\n |    |    |    |-- node_id: string (nullable = true)\n |    |    |    |-- owner: struct (nullable = true)\n |    |    |    |    |-- avatar_url: string (nullable = true)\n |    |    |    |    |-- events_url: string (nullable = true)\n |    |    |    |    |-- followers_url: string (nullable = true)\n |    |    |    |    |-- following_url: string (nullable = true)\n |    |    |    |    |-- gists_url: string (nullable = true)\n |    |    |    |    |-- gravatar_id: string (nullable = true)\n |    |    |    |    |-- html_url: string (nullable = true)\n |    |    |    |    |-- id: long (nullable = true)\n |    |    |    |    |-- login: string (nullable = true)\n |    |    |    |    |-- node_id: string (nullable = true)\n |    |    |    |    |-- organizations_url: string (nullable = true)\n |    |    |    |    |-- received_events_url: string (nullable = true)\n |    |    |    |    |-- repos_url: string (nullable = true)\n |    |    |    |    |-- site_admin: boolean (nullable = true)\n |    |    |    |    |-- starred_url: string (nullable = true)\n |    |    |    |    |-- subscriptions_url: string (nullable = true)\n |    |    |    |    |-- type: string (nullable = true)\n |    |    |    |    |-- url: string (nullable = true)\n |    |    |    |-- permissions: struct (nullable = true)\n |    |    |    |    |-- actions: string (nullable = true)\n |    |    |    |    |-- administration: string (nullable = true)\n |    |    |    |    |-- checks: string (nullable = true)\n |    |    |    |    |-- codespace_metadata: string (nullable = true)\n |    |    |    |    |-- contents: string (nullable = true)\n |    |    |    |    |-- deployments: string (nullable = true)\n |    |    |    |    |-- discussions: string (nullable = true)\n |    |    |    |    |-- emails: string (nullable = true)\n |    |    |    |    |-- followers: string (nullable = true)\n |    |    |    |    |-- gists: string (nullable = true)\n |    |    |    |    |-- issues: string (nullable = true)\n |    |    |    |    |-- members: string (nullable = true)\n |    |    |    |    |-- metadata: string (nullable = true)\n |    |    |    |    |-- organization_administration: string (nullable = true)\n |    |    |    |    |-- organization_packages: string (nullable = true)\n |    |    |    |    |-- organization_projects: string (nullable = true)\n |    |    |    |    |-- packages: string (nullable = true)\n |    |    |    |    |-- pages: string (nullable = true)\n |    |    |    |    |-- profile: string (nullable = true)\n |    |    |    |    |-- pull_requests: string (nullable = true)\n |    |    |    |    |-- pull_requests_comment_only_reviews: string (nullable = true)\n |    |    |    |    |-- pull_requests_from_forks: string (nullable = true)\n |    |    |    |    |-- repository_hooks: string (nullable = true)\n |    |    |    |    |-- repository_projects: string (nullable = true)\n |    |    |    |    |-- single_file: string (nullable = true)\n |    |    |    |    |-- starring: string (nullable = true)\n |    |    |    |    |-- statuses: string (nullable = true)\n |    |    |    |    |-- workflows: string (nullable = true)\n |    |    |    |-- slug: string (nullable = true)\n |    |    |    |-- updated_at: string (nullable = true)\n |    |    |-- position: long (nullable = true)\n |    |    |-- pull_request_review_id: long (nullable = true)\n |    |    |-- pull_request_url: string (nullable = true)\n |    |    |-- reactions: struct (nullable = true)\n |    |    |    |-- +1: long (nullable = true)\n |    |    |    |-- -1: long (nullable = true)\n |    |    |    |-- confused: long (nullable = true)\n |    |    |    |-- eyes: long (nullable = true)\n |    |    |    |-- heart: long (nullable = true)\n |    |    |    |-- hooray: long (nullable = true)\n |    |    |    |-- laugh: long (nullable = true)\n |    |    |    |-- rocket: long (nullable = true)\n |    |    |    |-- total_count: long (nullable = true)\n |    |    |    |-- url: string (nullable = true)\n |    |    |-- side: string (nullable = true)\n |    |    |-- start_line: long (nullable = true)\n |    |    |-- start_side: string (nullable = true)\n |    |    |-- updated_at: string (nullable = true)\n |    |    |-- url: string (nullable = true)\n |    |    |-- user: struct (nullable = true)\n |    |    |    |-- avatar_url: string (nullable = true)\n |    |    |    |-- events_url: string (nullable = true)\n |    |    |    |-- followers_url: string (nullable = true)\n |    |    |    |-- following_url: string (nullable = true)\n |    |    |    |-- gists_url: string (nullable = true)\n |    |    |    |-- gravatar_id: string (nullable = true)\n |    |    |    |-- html_url: string (nullable = true)\n |    |    |    |-- id: long (nullable = true)\n |    |    |    |-- login: string (nullable = true)\n |    |    |    |-- node_id: string (nullable = true)\n |    |    |    |-- organizations_url: string (nullable = true)\n |    |    |    |-- received_events_url: string (nullable = true)\n |    |    |    |-- repos_url: string (nullable = true)\n |    |    |    |-- site_admin: boolean (nullable = true)\n |    |    |    |-- starred_url: string (nullable = true)\n |    |    |    |-- subscriptions_url: string (nullable = true)\n |    |    |    |-- type: string (nullable = true)\n |    |    |    |-- url: string (nullable = true)\n |    |-- commits: array (nullable = true)\n |    |    |-- element: struct (containsNull = true)\n |    |    |    |-- author: struct (nullable = true)\n |    |    |    |    |-- email: string (nullable = true)\n |    |    |    |    |-- name: string (nullable = true)\n |    |    |    |-- distinct: boolean (nullable = true)\n |    |    |    |-- message: string (nullable = true)\n |    |    |    |-- sha: string (nullable = true)\n |    |    |    |-- url: string (nullable = true)\n |    |-- description: string (nullable = true)\n |    |-- distinct_size: long (nullable = true)\n |    |-- forkee: struct (nullable = true)\n |    |    |-- allow_forking: boolean (nullable = true)\n |    |    |-- archive_url: string (nullable = true)\n |    |    |-- archived: boolean (nullable = true)\n |    |    |-- assignees_url: string (nullable = true)\n |    |    |-- blobs_url: string (nullable = true)\n |    |    |-- branches_url: string (nullable = true)\n |    |    |-- clone_url: string (nullable = true)\n |    |    |-- collaborators_url: string (nullable = true)\n |    |    |-- comments_url: string (nullable = true)\n |    |    |-- commits_url: string (nullable = true)\n |    |    |-- compare_url: string (nullable = true)\n |    |    |-- contents_url: string (nullable = true)\n |    |    |-- contributors_url: string (nullable = true)\n |    |    |-- created_at: string (nullable = true)\n |    |    |-- default_branch: string (nullable = true)\n |    |    |-- deployments_url: string (nullable = true)\n |    |    |-- description: string (nullable = true)\n |    |    |-- disabled: boolean (nullable = true)\n |    |    |-- downloads_url: string (nullable = true)\n |    |    |-- events_url: string (nullable = true)\n |    |    |-- fork: boolean (nullable = true)\n |    |    |-- forks: long (nullable = true)\n |    |    |-- forks_count: long (nullable = true)\n |    |    |-- forks_url: string (nullable = true)\n |    |    |-- full_name: string (nullable = true)\n |    |    |-- git_commits_url: string (nullable = true)\n |    |    |-- git_refs_url: string (nullable = true)\n |    |    |-- git_tags_url: string (nullable = true)\n |    |    |-- git_url: string (nullable = true)\n |    |    |-- has_downloads: boolean (nullable = true)\n |    |    |-- has_issues: boolean (nullable = true)\n |    |    |-- has_pages: boolean (nullable = true)\n |    |    |-- has_projects: boolean (nullable = true)\n |    |    |-- has_wiki: boolean (nullable = true)\n |    |    |-- homepage: string (nullable = true)\n |    |    |-- hooks_url: string (nullable = true)\n |    |    |-- html_url: string (nullable = true)\n |    |    |-- id: long (nullable = true)\n |    |    |-- is_template: boolean (nullable = true)\n |    |    |-- issue_comment_url: string (nullable = true)\n |    |    |-- issue_events_url: string (nullable = true)\n |    |    |-- issues_url: string (nullable = true)\n |    |    |-- keys_url: string (nullable = true)\n |    |    |-- labels_url: string (nullable = true)\n |    |    |-- language: string (nullable = true)\n |    |    |-- languages_url: string (nullable = true)\n |    |    |-- license: struct (nullable = true)\n |    |    |    |-- key: string (nullable = true)\n |    |    |    |-- name: string (nullable = true)\n |    |    |    |-- node_id: string (nullable = true)\n |    |    |    |-- spdx_id: string (nullable = true)\n |    |    |    |-- url: string (nullable = true)\n |    |    |-- merges_url: string (nullable = true)\n |    |    |-- milestones_url: string (nullable = true)\n |    |    |-- mirror_url: string (nullable = true)\n |    |    |-- name: string (nullable = true)\n |    |    |-- node_id: string (nullable = true)\n |    |    |-- notifications_url: string (nullable = true)\n |    |    |-- open_issues: long (nullable = true)\n |    |    |-- open_issues_count: long (nullable = true)\n |    |    |-- owner: struct (nullable = true)\n |    |    |    |-- avatar_url: string (nullable = true)\n |    |    |    |-- events_url: string (nullable = true)\n |    |    |    |-- followers_url: string (nullable = true)\n |    |    |    |-- following_url: string (nullable = true)\n |    |    |    |-- gists_url: string (nullable = true)\n |    |    |    |-- gravatar_id: string (nullable = true)\n |    |    |    |-- html_url: string (nullable = true)\n |    |    |    |-- id: long (nullable = true)\n |    |    |    |-- login: string (nullable = true)\n |    |    |    |-- node_id: string (nullable = true)\n |    |    |    |-- organizations_url: string (nullable = true)\n |    |    |    |-- received_events_url: string (nullable = true)\n |    |    |    |-- repos_url: string (nullable = true)\n |    |    |    |-- site_admin: boolean (nullable = true)\n |    |    |    |-- starred_url: string (nullable = true)\n |    |    |    |-- subscriptions_url: string (nullable = true)\n |    |    |    |-- type: string (nullable = true)\n |    |    |    |-- url: string (nullable = true)\n |    |    |-- private: boolean (nullable = true)\n |    |    |-- public: boolean (nullable = true)\n |    |    |-- pulls_url: string (nullable = true)\n |    |    |-- pushed_at: string (nullable = true)\n |    |    |-- releases_url: string (nullable = true)\n |    |    |-- size: long (nullable = true)\n |    |    |-- ssh_url: string (nullable = true)\n |    |    |-- stargazers_count: long (nullable = true)\n |    |    |-- stargazers_url: string (nullable = true)\n |    |    |-- statuses_url: string (nullable = true)\n |    |    |-- subscribers_url: string (nullable = true)\n |    |    |-- subscription_url: string (nullable = true)\n |    |    |-- svn_url: string (nullable = true)\n |    |    |-- tags_url: string (nullable = true)\n |    |    |-- teams_url: string (nullable = true)\n |    |    |-- topics: array (nullable = true)\n |    |    |    |-- element: string (containsNull = true)\n |    |    |-- trees_url: string (nullable = true)\n |    |    |-- updated_at: string (nullable = true)\n |    |    |-- url: string (nullable = true)\n |    |    |-- visibility: string (nullable = true)\n |    |    |-- watchers: long (nullable = true)\n |    |    |-- watchers_count: long (nullable = true)\n |    |-- head: string (nullable = true)\n |    |-- issue: struct (nullable = true)\n |    |    |-- active_lock_reason: string (nullable = true)\n |    |    |-- assignee: struct (nullable = true)\n |    |    |    |-- avatar_url: string (nullable = true)\n |    |    |    |-- events_url: string (nullable = true)\n |    |    |    |-- followers_url: string (nullable = true)\n |    |    |    |-- following_url: string (nullable = true)\n |    |    |    |-- gists_url: string (nullable = true)\n |    |    |    |-- gravatar_id: string (nullable = true)\n |    |    |    |-- html_url: string (nullable = true)\n |    |    |    |-- id: long (nullable = true)\n |    |    |    |-- login: string (nullable = true)\n |    |    |    |-- node_id: string (nullable = true)\n |    |    |    |-- organizations_url: string (nullable = true)\n |    |    |    |-- received_events_url: string (nullable = true)\n |    |    |    |-- repos_url: string (nullable = true)\n |    |    |    |-- site_admin: boolean (nullable = true)\n |    |    |    |-- starred_url: string (nullable = true)\n |    |    |    |-- subscriptions_url: string (nullable = true)\n |    |    |    |-- type: string (nullable = true)\n |    |    |    |-- url: string (nullable = true)\n |    |    |-- assignees: array (nullable = true)\n |    |    |    |-- element: struct (containsNull = true)\n |    |    |    |    |-- avatar_url: string (nullable = true)\n |    |    |    |    |-- events_url: string (nullable = true)\n |    |    |    |    |-- followers_url: string (nullable = true)\n |    |    |    |    |-- following_url: string (nullable = true)\n |    |    |    |    |-- gists_url: string (nullable = true)\n |    |    |    |    |-- gravatar_id: string (nullable = true)\n |    |    |    |    |-- html_url: string (nullable = true)\n |    |    |    |    |-- id: long (nullable = true)\n |    |    |    |    |-- login: string (nullable = true)\n |    |    |    |    |-- node_id: string (nullable = true)\n |    |    |    |    |-- organizations_url: string (nullable = true)\n |    |    |    |    |-- received_events_url: string (nullable = true)\n |    |    |    |    |-- repos_url: string (nullable = true)\n |    |    |    |    |-- site_admin: boolean (nullable = true)\n |    |    |    |    |-- starred_url: string (nullable = true)\n |    |    |    |    |-- subscriptions_url: string (nullable = true)\n |    |    |    |    |-- type: string (nullable = true)\n |    |    |    |    |-- url: string (nullable = true)\n |    |    |-- author_association: string (nullable = true)\n |    |    |-- body: string (nullable = true)\n |    |    |-- closed_at: string (nullable = true)\n |    |    |-- comments: long (nullable = true)\n |    |    |-- comments_url: string (nullable = true)\n |    |    |-- created_at: string (nullable = true)\n |    |    |-- draft: boolean (nullable = true)\n |    |    |-- events_url: string (nullable = true)\n |    |    |-- html_url: string (nullable = true)\n |    |    |-- id: long (nullable = true)\n |    |    |-- labels: array (nullable = true)\n |    |    |    |-- element: struct (containsNull = true)\n |    |    |    |    |-- color: string (nullable = true)\n |    |    |    |    |-- default: boolean (nullable = true)\n |    |    |    |    |-- description: string (nullable = true)\n |    |    |    |    |-- id: long (nullable = true)\n |    |    |    |    |-- name: string (nullable = true)\n |    |    |    |    |-- node_id: string (nullable = true)\n |    |    |    |    |-- url: string (nullable = true)\n |    |    |-- labels_url: string (nullable = true)\n |    |    |-- locked: boolean (nullable = true)\n |    |    |-- milestone: struct (nullable = true)\n |    |    |    |-- closed_at: string (nullable = true)\n |    |    |    |-- closed_issues: long (nullable = true)\n |    |    |    |-- created_at: string (nullable = true)\n |    |    |    |-- creator: struct (nullable = true)\n |    |    |    |    |-- avatar_url: string (nullable = true)\n |    |    |    |    |-- events_url: string (nullable = true)\n |    |    |    |    |-- followers_url: string (nullable = true)\n |    |    |    |    |-- following_url: string (nullable = true)\n |    |    |    |    |-- gists_url: string (nullable = true)\n |    |    |    |    |-- gravatar_id: string (nullable = true)\n |    |    |    |    |-- html_url: string (nullable = true)\n |    |    |    |    |-- id: long (nullable = true)\n |    |    |    |    |-- login: string (nullable = true)\n |    |    |    |    |-- node_id: string (nullable = true)\n |    |    |    |    |-- organizations_url: string (nullable = true)\n |    |    |    |    |-- received_events_url: string (nullable = true)\n |    |    |    |    |-- repos_url: string (nullable = true)\n |    |    |    |    |-- site_admin: boolean (nullable = true)\n |    |    |    |    |-- starred_url: string (nullable = true)\n |    |    |    |    |-- subscriptions_url: string (nullable = true)\n |    |    |    |    |-- type: string (nullable = true)\n |    |    |    |    |-- url: string (nullable = true)\n |    |    |    |-- description: string (nullable = true)\n |    |    |    |-- due_on: string (nullable = true)\n |    |    |    |-- html_url: string (nullable = true)\n |    |    |    |-- id: long (nullable = true)\n |    |    |    |-- labels_url: string (nullable = true)\n |    |    |    |-- node_id: string (nullable = true)\n |    |    |    |-- number: long (nullable = true)\n |    |    |    |-- open_issues: long (nullable = true)\n |    |    |    |-- state: string (nullable = true)\n |    |    |    |-- title: string (nullable = true)\n |    |    |    |-- updated_at: string (nullable = true)\n |    |    |    |-- url: string (nullable = true)\n |    |    |-- node_id: string (nullable = true)\n |    |    |-- number: long (nullable = true)\n |    |    |-- performed_via_github_app: struct (nullable = true)\n |    |    |    |-- created_at: string (nullable = true)\n |    |    |    |-- description: string (nullable = true)\n |    |    |    |-- events: array (nullable = true)\n |    |    |    |    |-- element: string (containsNull = true)\n |    |    |    |-- external_url: string (nullable = true)\n |    |    |    |-- html_url: string (nullable = true)\n |    |    |    |-- id: long (nullable = true)\n |    |    |    |-- name: string (nullable = true)\n |    |    |    |-- node_id: string (nullable = true)\n |    |    |    |-- owner: struct (nullable = true)\n |    |    |    |    |-- avatar_url: string (nullable = true)\n |    |    |    |    |-- events_url: string (nullable = true)\n |    |    |    |    |-- followers_url: string (nullable = true)\n |    |    |    |    |-- following_url: string (nullable = true)\n |    |    |    |    |-- gists_url: string (nullable = true)\n |    |    |    |    |-- gravatar_id: string (nullable = true)\n |    |    |    |    |-- html_url: string (nullable = true)\n |    |    |    |    |-- id: long (nullable = true)\n |    |    |    |    |-- login: string (nullable = true)\n |    |    |    |    |-- node_id: string (nullable = true)\n |    |    |    |    |-- organizations_url: string (nullable = true)\n |    |    |    |    |-- received_events_url: string (nullable = true)\n |    |    |    |    |-- repos_url: string (nullable = true)\n |    |    |    |    |-- site_admin: boolean (nullable = true)\n |    |    |    |    |-- starred_url: string (nullable = true)\n |    |    |    |    |-- subscriptions_url: string (nullable = true)\n |    |    |    |    |-- type: string (nullable = true)\n |    |    |    |    |-- url: string (nullable = true)\n |    |    |    |-- permissions: struct (nullable = true)\n |    |    |    |    |-- actions: string (nullable = true)\n |    |    |    |    |-- administration: string (nullable = true)\n |    |    |    |    |-- checks: string (nullable = true)\n |    |    |    |    |-- codespace_metadata: string (nullable = true)\n |    |    |    |    |-- content_references: string (nullable = true)\n |    |    |    |    |-- contents: string (nullable = true)\n |    |    |    |    |-- deployments: string (nullable = true)\n |    |    |    |    |-- discussions: string (nullable = true)\n |    |    |    |    |-- emails: string (nullable = true)\n |    |    |    |    |-- followers: string (nullable = true)\n |    |    |    |    |-- gists: string (nullable = true)\n |    |    |    |    |-- issues: string (nullable = true)\n |    |    |    |    |-- keys: string (nullable = true)\n |    |    |    |    |-- members: string (nullable = true)\n |    |    |    |    |-- metadata: string (nullable = true)\n |    |    |    |    |-- organization_hooks: string (nullable = true)\n |    |    |    |    |-- organization_packages: string (nullable = true)\n |    |    |    |    |-- organization_projects: string (nullable = true)\n |    |    |    |    |-- organization_user_blocking: string (nullable = true)\n |    |    |    |    |-- packages: string (nullable = true)\n |    |    |    |    |-- pull_requests: string (nullable = true)\n |    |    |    |    |-- pull_requests_comment_only_reviews: string (nullable = true)\n |    |    |    |    |-- pull_requests_from_forks: string (nullable = true)\n |    |    |    |    |-- repository_hooks: string (nullable = true)\n |    |    |    |    |-- repository_projects: string (nullable = true)\n |    |    |    |    |-- single_file: string (nullable = true)\n |    |    |    |    |-- starring: string (nullable = true)\n |    |    |    |    |-- statuses: string (nullable = true)\n |    |    |    |    |-- team_discussions: string (nullable = true)\n |    |    |    |    |-- watching: string (nullable = true)\n |    |    |    |    |-- workflows: string (nullable = true)\n |    |    |    |-- slug: string (nullable = true)\n |    |    |    |-- updated_at: string (nullable = true)\n |    |    |-- pull_request: struct (nullable = true)\n |    |    |    |-- diff_url: string (nullable = true)\n |    |    |    |-- html_url: string (nullable = true)\n |    |    |    |-- merged_at: string (nullable = true)\n |    |    |    |-- patch_url: string (nullable = true)\n |    |    |    |-- url: string (nullable = true)\n |    |    |-- reactions: struct (nullable = true)\n |    |    |    |-- +1: long (nullable = true)\n |    |    |    |-- -1: long (nullable = true)\n |    |    |    |-- confused: long (nullable = true)\n |    |    |    |-- eyes: long (nullable = true)\n |    |    |    |-- heart: long (nullable = true)\n |    |    |    |-- hooray: long (nullable = true)\n |    |    |    |-- laugh: long (nullable = true)\n |    |    |    |-- rocket: long (nullable = true)\n |    |    |    |-- total_count: long (nullable = true)\n |    |    |    |-- url: string (nullable = true)\n |    |    |-- repository_url: string (nullable = true)\n |    |    |-- state: string (nullable = true)\n |    |    |-- timeline_url: string (nullable = true)\n |    |    |-- title: string (nullable = true)\n |    |    |-- updated_at: string (nullable = true)\n |    |    |-- url: string (nullable = true)\n |    |    |-- user: struct (nullable = true)\n |    |    |    |-- avatar_url: string (nullable = true)\n |    |    |    |-- events_url: string (nullable = true)\n |    |    |    |-- followers_url: string (nullable = true)\n |    |    |    |-- following_url: string (nullable = true)\n |    |    |    |-- gists_url: string (nullable = true)\n |    |    |    |-- gravatar_id: string (nullable = true)\n |    |    |    |-- html_url: string (nullable = true)\n |    |    |    |-- id: lon\n\n*** WARNING: max output size exceeded, skipping output. ***\n\n |    |    |    |-- node_id: string (nullable = true)\n |    |    |    |    |-- organizations_url: string (nullable = true)\n |    |    |    |    |-- received_events_url: string (nullable = true)\n |    |    |    |    |-- repos_url: string (nullable = true)\n |    |    |    |    |-- site_admin: boolean (nullable = true)\n |    |    |    |    |-- starred_url: string (nullable = true)\n |    |    |    |    |-- subscriptions_url: string (nullable = true)\n |    |    |    |    |-- type: string (nullable = true)\n |    |    |    |    |-- url: string (nullable = true)\n |    |    |-- body: string (nullable = true)\n |    |    |-- changed_files: long (nullable = true)\n |    |    |-- closed_at: string (nullable = true)\n |    |    |-- comments: long (nullable = true)\n |    |    |-- comments_url: string (nullable = true)\n |    |    |-- commits: long (nullable = true)\n |    |    |-- commits_url: string (nullable = true)\n |    |    |-- created_at: string (nullable = true)\n |    |    |-- deletions: long (nullable = true)\n |    |    |-- diff_url: string (nullable = true)\n |    |    |-- draft: boolean (nullable = true)\n |    |    |-- head: struct (nullable = true)\n |    |    |    |-- label: string (nullable = true)\n |    |    |    |-- ref: string (nullable = true)\n |    |    |    |-- repo: struct (nullable = true)\n |    |    |    |    |-- allow_forking: boolean (nullable = true)\n |    |    |    |    |-- archive_url: string (nullable = true)\n |    |    |    |    |-- archived: boolean (nullable = true)\n |    |    |    |    |-- assignees_url: string (nullable = true)\n |    |    |    |    |-- blobs_url: string (nullable = true)\n |    |    |    |    |-- branches_url: string (nullable = true)\n |    |    |    |    |-- clone_url: string (nullable = true)\n |    |    |    |    |-- collaborators_url: string (nullable = true)\n |    |    |    |    |-- comments_url: string (nullable = true)\n |    |    |    |    |-- commits_url: string (nullable = true)\n |    |    |    |    |-- compare_url: string (nullable = true)\n |    |    |    |    |-- contents_url: string (nullable = true)\n |    |    |    |    |-- contributors_url: string (nullable = true)\n |    |    |    |    |-- created_at: string (nullable = true)\n |    |    |    |    |-- default_branch: string (nullable = true)\n |    |    |    |    |-- deployments_url: string (nullable = true)\n |    |    |    |    |-- description: string (nullable = true)\n |    |    |    |    |-- disabled: boolean (nullable = true)\n |    |    |    |    |-- downloads_url: string (nullable = true)\n |    |    |    |    |-- events_url: string (nullable = true)\n |    |    |    |    |-- fork: boolean (nullable = true)\n |    |    |    |    |-- forks: long (nullable = true)\n |    |    |    |    |-- forks_count: long (nullable = true)\n |    |    |    |    |-- forks_url: string (nullable = true)\n |    |    |    |    |-- full_name: string (nullable = true)\n |    |    |    |    |-- git_commits_url: string (nullable = true)\n |    |    |    |    |-- git_refs_url: string (nullable = true)\n |    |    |    |    |-- git_tags_url: string (nullable = true)\n |    |    |    |    |-- git_url: string (nullable = true)\n |    |    |    |    |-- has_downloads: boolean (nullable = true)\n |    |    |    |    |-- has_issues: boolean (nullable = true)\n |    |    |    |    |-- has_pages: boolean (nullable = true)\n |    |    |    |    |-- has_projects: boolean (nullable = true)\n |    |    |    |    |-- has_wiki: boolean (nullable = true)\n |    |    |    |    |-- homepage: string (nullable = true)\n |    |    |    |    |-- hooks_url: string (nullable = true)\n |    |    |    |    |-- html_url: string (nullable = true)\n |    |    |    |    |-- id: long (nullable = true)\n |    |    |    |    |-- is_template: boolean (nullable = true)\n |    |    |    |    |-- issue_comment_url: string (nullable = true)\n |    |    |    |    |-- issue_events_url: string (nullable = true)\n |    |    |    |    |-- issues_url: string (nullable = true)\n |    |    |    |    |-- keys_url: string (nullable = true)\n |    |    |    |    |-- labels_url: string (nullable = true)\n |    |    |    |    |-- language: string (nullable = true)\n |    |    |    |    |-- languages_url: string (nullable = true)\n |    |    |    |    |-- license: struct (nullable = true)\n |    |    |    |    |    |-- key: string (nullable = true)\n |    |    |    |    |    |-- name: string (nullable = true)\n |    |    |    |    |    |-- node_id: string (nullable = true)\n |    |    |    |    |    |-- spdx_id: string (nullable = true)\n |    |    |    |    |    |-- url: string (nullable = true)\n |    |    |    |    |-- merges_url: string (nullable = true)\n |    |    |    |    |-- milestones_url: string (nullable = true)\n |    |    |    |    |-- mirror_url: string (nullable = true)\n |    |    |    |    |-- name: string (nullable = true)\n |    |    |    |    |-- node_id: string (nullable = true)\n |    |    |    |    |-- notifications_url: string (nullable = true)\n |    |    |    |    |-- open_issues: long (nullable = true)\n |    |    |    |    |-- open_issues_count: long (nullable = true)\n |    |    |    |    |-- owner: struct (nullable = true)\n |    |    |    |    |    |-- avatar_url: string (nullable = true)\n |    |    |    |    |    |-- events_url: string (nullable = true)\n |    |    |    |    |    |-- followers_url: string (nullable = true)\n |    |    |    |    |    |-- following_url: string (nullable = true)\n |    |    |    |    |    |-- gists_url: string (nullable = true)\n |    |    |    |    |    |-- gravatar_id: string (nullable = true)\n |    |    |    |    |    |-- html_url: string (nullable = true)\n |    |    |    |    |    |-- id: long (nullable = true)\n |    |    |    |    |    |-- login: string (nullable = true)\n |    |    |    |    |    |-- node_id: string (nullable = true)\n |    |    |    |    |    |-- organizations_url: string (nullable = true)\n |    |    |    |    |    |-- received_events_url: string (nullable = true)\n |    |    |    |    |    |-- repos_url: string (nullable = true)\n |    |    |    |    |    |-- site_admin: boolean (nullable = true)\n |    |    |    |    |    |-- starred_url: string (nullable = true)\n |    |    |    |    |    |-- subscriptions_url: string (nullable = true)\n |    |    |    |    |    |-- type: string (nullable = true)\n |    |    |    |    |    |-- url: string (nullable = true)\n |    |    |    |    |-- private: boolean (nullable = true)\n |    |    |    |    |-- pulls_url: string (nullable = true)\n |    |    |    |    |-- pushed_at: string (nullable = true)\n |    |    |    |    |-- releases_url: string (nullable = true)\n |    |    |    |    |-- size: long (nullable = true)\n |    |    |    |    |-- ssh_url: string (nullable = true)\n |    |    |    |    |-- stargazers_count: long (nullable = true)\n |    |    |    |    |-- stargazers_url: string (nullable = true)\n |    |    |    |    |-- statuses_url: string (nullable = true)\n |    |    |    |    |-- subscribers_url: string (nullable = true)\n |    |    |    |    |-- subscription_url: string (nullable = true)\n |    |    |    |    |-- svn_url: string (nullable = true)\n |    |    |    |    |-- tags_url: string (nullable = true)\n |    |    |    |    |-- teams_url: string (nullable = true)\n |    |    |    |    |-- topics: array (nullable = true)\n |    |    |    |    |    |-- element: string (containsNull = true)\n |    |    |    |    |-- trees_url: string (nullable = true)\n |    |    |    |    |-- updated_at: string (nullable = true)\n |    |    |    |    |-- url: string (nullable = true)\n |    |    |    |    |-- visibility: string (nullable = true)\n |    |    |    |    |-- watchers: long (nullable = true)\n |    |    |    |    |-- watchers_count: long (nullable = true)\n |    |    |    |-- sha: string (nullable = true)\n |    |    |    |-- user: struct (nullable = true)\n |    |    |    |    |-- avatar_url: string (nullable = true)\n |    |    |    |    |-- events_url: string (nullable = true)\n |    |    |    |    |-- followers_url: string (nullable = true)\n |    |    |    |    |-- following_url: string (nullable = true)\n |    |    |    |    |-- gists_url: string (nullable = true)\n |    |    |    |    |-- gravatar_id: string (nullable = true)\n |    |    |    |    |-- html_url: string (nullable = true)\n |    |    |    |    |-- id: long (nullable = true)\n |    |    |    |    |-- login: string (nullable = true)\n |    |    |    |    |-- node_id: string (nullable = true)\n |    |    |    |    |-- organizations_url: string (nullable = true)\n |    |    |    |    |-- received_events_url: string (nullable = true)\n |    |    |    |    |-- repos_url: string (nullable = true)\n |    |    |    |    |-- site_admin: boolean (nullable = true)\n |    |    |    |    |-- starred_url: string (nullable = true)\n |    |    |    |    |-- subscriptions_url: string (nullable = true)\n |    |    |    |    |-- type: string (nullable = true)\n |    |    |    |    |-- url: string (nullable = true)\n |    |    |-- html_url: string (nullable = true)\n |    |    |-- id: long (nullable = true)\n |    |    |-- issue_url: string (nullable = true)\n |    |    |-- labels: array (nullable = true)\n |    |    |    |-- element: struct (containsNull = true)\n |    |    |    |    |-- color: string (nullable = true)\n |    |    |    |    |-- default: boolean (nullable = true)\n |    |    |    |    |-- description: string (nullable = true)\n |    |    |    |    |-- id: long (nullable = true)\n |    |    |    |    |-- name: string (nullable = true)\n |    |    |    |    |-- node_id: string (nullable = true)\n |    |    |    |    |-- url: string (nullable = true)\n |    |    |-- locked: boolean (nullable = true)\n |    |    |-- maintainer_can_modify: boolean (nullable = true)\n |    |    |-- merge_commit_sha: string (nullable = true)\n |    |    |-- mergeable: boolean (nullable = true)\n |    |    |-- mergeable_state: string (nullable = true)\n |    |    |-- merged: boolean (nullable = true)\n |    |    |-- merged_at: string (nullable = true)\n |    |    |-- merged_by: struct (nullable = true)\n |    |    |    |-- avatar_url: string (nullable = true)\n |    |    |    |-- events_url: string (nullable = true)\n |    |    |    |-- followers_url: string (nullable = true)\n |    |    |    |-- following_url: string (nullable = true)\n |    |    |    |-- gists_url: string (nullable = true)\n |    |    |    |-- gravatar_id: string (nullable = true)\n |    |    |    |-- html_url: string (nullable = true)\n |    |    |    |-- id: long (nullable = true)\n |    |    |    |-- login: string (nullable = true)\n |    |    |    |-- node_id: string (nullable = true)\n |    |    |    |-- organizations_url: string (nullable = true)\n |    |    |    |-- received_events_url: string (nullable = true)\n |    |    |    |-- repos_url: string (nullable = true)\n |    |    |    |-- site_admin: boolean (nullable = true)\n |    |    |    |-- starred_url: string (nullable = true)\n |    |    |    |-- subscriptions_url: string (nullable = true)\n |    |    |    |-- type: string (nullable = true)\n |    |    |    |-- url: string (nullable = true)\n |    |    |-- milestone: struct (nullable = true)\n |    |    |    |-- closed_at: string (nullable = true)\n |    |    |    |-- closed_issues: long (nullable = true)\n |    |    |    |-- created_at: string (nullable = true)\n |    |    |    |-- creator: struct (nullable = true)\n |    |    |    |    |-- avatar_url: string (nullable = true)\n |    |    |    |    |-- events_url: string (nullable = true)\n |    |    |    |    |-- followers_url: string (nullable = true)\n |    |    |    |    |-- following_url: string (nullable = true)\n |    |    |    |    |-- gists_url: string (nullable = true)\n |    |    |    |    |-- gravatar_id: string (nullable = true)\n |    |    |    |    |-- html_url: string (nullable = true)\n |    |    |    |    |-- id: long (nullable = true)\n |    |    |    |    |-- login: string (nullable = true)\n |    |    |    |    |-- node_id: string (nullable = true)\n |    |    |    |    |-- organizations_url: string (nullable = true)\n |    |    |    |    |-- received_events_url: string (nullable = true)\n |    |    |    |    |-- repos_url: string (nullable = true)\n |    |    |    |    |-- site_admin: boolean (nullable = true)\n |    |    |    |    |-- starred_url: string (nullable = true)\n |    |    |    |    |-- subscriptions_url: string (nullable = true)\n |    |    |    |    |-- type: string (nullable = true)\n |    |    |    |    |-- url: string (nullable = true)\n |    |    |    |-- description: string (nullable = true)\n |    |    |    |-- due_on: string (nullable = true)\n |    |    |    |-- html_url: string (nullable = true)\n |    |    |    |-- id: long (nullable = true)\n |    |    |    |-- labels_url: string (nullable = true)\n |    |    |    |-- node_id: string (nullable = true)\n |    |    |    |-- number: long (nullable = true)\n |    |    |    |-- open_issues: long (nullable = true)\n |    |    |    |-- state: string (nullable = true)\n |    |    |    |-- title: string (nullable = true)\n |    |    |    |-- updated_at: string (nullable = true)\n |    |    |    |-- url: string (nullable = true)\n |    |    |-- node_id: string (nullable = true)\n |    |    |-- number: long (nullable = true)\n |    |    |-- patch_url: string (nullable = true)\n |    |    |-- rebaseable: boolean (nullable = true)\n |    |    |-- requested_reviewers: array (nullable = true)\n |    |    |    |-- element: struct (containsNull = true)\n |    |    |    |    |-- avatar_url: string (nullable = true)\n |    |    |    |    |-- events_url: string (nullable = true)\n |    |    |    |    |-- followers_url: string (nullable = true)\n |    |    |    |    |-- following_url: string (nullable = true)\n |    |    |    |    |-- gists_url: string (nullable = true)\n |    |    |    |    |-- gravatar_id: string (nullable = true)\n |    |    |    |    |-- html_url: string (nullable = true)\n |    |    |    |    |-- id: long (nullable = true)\n |    |    |    |    |-- login: string (nullable = true)\n |    |    |    |    |-- node_id: string (nullable = true)\n |    |    |    |    |-- organizations_url: string (nullable = true)\n |    |    |    |    |-- received_events_url: string (nullable = true)\n |    |    |    |    |-- repos_url: string (nullable = true)\n |    |    |    |    |-- site_admin: boolean (nullable = true)\n |    |    |    |    |-- starred_url: string (nullable = true)\n |    |    |    |    |-- subscriptions_url: string (nullable = true)\n |    |    |    |    |-- type: string (nullable = true)\n |    |    |    |    |-- url: string (nullable = true)\n |    |    |-- requested_teams: array (nullable = true)\n |    |    |    |-- element: struct (containsNull = true)\n |    |    |    |    |-- description: string (nullable = true)\n |    |    |    |    |-- html_url: string (nullable = true)\n |    |    |    |    |-- id: long (nullable = true)\n |    |    |    |    |-- members_url: string (nullable = true)\n |    |    |    |    |-- name: string (nullable = true)\n |    |    |    |    |-- node_id: string (nullable = true)\n |    |    |    |    |-- parent: struct (nullable = true)\n |    |    |    |    |    |-- description: string (nullable = true)\n |    |    |    |    |    |-- html_url: string (nullable = true)\n |    |    |    |    |    |-- id: long (nullable = true)\n |    |    |    |    |    |-- members_url: string (nullable = true)\n |    |    |    |    |    |-- name: string (nullable = true)\n |    |    |    |    |    |-- node_id: string (nullable = true)\n |    |    |    |    |    |-- permission: string (nullable = true)\n |    |    |    |    |    |-- privacy: string (nullable = true)\n |    |    |    |    |    |-- repositories_url: string (nullable = true)\n |    |    |    |    |    |-- slug: string (nullable = true)\n |    |    |    |    |    |-- url: string (nullable = true)\n |    |    |    |    |-- permission: string (nullable = true)\n |    |    |    |    |-- privacy: string (nullable = true)\n |    |    |    |    |-- repositories_url: string (nullable = true)\n |    |    |    |    |-- slug: string (nullable = true)\n |    |    |    |    |-- url: string (nullable = true)\n |    |    |-- review_comment_url: string (nullable = true)\n |    |    |-- review_comments: long (nullable = true)\n |    |    |-- review_comments_url: string (nullable = true)\n |    |    |-- state: string (nullable = true)\n |    |    |-- statuses_url: string (nullable = true)\n |    |    |-- title: string (nullable = true)\n |    |    |-- updated_at: string (nullable = true)\n |    |    |-- url: string (nullable = true)\n |    |    |-- user: struct (nullable = true)\n |    |    |    |-- avatar_url: string (nullable = true)\n |    |    |    |-- events_url: string (nullable = true)\n |    |    |    |-- followers_url: string (nullable = true)\n |    |    |    |-- following_url: string (nullable = true)\n |    |    |    |-- gists_url: string (nullable = true)\n |    |    |    |-- gravatar_id: string (nullable = true)\n |    |    |    |-- html_url: string (nullable = true)\n |    |    |    |-- id: long (nullable = true)\n |    |    |    |-- login: string (nullable = true)\n |    |    |    |-- node_id: string (nullable = true)\n |    |    |    |-- organizations_url: string (nullable = true)\n |    |    |    |-- received_events_url: string (nullable = true)\n |    |    |    |-- repos_url: string (nullable = true)\n |    |    |    |-- site_admin: boolean (nullable = true)\n |    |    |    |-- starred_url: string (nullable = true)\n |    |    |    |-- subscriptions_url: string (nullable = true)\n |    |    |    |-- type: string (nullable = true)\n |    |    |    |-- url: string (nullable = true)\n |    |-- push_id: long (nullable = true)\n |    |-- pusher_type: string (nullable = true)\n |    |-- ref: string (nullable = true)\n |    |-- ref_type: string (nullable = true)\n |    |-- release: struct (nullable = true)\n |    |    |-- assets: array (nullable = true)\n |    |    |    |-- element: struct (containsNull = true)\n |    |    |    |    |-- browser_download_url: string (nullable = true)\n |    |    |    |    |-- content_type: string (nullable = true)\n |    |    |    |    |-- created_at: string (nullable = true)\n |    |    |    |    |-- download_count: long (nullable = true)\n |    |    |    |    |-- id: long (nullable = true)\n |    |    |    |    |-- label: string (nullable = true)\n |    |    |    |    |-- name: string (nullable = true)\n |    |    |    |    |-- node_id: string (nullable = true)\n |    |    |    |    |-- size: long (nullable = true)\n |    |    |    |    |-- state: string (nullable = true)\n |    |    |    |    |-- updated_at: string (nullable = true)\n |    |    |    |    |-- uploader: struct (nullable = true)\n |    |    |    |    |    |-- avatar_url: string (nullable = true)\n |    |    |    |    |    |-- events_url: string (nullable = true)\n |    |    |    |    |    |-- followers_url: string (nullable = true)\n |    |    |    |    |    |-- following_url: string (nullable = true)\n |    |    |    |    |    |-- gists_url: string (nullable = true)\n |    |    |    |    |    |-- gravatar_id: string (nullable = true)\n |    |    |    |    |    |-- html_url: string (nullable = true)\n |    |    |    |    |    |-- id: long (nullable = true)\n |    |    |    |    |    |-- login: string (nullable = true)\n |    |    |    |    |    |-- node_id: string (nullable = true)\n |    |    |    |    |    |-- organizations_url: string (nullable = true)\n |    |    |    |    |    |-- received_events_url: string (nullable = true)\n |    |    |    |    |    |-- repos_url: string (nullable = true)\n |    |    |    |    |    |-- site_admin: boolean (nullable = true)\n |    |    |    |    |    |-- starred_url: string (nullable = true)\n |    |    |    |    |    |-- subscriptions_url: string (nullable = true)\n |    |    |    |    |    |-- type: string (nullable = true)\n |    |    |    |    |    |-- url: string (nullable = true)\n |    |    |    |    |-- url: string (nullable = true)\n |    |    |-- assets_url: string (nullable = true)\n |    |    |-- author: struct (nullable = true)\n |    |    |    |-- avatar_url: string (nullable = true)\n |    |    |    |-- events_url: string (nullable = true)\n |    |    |    |-- followers_url: string (nullable = true)\n |    |    |    |-- following_url: string (nullable = true)\n |    |    |    |-- gists_url: string (nullable = true)\n |    |    |    |-- gravatar_id: string (nullable = true)\n |    |    |    |-- html_url: string (nullable = true)\n |    |    |    |-- id: long (nullable = true)\n |    |    |    |-- login: string (nullable = true)\n |    |    |    |-- node_id: string (nullable = true)\n |    |    |    |-- organizations_url: string (nullable = true)\n |    |    |    |-- received_events_url: string (nullable = true)\n |    |    |    |-- repos_url: string (nullable = true)\n |    |    |    |-- site_admin: boolean (nullable = true)\n |    |    |    |-- starred_url: string (nullable = true)\n |    |    |    |-- subscriptions_url: string (nullable = true)\n |    |    |    |-- type: string (nullable = true)\n |    |    |    |-- url: string (nullable = true)\n |    |    |-- body: string (nullable = true)\n |    |    |-- created_at: string (nullable = true)\n |    |    |-- discussion_url: string (nullable = true)\n |    |    |-- draft: boolean (nullable = true)\n |    |    |-- html_url: string (nullable = true)\n |    |    |-- id: long (nullable = true)\n |    |    |-- is_short_description_html_truncated: boolean (nullable = true)\n |    |    |-- mentions: array (nullable = true)\n |    |    |    |-- element: struct (containsNull = true)\n |    |    |    |    |-- avatar_url: string (nullable = true)\n |    |    |    |    |-- avatar_user_actor: boolean (nullable = true)\n |    |    |    |    |-- login: string (nullable = true)\n |    |    |    |    |-- profile_name: string (nullable = true)\n |    |    |    |    |-- profile_url: string (nullable = true)\n |    |    |-- mentions_count: long (nullable = true)\n |    |    |-- name: string (nullable = true)\n |    |    |-- node_id: string (nullable = true)\n |    |    |-- prerelease: boolean (nullable = true)\n |    |    |-- published_at: string (nullable = true)\n |    |    |-- reactions: struct (nullable = true)\n |    |    |    |-- +1: long (nullable = true)\n |    |    |    |-- -1: long (nullable = true)\n |    |    |    |-- confused: long (nullable = true)\n |    |    |    |-- eyes: long (nullable = true)\n |    |    |    |-- heart: long (nullable = true)\n |    |    |    |-- hooray: long (nullable = true)\n |    |    |    |-- laugh: long (nullable = true)\n |    |    |    |-- rocket: long (nullable = true)\n |    |    |    |-- total_count: long (nullable = true)\n |    |    |    |-- url: string (nullable = true)\n |    |    |-- short_description_html: string (nullable = true)\n |    |    |-- tag_name: string (nullable = true)\n |    |    |-- tarball_url: string (nullable = true)\n |    |    |-- target_commitish: string (nullable = true)\n |    |    |-- upload_url: string (nullable = true)\n |    |    |-- url: string (nullable = true)\n |    |    |-- zipball_url: string (nullable = true)\n |    |-- review: struct (nullable = true)\n |    |    |-- _links: struct (nullable = true)\n |    |    |    |-- html: struct (nullable = true)\n |    |    |    |    |-- href: string (nullable = true)\n |    |    |    |-- pull_request: struct (nullable = true)\n |    |    |    |    |-- href: string (nullable = true)\n |    |    |-- author_association: string (nullable = true)\n |    |    |-- body: string (nullable = true)\n |    |    |-- commit_id: string (nullable = true)\n |    |    |-- html_url: string (nullable = true)\n |    |    |-- id: long (nullable = true)\n |    |    |-- node_id: string (nullable = true)\n |    |    |-- pull_request_url: string (nullable = true)\n |    |    |-- state: string (nullable = true)\n |    |    |-- submitted_at: string (nullable = true)\n |    |    |-- user: struct (nullable = true)\n |    |    |    |-- avatar_url: string (nullable = true)\n |    |    |    |-- events_url: string (nullable = true)\n |    |    |    |-- followers_url: string (nullable = true)\n |    |    |    |-- following_url: string (nullable = true)\n |    |    |    |-- gists_url: string (nullable = true)\n |    |    |    |-- gravatar_id: string (nullable = true)\n |    |    |    |-- html_url: string (nullable = true)\n |    |    |    |-- id: long (nullable = true)\n |    |    |    |-- login: string (nullable = true)\n |    |    |    |-- node_id: string (nullable = true)\n |    |    |    |-- organizations_url: string (nullable = true)\n |    |    |    |-- received_events_url: string (nullable = true)\n |    |    |    |-- repos_url: string (nullable = true)\n |    |    |    |-- site_admin: boolean (nullable = true)\n |    |    |    |-- starred_url: string (nullable = true)\n |    |    |    |-- subscriptions_url: string (nullable = true)\n |    |    |    |-- type: string (nullable = true)\n |    |    |    |-- url: string (nullable = true)\n |    |-- size: long (nullable = true)\n |-- public: boolean (nullable = true)\n |-- repo: struct (nullable = true)\n |    |-- id: long (nullable = true)\n |    |-- name: string (nullable = true)\n |    |-- url: string (nullable = true)\n |-- type: string (nullable = true)\n\n"
     ]
    }
   ],
   "source": [
    "# Print the schema of the bronze layer\n",
    "brz_df.printSchema()"
   ]
  },
  {
   "cell_type": "markdown",
   "metadata": {
    "application/vnd.databricks.v1+cell": {
     "cellMetadata": {
      "byteLimit": 2048000,
      "rowLimit": 10000
     },
     "inputWidgets": {},
     "nuid": "92283dc3-52d9-4075-aaaf-16a1fcb0a2a0",
     "showTitle": false,
     "title": ""
    }
   },
   "source": [
    "## Flatten the bronze table"
   ]
  },
  {
   "cell_type": "code",
   "execution_count": 0,
   "metadata": {
    "application/vnd.databricks.v1+cell": {
     "cellMetadata": {
      "byteLimit": 2048000,
      "rowLimit": 10000
     },
     "inputWidgets": {},
     "nuid": "8cdab9db-2374-4c81-9e98-4fdbeea02bee",
     "showTitle": false,
     "title": ""
    }
   },
   "outputs": [],
   "source": [
    "# flatten actor column\n",
    "\n",
    "actor_flattened_df = brz_df.select(\n",
    "    col(\"actor.*\"),\n",
    "    col(\"created_at\"),\n",
    "    col(\"event_id\"),\n",
    "    col(\"org\"),\n",
    "    col(\"payload\"),\n",
    "    col(\"public\"),\n",
    "    col(\"repo\"),\n",
    "    col(\"type\")\n",
    ")\n",
    "\n",
    "actor_flattened_df = (actor_flattened_df.withColumnRenamed(\"avatar_url\", \"actor_avatar_url\").withColumnRenamed(\"gravatar_id\", \"actor_gravatar_id\").withColumnRenamed(\"id\", \"actor_id\").withColumnRenamed(\"login\", \"actor_login\").withColumnRenamed(\"url\", \"actor_url\").withColumnRenamed(\"display_login\", \"actor_display_login\"))   \n",
    "\n",
    "# actor_flattened_df.printSchema()"
   ]
  },
  {
   "cell_type": "code",
   "execution_count": 0,
   "metadata": {
    "application/vnd.databricks.v1+cell": {
     "cellMetadata": {
      "byteLimit": 2048000,
      "rowLimit": 10000
     },
     "inputWidgets": {},
     "nuid": "447ecf0d-6d17-458a-950e-4cd0fceabf5d",
     "showTitle": false,
     "title": ""
    }
   },
   "outputs": [],
   "source": [
    "# flatten org column\n",
    "\n",
    "org_flattened_df = actor_flattened_df.select(\n",
    "    col(\"actor_avatar_url\"),\n",
    "    col(\"actor_display_login\"),\n",
    "    col(\"actor_gravatar_id\"),\n",
    "    col(\"actor_id\"),\n",
    "    col(\"actor_login\"),\n",
    "    col(\"actor_url\"),\n",
    "    col(\"created_at\"),\n",
    "    col(\"event_id\"),\n",
    "    col(\"org.*\"),\n",
    "    col(\"payload\"),\n",
    "    col(\"public\"),\n",
    "    col(\"repo\"),\n",
    "    col(\"type\"),\n",
    ")\n",
    "\n",
    "org_flattened_df = (org_flattened_df.withColumnRenamed(\"id\", \"org_id\").withColumnRenamed(\"url\", \"org_url\").withColumnRenamed(\"avatar_url\", \"org_avatar_url\").withColumnRenamed(\"gravatar_id\", \"org_gravatar_id\").withColumnRenamed(\"login\", \"org_login\"))   \n",
    "\n",
    "# org_flattened_df.printSchema()"
   ]
  },
  {
   "cell_type": "code",
   "execution_count": 0,
   "metadata": {
    "application/vnd.databricks.v1+cell": {
     "cellMetadata": {
      "byteLimit": 2048000,
      "rowLimit": 10000
     },
     "inputWidgets": {},
     "nuid": "886bd0f4-e598-4099-a10a-faab57ddfcbd",
     "showTitle": false,
     "title": ""
    }
   },
   "outputs": [],
   "source": [
    "# flatten repo column\n",
    "\n",
    "flattened_df = org_flattened_df.select(\n",
    "    col(\"actor_avatar_url\"),\n",
    "    col(\"actor_display_login\"),\n",
    "    col(\"actor_gravatar_id\"),\n",
    "    col(\"actor_id\"),\n",
    "    col(\"actor_login\"),\n",
    "    col(\"actor_url\"),\n",
    "    col(\"created_at\"),\n",
    "    col(\"event_id\"),\n",
    "    col(\"org_avatar_url\"),\n",
    "    col(\"org_gravatar_id\"),\n",
    "    col(\"org_id\"),\n",
    "    col(\"org_login\"),\n",
    "    col(\"org_url\"),\n",
    "    col(\"payload\"),\n",
    "    col(\"public\"),\n",
    "    col(\"repo.*\"),\n",
    "    col(\"type\"),\n",
    ")\n",
    "\n",
    "flattened_df = (flattened_df.withColumnRenamed(\"struct\", \"repo_struct\").withColumnRenamed(\"id\", \"repo_id\").withColumnRenamed(\"name\", \"repo_name\").withColumnRenamed(\"url\", \"repo_url\"))\n",
    " \n",
    "\n",
    "# flattened_df.printSchema()"
   ]
  },
  {
   "cell_type": "code",
   "execution_count": 0,
   "metadata": {
    "application/vnd.databricks.v1+cell": {
     "cellMetadata": {
      "byteLimit": 2048000,
      "rowLimit": 10000
     },
     "inputWidgets": {},
     "nuid": "9695b742-9bd1-4868-911c-6d6f6c4a62d2",
     "showTitle": false,
     "title": ""
    }
   },
   "outputs": [
    {
     "output_type": "execute_result",
     "data": {
      "text/plain": [
       "['actor_avatar_url',\n",
       " 'actor_display_login',\n",
       " 'actor_gravatar_id',\n",
       " 'actor_id',\n",
       " 'actor_login',\n",
       " 'actor_url',\n",
       " 'created_at',\n",
       " 'event_id',\n",
       " 'org_avatar_url',\n",
       " 'org_gravatar_id',\n",
       " 'org_id',\n",
       " 'org_login',\n",
       " 'org_url',\n",
       " 'payload',\n",
       " 'public',\n",
       " 'repo_id',\n",
       " 'repo_name',\n",
       " 'repo_url',\n",
       " 'type']"
      ]
     },
     "execution_count": 17,
     "metadata": {},
     "output_type": "execute_result"
    }
   ],
   "source": [
    "flattened_df.columns"
   ]
  },
  {
   "cell_type": "code",
   "execution_count": 0,
   "metadata": {
    "application/vnd.databricks.v1+cell": {
     "cellMetadata": {
      "byteLimit": 2048000,
      "rowLimit": 10000
     },
     "inputWidgets": {},
     "nuid": "164ba7f8-6cd9-4402-a0f6-8f88c1c2b106",
     "showTitle": false,
     "title": ""
    }
   },
   "outputs": [],
   "source": [
    "# Public column in the table can be dropped because it only has one value: True.\n",
    "# flattened_df.select(\"public\").distinct().collect()"
   ]
  },
  {
   "cell_type": "code",
   "execution_count": 0,
   "metadata": {
    "application/vnd.databricks.v1+cell": {
     "cellMetadata": {
      "byteLimit": 2048000,
      "rowLimit": 10000
     },
     "inputWidgets": {},
     "nuid": "75798de7-6f2e-4e34-ac18-aa47c840f52f",
     "showTitle": false,
     "title": ""
    }
   },
   "outputs": [],
   "source": [
    "flattened_df = flattened_df.drop(\"public\")"
   ]
  },
  {
   "cell_type": "markdown",
   "metadata": {
    "application/vnd.databricks.v1+cell": {
     "cellMetadata": {
      "byteLimit": 2048000,
      "rowLimit": 10000
     },
     "inputWidgets": {},
     "nuid": "c7ce41c0-7a2b-4382-9445-2328f357154b",
     "showTitle": false,
     "title": ""
    }
   },
   "source": [
    "## Explore the Payload column separately"
   ]
  },
  {
   "cell_type": "code",
   "execution_count": 0,
   "metadata": {
    "application/vnd.databricks.v1+cell": {
     "cellMetadata": {
      "byteLimit": 2048000,
      "rowLimit": 10000
     },
     "inputWidgets": {},
     "nuid": "8161b00e-2af1-40ac-bf5d-d0fe610cba57",
     "showTitle": false,
     "title": ""
    }
   },
   "outputs": [],
   "source": [
    "payload_df = flattened_df.select(\"payload.*\")\n",
    "# payload_df.printSchema()"
   ]
  },
  {
   "cell_type": "code",
   "execution_count": 0,
   "metadata": {
    "application/vnd.databricks.v1+cell": {
     "cellMetadata": {
      "byteLimit": 2048000,
      "rowLimit": 10000
     },
     "inputWidgets": {},
     "nuid": "a115efaf-d191-4d38-a4bb-b1746bcd9fd7",
     "showTitle": false,
     "title": ""
    }
   },
   "outputs": [
    {
     "output_type": "execute_result",
     "data": {
      "text/plain": [
       "['action',\n",
       " 'before',\n",
       " 'comment',\n",
       " 'commits',\n",
       " 'description',\n",
       " 'distinct_size',\n",
       " 'forkee',\n",
       " 'head',\n",
       " 'issue',\n",
       " 'master_branch',\n",
       " 'member',\n",
       " 'number',\n",
       " 'pages',\n",
       " 'pull_request',\n",
       " 'push_id',\n",
       " 'pusher_type',\n",
       " 'ref',\n",
       " 'ref_type',\n",
       " 'release',\n",
       " 'review',\n",
       " 'size']"
      ]
     },
     "execution_count": 21,
     "metadata": {},
     "output_type": "execute_result"
    }
   ],
   "source": [
    "payload_df.columns"
   ]
  },
  {
   "cell_type": "code",
   "execution_count": 0,
   "metadata": {
    "application/vnd.databricks.v1+cell": {
     "cellMetadata": {
      "byteLimit": 2048000,
      "rowLimit": 10000
     },
     "collapsed": true,
     "inputWidgets": {},
     "nuid": "ddd4ff4d-7e44-4c5a-8edd-c5738d7dbd27",
     "showTitle": false,
     "title": ""
    }
   },
   "outputs": [],
   "source": [
    "# Create a DataFrame to display null counts\n",
    "# null_counts_df = spark.createDataFrame([(col, count) for col, count in zip(payload_df.columns, null_counts)], [\"Column\", \"Null_Count\"])\n",
    "# null_counts_df.show()"
   ]
  },
  {
   "cell_type": "markdown",
   "metadata": {
    "application/vnd.databricks.v1+cell": {
     "cellMetadata": {
      "byteLimit": 2048000,
      "rowLimit": 10000
     },
     "inputWidgets": {},
     "nuid": "1926fe48-82f9-4e2a-a80d-0f6c6ef4895e",
     "showTitle": false,
     "title": ""
    }
   },
   "source": [
    "# ERD Tables"
   ]
  },
  {
   "cell_type": "markdown",
   "metadata": {
    "application/vnd.databricks.v1+cell": {
     "cellMetadata": {
      "byteLimit": 2048000,
      "rowLimit": 10000
     },
     "inputWidgets": {},
     "nuid": "d3e14233-291d-4854-8176-2d4658598136",
     "showTitle": false,
     "title": ""
    }
   },
   "source": [
    "## Event_Table"
   ]
  },
  {
   "cell_type": "code",
   "execution_count": 0,
   "metadata": {
    "application/vnd.databricks.v1+cell": {
     "cellMetadata": {
      "byteLimit": 2048000,
      "rowLimit": 10000
     },
     "inputWidgets": {},
     "nuid": "9e5d3283-22f8-47a1-ad36-a0f4a4dd74d8",
     "showTitle": false,
     "title": ""
    }
   },
   "outputs": [],
   "source": [
    "Event_Table = flattened_df.select(\n",
    "col(\"event_id\"),\n",
    "col(\"created_at\"),\n",
    "col(\"actor_id\"),\n",
    "col(\"org_id\"),\n",
    "col(\"type\"),\n",
    "col(\"repo_id\")\n",
    ")\n",
    "\n",
    "# Event_Table.printSchema()"
   ]
  },
  {
   "cell_type": "code",
   "execution_count": 0,
   "metadata": {
    "application/vnd.databricks.v1+cell": {
     "cellMetadata": {
      "byteLimit": 2048000,
      "rowLimit": 10000
     },
     "inputWidgets": {},
     "nuid": "b3da0b8c-777b-4ebf-b48f-83f616632227",
     "showTitle": false,
     "title": ""
    }
   },
   "outputs": [],
   "source": [
    "# Event_Table.limit(10).display()"
   ]
  },
  {
   "cell_type": "code",
   "execution_count": 0,
   "metadata": {
    "application/vnd.databricks.v1+cell": {
     "cellMetadata": {
      "byteLimit": 2048000,
      "rowLimit": 10000
     },
     "inputWidgets": {},
     "nuid": "9c53151a-d69d-43b5-8953-1e4742ae693f",
     "showTitle": false,
     "title": ""
    }
   },
   "outputs": [],
   "source": [
    "# check_Missing_Val(Event_Table)   # "
   ]
  },
  {
   "cell_type": "code",
   "execution_count": 0,
   "metadata": {
    "application/vnd.databricks.v1+cell": {
     "cellMetadata": {
      "byteLimit": 2048000,
      "rowLimit": 10000
     },
     "inputWidgets": {},
     "nuid": "5ebafaa6-db1b-4c66-a1d7-45e72805cb94",
     "showTitle": false,
     "title": ""
    }
   },
   "outputs": [],
   "source": [
    "# Event_Table.count()"
   ]
  },
  {
   "cell_type": "code",
   "execution_count": 0,
   "metadata": {
    "application/vnd.databricks.v1+cell": {
     "cellMetadata": {
      "byteLimit": 2048000,
      "rowLimit": 10000
     },
     "inputWidgets": {},
     "nuid": "73ffdf93-3ab8-4818-8930-39d7c7979bae",
     "showTitle": false,
     "title": ""
    }
   },
   "outputs": [],
   "source": [
    "\n",
    "# fillnas with 0\n",
    "Event_Table = Event_Table.fillna(0, subset=[\"org_id\"])"
   ]
  },
  {
   "cell_type": "code",
   "execution_count": 0,
   "metadata": {
    "application/vnd.databricks.v1+cell": {
     "cellMetadata": {
      "byteLimit": 2048000,
      "rowLimit": 10000
     },
     "inputWidgets": {},
     "nuid": "fbb41cea-65ba-4dc5-aadd-3d6e19f955f4",
     "showTitle": false,
     "title": ""
    }
   },
   "outputs": [],
   "source": [
    "# Event_Table.printSchema()"
   ]
  },
  {
   "cell_type": "code",
   "execution_count": 0,
   "metadata": {
    "application/vnd.databricks.v1+cell": {
     "cellMetadata": {
      "byteLimit": 2048000,
      "rowLimit": 10000
     },
     "inputWidgets": {},
     "nuid": "e301f05a-bfe2-4c7a-8d8d-aae2c149c8a8",
     "showTitle": false,
     "title": ""
    }
   },
   "outputs": [],
   "source": [
    "# check_Unique(Event_Table, \"event_id\")"
   ]
  },
  {
   "cell_type": "code",
   "execution_count": 0,
   "metadata": {
    "application/vnd.databricks.v1+cell": {
     "cellMetadata": {
      "byteLimit": 2048000,
      "rowLimit": 10000
     },
     "inputWidgets": {},
     "nuid": "e6939b05-1bb4-467c-9889-03e3998b1346",
     "showTitle": false,
     "title": ""
    }
   },
   "outputs": [],
   "source": [
    "#Convert the \"created_at\" column from string type to timestamp:\n",
    "\n",
    "Event_Table = Event_Table.withColumn(\"created_at\", col(\"created_at\").cast(\"timestamp\"))\n",
    "# print(Event_Table.schema[\"created_at\"].dataType)"
   ]
  },
  {
   "cell_type": "code",
   "execution_count": 0,
   "metadata": {
    "application/vnd.databricks.v1+cell": {
     "cellMetadata": {
      "byteLimit": 2048000,
      "rowLimit": 10000
     },
     "inputWidgets": {},
     "nuid": "db83ba30-87c8-42fb-8bd5-1b10ee2b6d60",
     "showTitle": false,
     "title": ""
    }
   },
   "outputs": [],
   "source": [
    "# Event_Table.limit(10).display()"
   ]
  },
  {
   "cell_type": "markdown",
   "metadata": {
    "application/vnd.databricks.v1+cell": {
     "cellMetadata": {
      "byteLimit": 2048000,
      "rowLimit": 10000
     },
     "inputWidgets": {},
     "nuid": "352a1809-28f7-42b1-8689-c97e09f08633",
     "showTitle": false,
     "title": ""
    }
   },
   "source": [
    "## Repo_df"
   ]
  },
  {
   "cell_type": "code",
   "execution_count": 0,
   "metadata": {
    "application/vnd.databricks.v1+cell": {
     "cellMetadata": {
      "byteLimit": 2048000,
      "rowLimit": 10000
     },
     "inputWidgets": {},
     "nuid": "3671c1b1-e2d6-4100-93f1-f01b0170515e",
     "showTitle": false,
     "title": ""
    }
   },
   "outputs": [],
   "source": [
    "repo_df = flattened_df.select('repo_id','repo_name','repo_url')\n",
    "# repo_df.printSchema()"
   ]
  },
  {
   "cell_type": "code",
   "execution_count": 0,
   "metadata": {
    "application/vnd.databricks.v1+cell": {
     "cellMetadata": {
      "byteLimit": 2048000,
      "rowLimit": 10000
     },
     "inputWidgets": {},
     "nuid": "0dfe1f7a-efce-431d-8ae5-3dd0f4bc9a73",
     "showTitle": false,
     "title": ""
    }
   },
   "outputs": [],
   "source": [
    "# repo_df.limit(10).display()"
   ]
  },
  {
   "cell_type": "code",
   "execution_count": 0,
   "metadata": {
    "application/vnd.databricks.v1+cell": {
     "cellMetadata": {
      "byteLimit": 2048000,
      "rowLimit": 10000
     },
     "inputWidgets": {},
     "nuid": "5567e452-726a-4f31-bc40-e6005b5c6713",
     "showTitle": false,
     "title": ""
    }
   },
   "outputs": [],
   "source": [
    "repo_df = repo_df.dropDuplicates()"
   ]
  },
  {
   "cell_type": "code",
   "execution_count": 0,
   "metadata": {
    "application/vnd.databricks.v1+cell": {
     "cellMetadata": {
      "byteLimit": 2048000,
      "rowLimit": 10000
     },
     "inputWidgets": {},
     "nuid": "e64951af-8d73-488f-bb02-9c1845eaeb35",
     "showTitle": false,
     "title": ""
    }
   },
   "outputs": [],
   "source": [
    "# check_Missing_Val(repo_df)"
   ]
  },
  {
   "cell_type": "code",
   "execution_count": 0,
   "metadata": {
    "application/vnd.databricks.v1+cell": {
     "cellMetadata": {
      "byteLimit": 2048000,
      "rowLimit": 10000
     },
     "inputWidgets": {},
     "nuid": "d8f0c9a3-a8b9-4adb-bbff-e67527fb6be1",
     "showTitle": false,
     "title": ""
    }
   },
   "outputs": [],
   "source": [
    "# check_Unique(repo_df, \"repo_id\")"
   ]
  },
  {
   "cell_type": "markdown",
   "metadata": {
    "application/vnd.databricks.v1+cell": {
     "cellMetadata": {
      "byteLimit": 2048000,
      "rowLimit": 10000
     },
     "inputWidgets": {},
     "nuid": "b1c34a1b-d5e5-48d8-91b4-a4e115ed32e4",
     "showTitle": false,
     "title": ""
    }
   },
   "source": [
    "## actor_df"
   ]
  },
  {
   "cell_type": "code",
   "execution_count": 0,
   "metadata": {
    "application/vnd.databricks.v1+cell": {
     "cellMetadata": {
      "byteLimit": 2048000,
      "rowLimit": 10000
     },
     "inputWidgets": {},
     "nuid": "d51ed54a-6093-4c87-97b1-6a9bbf52d5a5",
     "showTitle": false,
     "title": ""
    }
   },
   "outputs": [],
   "source": [
    "actor_df = actor_flattened_df.select(\n",
    "    col(\"actor_id\").alias(\"actor_id\"),\n",
    "    col(\"actor_login\").alias(\"login\"),\n",
    "    col(\"actor_display_login\").alias(\"display_login\"),\n",
    "    col(\"actor_gravatar_id\").alias(\"gravatar_id\"),\n",
    "    col(\"actor_url\").alias(\"url\"),\n",
    "    col(\"actor_avatar_url\").alias(\"avatar_url\")\n",
    ")\n",
    "\n",
    "# actor_df.printSchema()"
   ]
  },
  {
   "cell_type": "code",
   "execution_count": 0,
   "metadata": {
    "application/vnd.databricks.v1+cell": {
     "cellMetadata": {
      "byteLimit": 2048000,
      "rowLimit": 10000
     },
     "inputWidgets": {},
     "nuid": "b4303c6a-78b1-4629-bd67-a3372dbd936c",
     "showTitle": false,
     "title": ""
    }
   },
   "outputs": [],
   "source": [
    "# check_Missing_Val(actor_df)"
   ]
  },
  {
   "cell_type": "code",
   "execution_count": 0,
   "metadata": {
    "application/vnd.databricks.v1+cell": {
     "cellMetadata": {
      "byteLimit": 2048000,
      "rowLimit": 10000
     },
     "inputWidgets": {},
     "nuid": "f702325f-c2e0-4c03-a6a6-cd021b824aeb",
     "showTitle": false,
     "title": ""
    }
   },
   "outputs": [],
   "source": [
    "# check_Unique(actor_df, \"actor_id\")"
   ]
  },
  {
   "cell_type": "code",
   "execution_count": 0,
   "metadata": {
    "application/vnd.databricks.v1+cell": {
     "cellMetadata": {
      "byteLimit": 2048000,
      "rowLimit": 10000
     },
     "inputWidgets": {},
     "nuid": "b40fb38e-5e42-4891-8edf-e2d6a907203f",
     "showTitle": false,
     "title": ""
    }
   },
   "outputs": [
    {
     "output_type": "execute_result",
     "data": {
      "text/plain": [
       "DataFrame[actor_id: bigint, login: string, display_login: string, gravatar_id: string, url: string, avatar_url: string]"
      ]
     },
     "execution_count": 40,
     "metadata": {},
     "output_type": "execute_result"
    }
   ],
   "source": [
    "actor_df.dropDuplicates()"
   ]
  },
  {
   "cell_type": "markdown",
   "metadata": {
    "application/vnd.databricks.v1+cell": {
     "cellMetadata": {
      "byteLimit": 2048000,
      "rowLimit": 10000
     },
     "inputWidgets": {},
     "nuid": "3995e4aa-7b87-4591-ba01-6e69a554486e",
     "showTitle": false,
     "title": ""
    }
   },
   "source": [
    "## organization_df"
   ]
  },
  {
   "cell_type": "code",
   "execution_count": 0,
   "metadata": {
    "application/vnd.databricks.v1+cell": {
     "cellMetadata": {
      "byteLimit": 2048000,
      "rowLimit": 10000
     },
     "inputWidgets": {},
     "nuid": "3d35ae6a-6a33-45e9-a7a7-29142ac24a54",
     "showTitle": false,
     "title": ""
    }
   },
   "outputs": [],
   "source": [
    "organization_df = org_flattened_df.select(\n",
    "    col(\"org_id\").alias(\"org_id\"),\n",
    "    col(\"org_login\").alias(\"login\"),\n",
    "    col(\"org_gravatar_id\").alias(\"gravatar_id\"),\n",
    "    col(\"org_url\").alias(\"url\"),\n",
    "    col(\"org_avatar_url\").alias(\"avatar_url\")\n",
    ")\n",
    "\n",
    "# organization_df.printSchema()"
   ]
  },
  {
   "cell_type": "code",
   "execution_count": 0,
   "metadata": {
    "application/vnd.databricks.v1+cell": {
     "cellMetadata": {
      "byteLimit": 2048000,
      "rowLimit": 10000
     },
     "inputWidgets": {},
     "nuid": "2a5e01cd-bfaa-4cab-98e1-c7f2a6379ecb",
     "showTitle": false,
     "title": ""
    }
   },
   "outputs": [],
   "source": [
    " # check_Missing_Val(organization_df)"
   ]
  },
  {
   "cell_type": "code",
   "execution_count": 0,
   "metadata": {
    "application/vnd.databricks.v1+cell": {
     "cellMetadata": {
      "byteLimit": 2048000,
      "rowLimit": 10000
     },
     "inputWidgets": {},
     "nuid": "77d48320-fdca-40c2-b3ea-a288f01e3d90",
     "showTitle": false,
     "title": ""
    }
   },
   "outputs": [],
   "source": [
    "# check_Unique(organization_df, \"org_id\")"
   ]
  },
  {
   "cell_type": "code",
   "execution_count": 0,
   "metadata": {
    "application/vnd.databricks.v1+cell": {
     "cellMetadata": {
      "byteLimit": 2048000,
      "rowLimit": 10000
     },
     "inputWidgets": {},
     "nuid": "aa15841a-1d1c-42f7-89b5-f4b439221625",
     "showTitle": false,
     "title": ""
    }
   },
   "outputs": [
    {
     "output_type": "execute_result",
     "data": {
      "text/plain": [
       "DataFrame[org_id: bigint, login: string, gravatar_id: string, url: string, avatar_url: string]"
      ]
     },
     "execution_count": 44,
     "metadata": {},
     "output_type": "execute_result"
    }
   ],
   "source": [
    "organization_df.dropDuplicates()"
   ]
  },
  {
   "cell_type": "markdown",
   "metadata": {
    "application/vnd.databricks.v1+cell": {
     "cellMetadata": {
      "byteLimit": 2048000,
      "rowLimit": 10000
     },
     "inputWidgets": {},
     "nuid": "69a435a2-10e1-4d2b-81ae-6bcbb9a2197e",
     "showTitle": false,
     "title": ""
    }
   },
   "source": [
    "## PushEvent_df"
   ]
  },
  {
   "cell_type": "code",
   "execution_count": 0,
   "metadata": {
    "application/vnd.databricks.v1+cell": {
     "cellMetadata": {
      "byteLimit": 2048000,
      "rowLimit": 10000
     },
     "inputWidgets": {},
     "nuid": "654c92e6-0683-413b-893a-1d708b501cd0",
     "showTitle": false,
     "title": ""
    }
   },
   "outputs": [
    {
     "output_type": "stream",
     "name": "stdout",
     "output_type": "stream",
     "text": [
      "root\n |-- event_id: string (nullable = true)\n |-- push_id: long (nullable = true)\n |-- distinct_size: long (nullable = true)\n |-- ref: string (nullable = true)\n |-- commits_message: string (nullable = true)\n\n"
     ]
    }
   ],
   "source": [
    "# One or more commits are pushed to a repository branch or tag.\n",
    "PushEvent_df = flattened_df.where(col(\"type\")=='PushEvent')\n",
    "\n",
    "PushEvent_df = PushEvent_df.select(\"event_id\", \"payload.push_id\", \"payload.distinct_size\", \"payload.ref\", explode(\"payload.commits.message\").alias(\"commits_message\"))\n",
    "PushEvent_df.printSchema()"
   ]
  },
  {
   "cell_type": "code",
   "execution_count": 0,
   "metadata": {
    "application/vnd.databricks.v1+cell": {
     "cellMetadata": {
      "byteLimit": 2048000,
      "rowLimit": 10000
     },
     "inputWidgets": {},
     "nuid": "8000cd97-3bd1-40df-bccc-e045bab27150",
     "showTitle": false,
     "title": ""
    }
   },
   "outputs": [
    {
     "output_type": "stream",
     "name": "stdout",
     "output_type": "stream",
     "text": [
      "+--------+-------+-------------+---+---------------+\n|event_id|push_id|distinct_size|ref|commits_message|\n+--------+-------+-------------+---+---------------+\n|       0|      0|            0|  0|              0|\n+--------+-------+-------------+---+---------------+\n\n"
     ]
    }
   ],
   "source": [
    "check_Missing_Val(PushEvent_df)\n",
    "\n"
   ]
  },
  {
   "cell_type": "code",
   "execution_count": 0,
   "metadata": {
    "application/vnd.databricks.v1+cell": {
     "cellMetadata": {
      "byteLimit": 2048000,
      "rowLimit": 10000
     },
     "inputWidgets": {},
     "nuid": "7c1e2737-2f0b-4d39-8a4a-df5b0e02931b",
     "showTitle": false,
     "title": ""
    }
   },
   "outputs": [
    {
     "output_type": "display_data",
     "data": {
      "text/html": [
       "<style scoped>\n",
       "  .ansiout {\n",
       "    display: block;\n",
       "    unicode-bidi: embed;\n",
       "    white-space: pre-wrap;\n",
       "    word-wrap: break-word;\n",
       "    word-break: break-all;\n",
       "    font-family: \"Source Code Pro\", \"Menlo\", monospace;;\n",
       "    font-size: 13px;\n",
       "    color: #555;\n",
       "    margin-left: 4px;\n",
       "    line-height: 19px;\n",
       "  }\n",
       "</style>"
      ]
     },
     "metadata": {
      "application/vnd.databricks.v1+output": {
       "arguments": {},
       "data": "",
       "errorSummary": "Cancelled",
       "errorTraceType": "html",
       "metadata": {},
       "type": "ipynbError"
      }
     },
     "output_type": "display_data"
    }
   ],
   "source": [
    "# show_NaNs(PushEvent_df, \"commits_message\")"
   ]
  },
  {
   "cell_type": "code",
   "execution_count": 0,
   "metadata": {
    "application/vnd.databricks.v1+cell": {
     "cellMetadata": {
      "byteLimit": 2048000,
      "rowLimit": 10000
     },
     "inputWidgets": {},
     "nuid": "47c9b1a5-8094-4ac4-9c42-8b3877694afa",
     "showTitle": false,
     "title": ""
    }
   },
   "outputs": [],
   "source": [
    "PushEvent_df = PushEvent_df.fillna(\"missing\", subset=[\"commits_message\"])"
   ]
  },
  {
   "cell_type": "code",
   "execution_count": 0,
   "metadata": {
    "application/vnd.databricks.v1+cell": {
     "cellMetadata": {
      "byteLimit": 2048000,
      "rowLimit": 10000
     },
     "inputWidgets": {},
     "nuid": "bb277851-9818-4dae-9a5f-bfac6b1591e6",
     "showTitle": false,
     "title": ""
    }
   },
   "outputs": [],
   "source": [
    "\n",
    "# Count the number of duplicate rows in PushEvent_df\n",
    "# count_Duplicates(PushEvent_df)\n"
   ]
  },
  {
   "cell_type": "code",
   "execution_count": 0,
   "metadata": {
    "application/vnd.databricks.v1+cell": {
     "cellMetadata": {
      "byteLimit": 2048000,
      "rowLimit": 10000
     },
     "inputWidgets": {},
     "nuid": "d3da6e7b-c664-4b34-9635-9fb2f482cad6",
     "showTitle": false,
     "title": ""
    }
   },
   "outputs": [],
   "source": [
    "\n",
    "PushEvent_df = PushEvent_df.dropDuplicates()"
   ]
  },
  {
   "cell_type": "code",
   "execution_count": 0,
   "metadata": {
    "application/vnd.databricks.v1+cell": {
     "cellMetadata": {
      "byteLimit": 2048000,
      "rowLimit": 10000
     },
     "inputWidgets": {},
     "nuid": "59f43830-cea7-4b32-b81f-db56ae8af798",
     "showTitle": false,
     "title": ""
    }
   },
   "outputs": [],
   "source": [
    "# check_Unique(PushEvent_df, \"event_id\")\n"
   ]
  },
  {
   "cell_type": "code",
   "execution_count": 0,
   "metadata": {
    "application/vnd.databricks.v1+cell": {
     "cellMetadata": {
      "byteLimit": 2048000,
      "rowLimit": 10000
     },
     "inputWidgets": {},
     "nuid": "21a1d370-9783-4cb0-9cbc-079dc8ea8bab",
     "showTitle": false,
     "title": ""
    }
   },
   "outputs": [],
   "source": [
    "# create a primary id column with the range of rows\n",
    "PushEvent_df = PushEvent_df.withColumn(\"push_id_PK\", row_number().over(Window.orderBy(F.monotonically_increasing_id())))\n",
    "\n",
    "columns = PushEvent_df.columns\n",
    "new_columns = [\"push_id_PK\"] + [col_name for col_name in columns if col_name != \"push_id_PK\"]\n",
    "PushEvent_df = PushEvent_df.select(*new_columns)\n",
    "\n",
    "\n",
    "# PushEvent_df.limit(10).display()"
   ]
  },
  {
   "cell_type": "code",
   "execution_count": 0,
   "metadata": {
    "application/vnd.databricks.v1+cell": {
     "cellMetadata": {
      "byteLimit": 2048000,
      "rowLimit": 10000
     },
     "inputWidgets": {},
     "nuid": "8089377b-cdd6-4466-8f0e-d5f25ab4baf1",
     "showTitle": false,
     "title": ""
    }
   },
   "outputs": [
    {
     "output_type": "display_data",
     "data": {
      "text/html": [
       "<style scoped>\n",
       "  .table-result-container {\n",
       "    max-height: 300px;\n",
       "    overflow: auto;\n",
       "  }\n",
       "  table, th, td {\n",
       "    border: 1px solid black;\n",
       "    border-collapse: collapse;\n",
       "  }\n",
       "  th, td {\n",
       "    padding: 5px;\n",
       "  }\n",
       "  th {\n",
       "    text-align: left;\n",
       "  }\n",
       "</style><div class='table-result-container'><table class='table-result'><thead style='background-color: white'><tr><th>push_id_PK</th><th>event_id</th><th>push_id</th><th>distinct_size</th><th>ref</th><th>commits_message</th></tr></thead><tbody><tr><td>1</td><td>19541174443</td><td>8732292121</td><td>1</td><td>refs/heads/feature</td><td>Updated file</td></tr><tr><td>2</td><td>19541174699</td><td>8732292316</td><td>1</td><td>refs/heads/master</td><td>Update list of player scores</td></tr><tr><td>3</td><td>19541174735</td><td>8732292363</td><td>1</td><td>refs/heads/main</td><td>Update del 2021-12-31_20:00</td></tr><tr><td>4</td><td>19541174889</td><td>8732292474</td><td>1</td><td>refs/heads/source</td><td>refactor(Core/Misc): fabs() to std::fabs() (#9790)\n",
       "\n",
       "- prefer std functions over C functions</td></tr><tr><td>5</td><td>19541175484</td><td>8732292917</td><td>1</td><td>refs/heads/master</td><td>tizi ios</td></tr><tr><td>6</td><td>19541175585</td><td>8732293007</td><td>1</td><td>refs/heads/master</td><td>tizi ios</td></tr><tr><td>7</td><td>19541175598</td><td>8732293008</td><td>1</td><td>refs/heads/main</td><td>readme line-break fix</td></tr><tr><td>8</td><td>19541175685</td><td>8732293087</td><td>1</td><td>refs/heads/master</td><td>tizi ios</td></tr><tr><td>9</td><td>19541175706</td><td>8732293106</td><td>5</td><td>refs/heads/master</td><td>Fix shell syntax in build_wheel (#11873)\n",
       "\n",
       "Follow up to #11872\r\n",
       "The cross repo split makes this a bit of a pain to test.\r\n",
       "\r\n",
       "Co-authored-by: hauntsaninja <></td></tr><tr><td>10</td><td>19541175706</td><td>8732293106</td><td>5</td><td>refs/heads/master</td><td>Fixes regression with `__module__` and similar non-final `Enum` names, refs #11820 (#11823)</td></tr></tbody></table></div>"
      ]
     },
     "metadata": {
      "application/vnd.databricks.v1+output": {
       "addedWidgets": {},
       "aggData": [],
       "aggError": "",
       "aggOverflow": false,
       "aggSchema": [],
       "aggSeriesLimitReached": false,
       "aggType": "",
       "arguments": {},
       "columnCustomDisplayInfos": {},
       "data": [
        [
         1,
         "19541174443",
         8732292121,
         1,
         "refs/heads/feature",
         "Updated file"
        ],
        [
         2,
         "19541174699",
         8732292316,
         1,
         "refs/heads/master",
         "Update list of player scores"
        ],
        [
         3,
         "19541174735",
         8732292363,
         1,
         "refs/heads/main",
         "Update del 2021-12-31_20:00"
        ],
        [
         4,
         "19541174889",
         8732292474,
         1,
         "refs/heads/source",
         "refactor(Core/Misc): fabs() to std::fabs() (#9790)\n\n- prefer std functions over C functions"
        ],
        [
         5,
         "19541175484",
         8732292917,
         1,
         "refs/heads/master",
         "tizi ios"
        ],
        [
         6,
         "19541175585",
         8732293007,
         1,
         "refs/heads/master",
         "tizi ios"
        ],
        [
         7,
         "19541175598",
         8732293008,
         1,
         "refs/heads/main",
         "readme line-break fix"
        ],
        [
         8,
         "19541175685",
         8732293087,
         1,
         "refs/heads/master",
         "tizi ios"
        ],
        [
         9,
         "19541175706",
         8732293106,
         5,
         "refs/heads/master",
         "Fix shell syntax in build_wheel (#11873)\n\nFollow up to #11872\r\nThe cross repo split makes this a bit of a pain to test.\r\n\r\nCo-authored-by: hauntsaninja <>"
        ],
        [
         10,
         "19541175706",
         8732293106,
         5,
         "refs/heads/master",
         "Fixes regression with `__module__` and similar non-final `Enum` names, refs #11820 (#11823)"
        ]
       ],
       "datasetInfos": [],
       "dbfsResultPath": null,
       "isJsonSchema": true,
       "metadata": {},
       "overflow": false,
       "plotOptions": {
        "customPlotOptions": {},
        "displayType": "table",
        "pivotAggregation": null,
        "pivotColumns": null,
        "xColumns": null,
        "yColumns": null
       },
       "removedWidgets": [],
       "schema": [
        {
         "metadata": "{}",
         "name": "push_id_PK",
         "type": "\"integer\""
        },
        {
         "metadata": "{}",
         "name": "event_id",
         "type": "\"string\""
        },
        {
         "metadata": "{}",
         "name": "push_id",
         "type": "\"long\""
        },
        {
         "metadata": "{}",
         "name": "distinct_size",
         "type": "\"long\""
        },
        {
         "metadata": "{}",
         "name": "ref",
         "type": "\"string\""
        },
        {
         "metadata": "{}",
         "name": "commits_message",
         "type": "\"string\""
        }
       ],
       "type": "table"
      }
     },
     "output_type": "display_data"
    }
   ],
   "source": [
    "PushEvent_df.limit(10).display()\n",
    "\n",
    "# noticed that duplicates only have different commit messages and some are in spanish"
   ]
  },
  {
   "cell_type": "markdown",
   "metadata": {
    "application/vnd.databricks.v1+cell": {
     "cellMetadata": {
      "byteLimit": 2048000,
      "rowLimit": 10000
     },
     "inputWidgets": {},
     "nuid": "33105b29-2134-45ef-bd86-14e7422a5b86",
     "showTitle": false,
     "title": ""
    }
   },
   "source": [
    "## ReleaseEvent_df"
   ]
  },
  {
   "cell_type": "code",
   "execution_count": 0,
   "metadata": {
    "application/vnd.databricks.v1+cell": {
     "cellMetadata": {
      "byteLimit": 2048000,
      "rowLimit": 10000
     },
     "inputWidgets": {},
     "nuid": "1c61854c-a25b-4521-831b-a406fe414530",
     "showTitle": false,
     "title": ""
    }
   },
   "outputs": [
    {
     "output_type": "display_data",
     "data": {
      "text/html": [
       "<style scoped>\n",
       "  .ansiout {\n",
       "    display: block;\n",
       "    unicode-bidi: embed;\n",
       "    white-space: pre-wrap;\n",
       "    word-wrap: break-word;\n",
       "    word-break: break-all;\n",
       "    font-family: \"Source Code Pro\", \"Menlo\", monospace;;\n",
       "    font-size: 13px;\n",
       "    color: #555;\n",
       "    margin-left: 4px;\n",
       "    line-height: 19px;\n",
       "  }\n",
       "</style>"
      ]
     },
     "metadata": {
      "application/vnd.databricks.v1+output": {
       "arguments": {},
       "data": "",
       "errorSummary": "Cancelled",
       "errorTraceType": "html",
       "metadata": {},
       "type": "ipynbError"
      }
     },
     "output_type": "display_data"
    }
   ],
   "source": [
    "ReleaseEvent_df = flattened_df.where(col(\"type\")=='ReleaseEvent')\n",
    "ReleaseEvent_df = ReleaseEvent_df.select(\"event_id\", \"payload.action\", \"payload.release.id\") \n",
    "                                        \n",
    "# ReleaseEvent_df.printSchema()"
   ]
  },
  {
   "cell_type": "code",
   "execution_count": 0,
   "metadata": {
    "application/vnd.databricks.v1+cell": {
     "cellMetadata": {
      "byteLimit": 2048000,
      "rowLimit": 10000
     },
     "inputWidgets": {},
     "nuid": "33a01131-bcc2-4e49-a0d5-681d046a9775",
     "showTitle": false,
     "title": ""
    }
   },
   "outputs": [
    {
     "output_type": "display_data",
     "data": {
      "text/html": [
       "<style scoped>\n",
       "  .ansiout {\n",
       "    display: block;\n",
       "    unicode-bidi: embed;\n",
       "    white-space: pre-wrap;\n",
       "    word-wrap: break-word;\n",
       "    word-break: break-all;\n",
       "    font-family: \"Source Code Pro\", \"Menlo\", monospace;;\n",
       "    font-size: 13px;\n",
       "    color: #555;\n",
       "    margin-left: 4px;\n",
       "    line-height: 19px;\n",
       "  }\n",
       "</style>"
      ]
     },
     "metadata": {
      "application/vnd.databricks.v1+output": {
       "arguments": {},
       "data": "",
       "errorSummary": "Cancelled",
       "errorTraceType": "html",
       "metadata": {},
       "type": "ipynbError"
      }
     },
     "output_type": "display_data"
    }
   ],
   "source": [
    "ReleaseEvent_df = ReleaseEvent_df.dropDuplicates([\"id\"])"
   ]
  },
  {
   "cell_type": "code",
   "execution_count": 0,
   "metadata": {
    "application/vnd.databricks.v1+cell": {
     "cellMetadata": {
      "byteLimit": 2048000,
      "rowLimit": 10000
     },
     "inputWidgets": {},
     "nuid": "7b9d7e22-8957-428f-826c-029659ca0191",
     "showTitle": false,
     "title": ""
    }
   },
   "outputs": [
    {
     "output_type": "display_data",
     "data": {
      "text/html": [
       "<style scoped>\n",
       "  .ansiout {\n",
       "    display: block;\n",
       "    unicode-bidi: embed;\n",
       "    white-space: pre-wrap;\n",
       "    word-wrap: break-word;\n",
       "    word-break: break-all;\n",
       "    font-family: \"Source Code Pro\", \"Menlo\", monospace;;\n",
       "    font-size: 13px;\n",
       "    color: #555;\n",
       "    margin-left: 4px;\n",
       "    line-height: 19px;\n",
       "  }\n",
       "</style>"
      ]
     },
     "metadata": {
      "application/vnd.databricks.v1+output": {
       "arguments": {},
       "data": "",
       "errorSummary": "Cancelled",
       "errorTraceType": "html",
       "metadata": {},
       "type": "ipynbError"
      }
     },
     "output_type": "display_data"
    }
   ],
   "source": [
    "ReleaseEvent_df = ReleaseEvent_df.withColumnRenamed(\"id\", \"release_id\")"
   ]
  },
  {
   "cell_type": "code",
   "execution_count": 0,
   "metadata": {
    "application/vnd.databricks.v1+cell": {
     "cellMetadata": {
      "byteLimit": 2048000,
      "rowLimit": 10000
     },
     "inputWidgets": {},
     "nuid": "7d3a713a-1bfa-4d51-9132-67cf5591b620",
     "showTitle": false,
     "title": ""
    }
   },
   "outputs": [
    {
     "output_type": "display_data",
     "data": {
      "text/html": [
       "<style scoped>\n",
       "  .ansiout {\n",
       "    display: block;\n",
       "    unicode-bidi: embed;\n",
       "    white-space: pre-wrap;\n",
       "    word-wrap: break-word;\n",
       "    word-break: break-all;\n",
       "    font-family: \"Source Code Pro\", \"Menlo\", monospace;;\n",
       "    font-size: 13px;\n",
       "    color: #555;\n",
       "    margin-left: 4px;\n",
       "    line-height: 19px;\n",
       "  }\n",
       "</style>"
      ]
     },
     "metadata": {
      "application/vnd.databricks.v1+output": {
       "arguments": {},
       "data": "",
       "errorSummary": "Cancelled",
       "errorTraceType": "html",
       "metadata": {},
       "type": "ipynbError"
      }
     },
     "output_type": "display_data"
    }
   ],
   "source": [
    "# check_Missing_Val(ReleaseEvent_df)"
   ]
  },
  {
   "cell_type": "code",
   "execution_count": 0,
   "metadata": {
    "application/vnd.databricks.v1+cell": {
     "cellMetadata": {
      "byteLimit": 2048000,
      "rowLimit": 10000
     },
     "inputWidgets": {},
     "nuid": "07b2530d-0c9e-4fa5-afd8-1772413cb491",
     "showTitle": false,
     "title": ""
    }
   },
   "outputs": [
    {
     "output_type": "display_data",
     "data": {
      "text/html": [
       "<style scoped>\n",
       "  .ansiout {\n",
       "    display: block;\n",
       "    unicode-bidi: embed;\n",
       "    white-space: pre-wrap;\n",
       "    word-wrap: break-word;\n",
       "    word-break: break-all;\n",
       "    font-family: \"Source Code Pro\", \"Menlo\", monospace;;\n",
       "    font-size: 13px;\n",
       "    color: #555;\n",
       "    margin-left: 4px;\n",
       "    line-height: 19px;\n",
       "  }\n",
       "</style>"
      ]
     },
     "metadata": {
      "application/vnd.databricks.v1+output": {
       "arguments": {},
       "data": "",
       "errorSummary": "Cancelled",
       "errorTraceType": "html",
       "metadata": {},
       "type": "ipynbError"
      }
     },
     "output_type": "display_data"
    }
   ],
   "source": [
    "# ReleaseEvent_df.limit(10).display()"
   ]
  },
  {
   "cell_type": "code",
   "execution_count": 0,
   "metadata": {
    "application/vnd.databricks.v1+cell": {
     "cellMetadata": {
      "byteLimit": 2048000,
      "rowLimit": 10000
     },
     "inputWidgets": {},
     "nuid": "b4970cde-e4c9-4713-925d-41de5f7ceaee",
     "showTitle": false,
     "title": ""
    }
   },
   "outputs": [
    {
     "output_type": "display_data",
     "data": {
      "text/html": [
       "<style scoped>\n",
       "  .ansiout {\n",
       "    display: block;\n",
       "    unicode-bidi: embed;\n",
       "    white-space: pre-wrap;\n",
       "    word-wrap: break-word;\n",
       "    word-break: break-all;\n",
       "    font-family: \"Source Code Pro\", \"Menlo\", monospace;;\n",
       "    font-size: 13px;\n",
       "    color: #555;\n",
       "    margin-left: 4px;\n",
       "    line-height: 19px;\n",
       "  }\n",
       "</style>"
      ]
     },
     "metadata": {
      "application/vnd.databricks.v1+output": {
       "arguments": {},
       "data": "",
       "errorSummary": "Cancelled",
       "errorTraceType": "html",
       "metadata": {},
       "type": "ipynbError"
      }
     },
     "output_type": "display_data"
    }
   ],
   "source": [
    "# check_Unique(ReleaseEvent_df, \"event_id\")"
   ]
  },
  {
   "cell_type": "markdown",
   "metadata": {
    "application/vnd.databricks.v1+cell": {
     "cellMetadata": {
      "byteLimit": 2048000,
      "rowLimit": 10000
     },
     "inputWidgets": {},
     "nuid": "7b0d4583-f740-401f-8d18-6fc22b109123",
     "showTitle": false,
     "title": ""
    }
   },
   "source": [
    "## CreateEvent_df"
   ]
  },
  {
   "cell_type": "code",
   "execution_count": 0,
   "metadata": {
    "application/vnd.databricks.v1+cell": {
     "cellMetadata": {
      "byteLimit": 2048000,
      "rowLimit": 10000
     },
     "inputWidgets": {},
     "nuid": "9ffec434-ed82-4fc7-a6df-621aeac56152",
     "showTitle": false,
     "title": ""
    }
   },
   "outputs": [],
   "source": [
    "# A Git branch or tag is created\n",
    "CreateEvent_df = flattened_df.where(col(\"type\")=='CreateEvent')"
   ]
  },
  {
   "cell_type": "code",
   "execution_count": 0,
   "metadata": {
    "application/vnd.databricks.v1+cell": {
     "cellMetadata": {
      "byteLimit": 2048000,
      "rowLimit": 10000
     },
     "inputWidgets": {},
     "nuid": "3ad9a499-ee43-4bc2-82dd-7c7d9c9f80ae",
     "showTitle": false,
     "title": ""
    }
   },
   "outputs": [],
   "source": [
    "# CreateEvent_df.count()"
   ]
  },
  {
   "cell_type": "code",
   "execution_count": 0,
   "metadata": {
    "application/vnd.databricks.v1+cell": {
     "cellMetadata": {
      "byteLimit": 2048000,
      "rowLimit": 10000
     },
     "inputWidgets": {},
     "nuid": "629813b4-b6ac-4cb9-99d8-ecf431243f89",
     "showTitle": false,
     "title": ""
    }
   },
   "outputs": [],
   "source": [
    "CreateEvent_df = CreateEvent_df.select(\"event_id\", \"payload.ref\", \"payload.ref_type\", \"payload.master_branch\")\n",
    "# CreateEvent_df.printSchema()\n"
   ]
  },
  {
   "cell_type": "code",
   "execution_count": 0,
   "metadata": {
    "application/vnd.databricks.v1+cell": {
     "cellMetadata": {
      "byteLimit": 2048000,
      "rowLimit": 10000
     },
     "inputWidgets": {},
     "nuid": "0a167dc4-10e4-4f62-85d9-2a2ba96c4017",
     "showTitle": false,
     "title": ""
    }
   },
   "outputs": [],
   "source": [
    "# check_Missing_Val(CreateEvent_df)"
   ]
  },
  {
   "cell_type": "code",
   "execution_count": 0,
   "metadata": {
    "application/vnd.databricks.v1+cell": {
     "cellMetadata": {
      "byteLimit": 2048000,
      "rowLimit": 10000
     },
     "inputWidgets": {},
     "nuid": "a0438bc3-c1dc-40f0-aa9b-d531a4ee97b8",
     "showTitle": false,
     "title": ""
    }
   },
   "outputs": [],
   "source": [
    "# count_Duplicates(CreateEvent_df)"
   ]
  },
  {
   "cell_type": "code",
   "execution_count": 0,
   "metadata": {
    "application/vnd.databricks.v1+cell": {
     "cellMetadata": {
      "byteLimit": 2048000,
      "rowLimit": 10000
     },
     "inputWidgets": {},
     "nuid": "c598913a-14d2-4e58-9d39-23f777b01636",
     "showTitle": false,
     "title": ""
    }
   },
   "outputs": [],
   "source": [
    "CreateEvent_df = CreateEvent_df.fillna(\"missing\", subset=[\"ref\"])"
   ]
  },
  {
   "cell_type": "code",
   "execution_count": 0,
   "metadata": {
    "application/vnd.databricks.v1+cell": {
     "cellMetadata": {
      "byteLimit": 2048000,
      "rowLimit": 10000
     },
     "inputWidgets": {},
     "nuid": "f4ad01a8-44e0-495c-8cdf-ab8b12457c5f",
     "showTitle": false,
     "title": ""
    }
   },
   "outputs": [],
   "source": [
    "# CreateEvent_df.limit(10).display()"
   ]
  },
  {
   "cell_type": "code",
   "execution_count": 0,
   "metadata": {
    "application/vnd.databricks.v1+cell": {
     "cellMetadata": {
      "byteLimit": 2048000,
      "rowLimit": 10000
     },
     "inputWidgets": {},
     "nuid": "69b4aa06-ae77-46a5-9dfc-12b120e48d6d",
     "showTitle": false,
     "title": ""
    }
   },
   "outputs": [],
   "source": [
    "# CreateEvent_df.where(isnan(col(\"ref\"))).show()"
   ]
  },
  {
   "cell_type": "code",
   "execution_count": 0,
   "metadata": {
    "application/vnd.databricks.v1+cell": {
     "cellMetadata": {
      "byteLimit": 2048000,
      "rowLimit": 10000
     },
     "inputWidgets": {},
     "nuid": "d62776e1-03e9-4b17-9fe1-fed0c5d72088",
     "showTitle": false,
     "title": ""
    }
   },
   "outputs": [],
   "source": [
    "# count_Duplicates(CreateEvent_df)"
   ]
  },
  {
   "cell_type": "code",
   "execution_count": 0,
   "metadata": {
    "application/vnd.databricks.v1+cell": {
     "cellMetadata": {
      "byteLimit": 2048000,
      "rowLimit": 10000
     },
     "inputWidgets": {},
     "nuid": "c0d8e33c-a30b-4add-8cbe-00d0aa7f6cdd",
     "showTitle": false,
     "title": ""
    }
   },
   "outputs": [],
   "source": [
    "CreateEvent_df = CreateEvent_df.dropDuplicates()"
   ]
  },
  {
   "cell_type": "code",
   "execution_count": 0,
   "metadata": {
    "application/vnd.databricks.v1+cell": {
     "cellMetadata": {
      "byteLimit": 2048000,
      "rowLimit": 10000
     },
     "inputWidgets": {},
     "nuid": "e8f92fd2-9828-48c0-b04d-c11a6a8bd4b4",
     "showTitle": false,
     "title": ""
    }
   },
   "outputs": [],
   "source": [
    "# check_Unique(CreateEvent_df, \"event_id\")"
   ]
  },
  {
   "cell_type": "markdown",
   "metadata": {
    "application/vnd.databricks.v1+cell": {
     "cellMetadata": {
      "byteLimit": 2048000,
      "rowLimit": 10000
     },
     "inputWidgets": {},
     "nuid": "1b23dfbd-61a2-4a34-9d28-23d011e597bb",
     "showTitle": false,
     "title": ""
    }
   },
   "source": [
    "## PullRequestEvent_df"
   ]
  },
  {
   "cell_type": "code",
   "execution_count": 0,
   "metadata": {
    "application/vnd.databricks.v1+cell": {
     "cellMetadata": {
      "byteLimit": 2048000,
      "rowLimit": 10000
     },
     "inputWidgets": {},
     "nuid": "b917ba1f-d94d-4fd6-acea-5f4f27506c5c",
     "showTitle": false,
     "title": ""
    }
   },
   "outputs": [],
   "source": [
    "# Activity related to pull requests (opened, edited, closed, etc.)\n",
    "PullRequestEvent_df = flattened_df.where(col(\"type\")=='PullRequestEvent')"
   ]
  },
  {
   "cell_type": "code",
   "execution_count": 0,
   "metadata": {
    "application/vnd.databricks.v1+cell": {
     "cellMetadata": {
      "byteLimit": 2048000,
      "rowLimit": 10000
     },
     "inputWidgets": {},
     "nuid": "480fb2da-d342-434f-9659-1d4af40ccfdd",
     "showTitle": false,
     "title": ""
    }
   },
   "outputs": [],
   "source": [
    "# PullRequestEvent_df.count()"
   ]
  },
  {
   "cell_type": "code",
   "execution_count": 0,
   "metadata": {
    "application/vnd.databricks.v1+cell": {
     "cellMetadata": {
      "byteLimit": 2048000,
      "rowLimit": 10000
     },
     "inputWidgets": {},
     "nuid": "37bd70eb-5d5c-45f5-86ad-dc5ff0a2dd1e",
     "showTitle": false,
     "title": ""
    }
   },
   "outputs": [],
   "source": [
    "# PullRequestEvent_df.printSchema()"
   ]
  },
  {
   "cell_type": "code",
   "execution_count": 0,
   "metadata": {
    "application/vnd.databricks.v1+cell": {
     "cellMetadata": {
      "byteLimit": 2048000,
      "rowLimit": 10000
     },
     "inputWidgets": {},
     "nuid": "f31c2930-77b1-47e0-aa22-a27ddd7705f1",
     "showTitle": false,
     "title": ""
    }
   },
   "outputs": [],
   "source": [
    "# PullRequestEvent_df.select(\"payload.pull_request.*\").limit(10).display()"
   ]
  },
  {
   "cell_type": "code",
   "execution_count": 0,
   "metadata": {
    "application/vnd.databricks.v1+cell": {
     "cellMetadata": {
      "byteLimit": 2048000,
      "rowLimit": 10000
     },
     "inputWidgets": {},
     "nuid": "79e22baf-4458-41de-a49c-6f2b08a65d1c",
     "showTitle": false,
     "title": ""
    }
   },
   "outputs": [],
   "source": [
    "#\n",
    "PullRequestEvent_df = PullRequestEvent_df.select(\"event_id\", \"payload.action\", \"payload.pull_request.additions\", \"payload.pull_request.author_association\", \"payload.pull_request.deletions\", \"payload.pull_request.changed_files\", \"payload.pull_request.number\", \"payload.pull_request.id\")\n",
    "# PullRequestEvent_df.printSchema()"
   ]
  },
  {
   "cell_type": "code",
   "execution_count": 0,
   "metadata": {
    "application/vnd.databricks.v1+cell": {
     "cellMetadata": {
      "byteLimit": 2048000,
      "rowLimit": 10000
     },
     "inputWidgets": {},
     "nuid": "154ca1a6-fb1d-4df1-84c0-26b525e84c59",
     "showTitle": false,
     "title": ""
    }
   },
   "outputs": [],
   "source": [
    "PullRequestEvent_df = PullRequestEvent_df.withColumnRenamed(\"id\", \"pull_request_id\")"
   ]
  },
  {
   "cell_type": "code",
   "execution_count": 0,
   "metadata": {
    "application/vnd.databricks.v1+cell": {
     "cellMetadata": {
      "byteLimit": 2048000,
      "rowLimit": 10000
     },
     "inputWidgets": {},
     "nuid": "14bd6939-74b6-48f2-9ee7-039aeb9984a9",
     "showTitle": false,
     "title": ""
    }
   },
   "outputs": [],
   "source": [
    "# PullRequestEvent_df.limit(10).display()"
   ]
  },
  {
   "cell_type": "code",
   "execution_count": 0,
   "metadata": {
    "application/vnd.databricks.v1+cell": {
     "cellMetadata": {
      "byteLimit": 2048000,
      "rowLimit": 10000
     },
     "inputWidgets": {},
     "nuid": "5cf1062e-6d2b-4d9a-b270-06d36f2662dd",
     "showTitle": false,
     "title": ""
    }
   },
   "outputs": [],
   "source": [
    "# check_Missing_Val(PullRequestEvent_df)"
   ]
  },
  {
   "cell_type": "code",
   "execution_count": 0,
   "metadata": {
    "application/vnd.databricks.v1+cell": {
     "cellMetadata": {
      "byteLimit": 2048000,
      "rowLimit": 10000
     },
     "inputWidgets": {},
     "nuid": "6fd35e13-f77a-44e2-9597-2515abb6d920",
     "showTitle": false,
     "title": ""
    }
   },
   "outputs": [],
   "source": [
    "# count_Duplicates(PullRequestEvent_df)"
   ]
  },
  {
   "cell_type": "code",
   "execution_count": 0,
   "metadata": {
    "application/vnd.databricks.v1+cell": {
     "cellMetadata": {
      "byteLimit": 2048000,
      "rowLimit": 10000
     },
     "inputWidgets": {},
     "nuid": "fa37558f-df2e-43e3-b723-b04104a8e09e",
     "showTitle": false,
     "title": ""
    }
   },
   "outputs": [],
   "source": [
    "# check_Unique(PullRequestEvent_df, \"event_id\")"
   ]
  },
  {
   "cell_type": "code",
   "execution_count": 0,
   "metadata": {
    "application/vnd.databricks.v1+cell": {
     "cellMetadata": {
      "byteLimit": 2048000,
      "rowLimit": 10000
     },
     "inputWidgets": {},
     "nuid": "0ee5fa7d-f4fe-4e93-9efb-6dfc793a32d4",
     "showTitle": false,
     "title": ""
    }
   },
   "outputs": [
    {
     "output_type": "execute_result",
     "data": {
      "text/plain": [
       "DataFrame[event_id: string, action: string, additions: bigint, author_association: string, deletions: bigint, changed_files: bigint, number: bigint, pull_request_id: bigint]"
      ]
     },
     "execution_count": 221,
     "metadata": {},
     "output_type": "execute_result"
    }
   ],
   "source": [
    "PullRequestEvent_df.dropDuplicates()"
   ]
  },
  {
   "cell_type": "code",
   "execution_count": 0,
   "metadata": {
    "application/vnd.databricks.v1+cell": {
     "cellMetadata": {
      "byteLimit": 2048000,
      "rowLimit": 10000
     },
     "inputWidgets": {},
     "nuid": "19018fd1-707d-4041-8ff3-ee54d22fe480",
     "showTitle": false,
     "title": ""
    }
   },
   "outputs": [],
   "source": [
    "#payload_pullreq_df.display()"
   ]
  },
  {
   "cell_type": "code",
   "execution_count": 0,
   "metadata": {
    "application/vnd.databricks.v1+cell": {
     "cellMetadata": {
      "byteLimit": 2048000,
      "rowLimit": 10000
     },
     "inputWidgets": {},
     "nuid": "91900990-cfab-44d1-9e19-38a92f4f15a9",
     "showTitle": false,
     "title": ""
    }
   },
   "outputs": [],
   "source": [
    "#\n",
    "# PullRequestReviewEvent_df = flattened_df.where(col(\"type\")=='PullRequestReviewEvent')\n",
    "# PullRequestReviewEvent_df.limit(10).display()"
   ]
  },
  {
   "cell_type": "markdown",
   "metadata": {
    "application/vnd.databricks.v1+cell": {
     "cellMetadata": {},
     "inputWidgets": {},
     "nuid": "fe0faf9d-d14e-47ff-bc2c-e4d2f3c7177f",
     "showTitle": false,
     "title": ""
    }
   },
   "source": [
    "\n",
    "## CommitCommentEvent_df"
   ]
  },
  {
   "cell_type": "code",
   "execution_count": 0,
   "metadata": {
    "application/vnd.databricks.v1+cell": {
     "cellMetadata": {
      "byteLimit": 2048000,
      "rowLimit": 10000
     },
     "inputWidgets": {},
     "nuid": "d30a571b-0a6f-435b-b288-cbbb55649856",
     "showTitle": false,
     "title": ""
    }
   },
   "outputs": [],
   "source": [
    "# A commit comment is created.\n",
    "CommitCommentEvent_df = flattened_df.where(col(\"type\")=='CommitCommentEvent')"
   ]
  },
  {
   "cell_type": "code",
   "execution_count": 0,
   "metadata": {
    "application/vnd.databricks.v1+cell": {
     "cellMetadata": {
      "byteLimit": 2048000,
      "rowLimit": 10000
     },
     "inputWidgets": {},
     "nuid": "eab272cd-6d04-4259-9c10-8c59d095dc6f",
     "showTitle": false,
     "title": ""
    }
   },
   "outputs": [],
   "source": [
    "#CommitCommentEvent_df.limit(5).display()"
   ]
  },
  {
   "cell_type": "code",
   "execution_count": 0,
   "metadata": {
    "application/vnd.databricks.v1+cell": {
     "cellMetadata": {
      "byteLimit": 2048000,
      "rowLimit": 10000
     },
     "inputWidgets": {},
     "nuid": "eb34d45a-f282-46cd-8f6a-00d9cf8bafb9",
     "showTitle": false,
     "title": ""
    }
   },
   "outputs": [],
   "source": [
    "# CommitCommentEvent_df.select(\"payload.*\").limit(10).display()"
   ]
  },
  {
   "cell_type": "code",
   "execution_count": 0,
   "metadata": {
    "application/vnd.databricks.v1+cell": {
     "cellMetadata": {
      "byteLimit": 2048000,
      "rowLimit": 10000
     },
     "inputWidgets": {},
     "nuid": "3df510f1-6bca-4f98-a921-b892eaab318a",
     "showTitle": false,
     "title": ""
    }
   },
   "outputs": [],
   "source": [
    "# CommitCommentEvent_df.printSchema()"
   ]
  },
  {
   "cell_type": "code",
   "execution_count": 0,
   "metadata": {
    "application/vnd.databricks.v1+cell": {
     "cellMetadata": {
      "byteLimit": 2048000,
      "rowLimit": 10000
     },
     "inputWidgets": {},
     "nuid": "5cf8b2b4-64a8-4c26-b666-f50638396f98",
     "showTitle": false,
     "title": ""
    }
   },
   "outputs": [],
   "source": [
    "CommitCommentEvent_df = CommitCommentEvent_df.select(\"event_id\", \"payload.comment.*\")\n"
   ]
  },
  {
   "cell_type": "code",
   "execution_count": 0,
   "metadata": {
    "application/vnd.databricks.v1+cell": {
     "cellMetadata": {
      "byteLimit": 2048000,
      "rowLimit": 10000
     },
     "inputWidgets": {},
     "nuid": "35d12d9e-636c-49c7-84e9-6c7805ebdd0a",
     "showTitle": false,
     "title": ""
    }
   },
   "outputs": [],
   "source": [
    "# CommitCommentEvent_df.limit(5).display()"
   ]
  },
  {
   "cell_type": "code",
   "execution_count": 0,
   "metadata": {
    "application/vnd.databricks.v1+cell": {
     "cellMetadata": {
      "byteLimit": 2048000,
      "rowLimit": 10000
     },
     "inputWidgets": {},
     "nuid": "20c2f537-2638-4ea9-b145-f8dbeba308dc",
     "showTitle": false,
     "title": ""
    }
   },
   "outputs": [],
   "source": [
    "# CommitCommentEvent_df.printSchema()"
   ]
  },
  {
   "cell_type": "code",
   "execution_count": 0,
   "metadata": {
    "application/vnd.databricks.v1+cell": {
     "cellMetadata": {
      "byteLimit": 2048000,
      "rowLimit": 10000
     },
     "inputWidgets": {},
     "nuid": "c68a3a06-88da-4bbd-92e6-0e814cfe3da3",
     "showTitle": false,
     "title": ""
    }
   },
   "outputs": [],
   "source": [
    "CommitCommentEvent_df = CommitCommentEvent_df.select(col(\"event_id\"), col(\"body\"), col(\"commit_id\"), col(\"created_at\").alias(\"commit_created_at\"), col(\"user.id\").alias(\"user_id\"))\n",
    "\n",
    "CommitCommentEvent_df = CommitCommentEvent_df.withColumn(\"commit_created_at\", col(\"commit_created_at\").cast(\"timestamp\"))\n"
   ]
  },
  {
   "cell_type": "code",
   "execution_count": 0,
   "metadata": {
    "application/vnd.databricks.v1+cell": {
     "cellMetadata": {
      "byteLimit": 2048000,
      "rowLimit": 10000
     },
     "inputWidgets": {},
     "nuid": "25bd4a1c-e9e1-4e60-9336-53ef85d0ff08",
     "showTitle": false,
     "title": ""
    }
   },
   "outputs": [],
   "source": [
    "# CommitCommentEvent_df.printSchema()"
   ]
  },
  {
   "cell_type": "code",
   "execution_count": 0,
   "metadata": {
    "application/vnd.databricks.v1+cell": {
     "cellMetadata": {
      "byteLimit": 2048000,
      "rowLimit": 10000
     },
     "inputWidgets": {},
     "nuid": "96f0b257-5afc-4a79-a0d4-38869944f908",
     "showTitle": false,
     "title": ""
    }
   },
   "outputs": [],
   "source": [
    "# CommitCommentEvent_df.limit(10).display()"
   ]
  },
  {
   "cell_type": "code",
   "execution_count": 0,
   "metadata": {
    "application/vnd.databricks.v1+cell": {
     "cellMetadata": {
      "byteLimit": 2048000,
      "rowLimit": 10000
     },
     "inputWidgets": {},
     "nuid": "aa778108-1613-4373-a2f5-e723b7cb365d",
     "showTitle": false,
     "title": ""
    }
   },
   "outputs": [],
   "source": [
    "\n",
    "#check_Missing_Val(CommitCommentEvent_df.drop(\"commit_created_at\"))"
   ]
  },
  {
   "cell_type": "code",
   "execution_count": 0,
   "metadata": {
    "application/vnd.databricks.v1+cell": {
     "cellMetadata": {
      "byteLimit": 2048000,
      "rowLimit": 10000
     },
     "inputWidgets": {},
     "nuid": "964aac13-4546-43dd-aca0-55b14d601eed",
     "showTitle": false,
     "title": ""
    }
   },
   "outputs": [],
   "source": [
    "# further flattening needed on comment\n",
    "\n",
    "# CommitCommentEvent_df = CommitCommentEvent_df.select(\"event_id\", \"payload.action\", \"payload.comment\")\n",
    "# CommitCommentEvent_df.printSchema()"
   ]
  },
  {
   "cell_type": "code",
   "execution_count": 0,
   "metadata": {
    "application/vnd.databricks.v1+cell": {
     "cellMetadata": {
      "byteLimit": 2048000,
      "rowLimit": 10000
     },
     "inputWidgets": {},
     "nuid": "0286841d-b2eb-4de0-886c-1cbce2679974",
     "showTitle": false,
     "title": ""
    }
   },
   "outputs": [],
   "source": [
    "# check_Unique(CommitCommentEvent_df, \"event_id\")"
   ]
  },
  {
   "cell_type": "code",
   "execution_count": 0,
   "metadata": {
    "application/vnd.databricks.v1+cell": {
     "cellMetadata": {
      "byteLimit": 2048000,
      "rowLimit": 10000
     },
     "inputWidgets": {},
     "nuid": "3e68f61e-620c-4009-a7d1-d7cf72316de9",
     "showTitle": false,
     "title": ""
    }
   },
   "outputs": [],
   "source": [
    "CommitCommentEvent_df = CommitCommentEvent_df.withColumn(\"commit_id_PK\", row_number().over(Window.orderBy(F.monotonically_increasing_id())))\n",
    "# CommitCommentEvent_df = CommitCommentEvent_df.select(\"commit_id_PK\", *CommitCommentEvent_df.columns)\n",
    "columns = CommitCommentEvent_df.columns\n",
    "new_columns = [\"commit_id_PK\"] + [col_name for col_name in columns if col_name != \"commit_id_PK\"]\n",
    "CommitCommentEvent_df = CommitCommentEvent_df.select(*new_columns)\n",
    "# CommitCommentEvent_df.limit(10).display()\n"
   ]
  },
  {
   "cell_type": "code",
   "execution_count": 0,
   "metadata": {
    "application/vnd.databricks.v1+cell": {
     "cellMetadata": {
      "byteLimit": 2048000,
      "rowLimit": 10000
     },
     "inputWidgets": {},
     "nuid": "8891f8ad-d98a-45b9-a333-dda9d5bf0a66",
     "showTitle": false,
     "title": ""
    }
   },
   "outputs": [],
   "source": [
    "# PublicEvent_df.limit(10).display()"
   ]
  },
  {
   "cell_type": "code",
   "execution_count": 0,
   "metadata": {
    "application/vnd.databricks.v1+cell": {
     "cellMetadata": {
      "byteLimit": 2048000,
      "rowLimit": 10000
     },
     "inputWidgets": {},
     "nuid": "49c07d8b-3859-4188-b68e-f8793b47b1e2",
     "showTitle": false,
     "title": ""
    }
   },
   "outputs": [],
   "source": [
    "# We will not be using the PublicEvent_df since it mostly contains nulls in all columns."
   ]
  },
  {
   "cell_type": "markdown",
   "metadata": {
    "application/vnd.databricks.v1+cell": {
     "cellMetadata": {
      "byteLimit": 2048000,
      "rowLimit": 10000
     },
     "inputWidgets": {},
     "nuid": "1d54cf44-4b57-4e69-9ca2-15965c275834",
     "showTitle": false,
     "title": ""
    }
   },
   "source": [
    "## DeleteEvent_df"
   ]
  },
  {
   "cell_type": "code",
   "execution_count": 0,
   "metadata": {
    "application/vnd.databricks.v1+cell": {
     "cellMetadata": {
      "byteLimit": 2048000,
      "rowLimit": 10000
     },
     "inputWidgets": {},
     "nuid": "666e9c70-dac5-4a05-b7a0-0e4eacd645bc",
     "showTitle": false,
     "title": ""
    }
   },
   "outputs": [],
   "source": [
    "# A Git branch or tag is deleted.\n",
    "DeleteEvent_df = flattened_df.where(col(\"type\")==\"DeleteEvent\").select(\"event_id\", \"payload.*\")"
   ]
  },
  {
   "cell_type": "code",
   "execution_count": 0,
   "metadata": {
    "application/vnd.databricks.v1+cell": {
     "cellMetadata": {
      "byteLimit": 2048000,
      "rowLimit": 10000
     },
     "inputWidgets": {},
     "nuid": "0b754010-5bfc-4543-a330-e444c4422a88",
     "showTitle": false,
     "title": ""
    }
   },
   "outputs": [],
   "source": [
    "# All the columns are null except: event_id, pusher_type, ref, and ref_type. The pusher_type column has one distinct value only: user, so it is not helpful to keep. ref_type has two distinct values: branch, tag. Therefore, only event_id, ref, and ref_type should be kept.\n",
    "DeleteEvent_df = DeleteEvent_df.select(\"event_id\",\"ref\",\"ref_type\")  \n",
    "# DeleteEvent_df.limit(10).display()"
   ]
  },
  {
   "cell_type": "code",
   "execution_count": 0,
   "metadata": {
    "application/vnd.databricks.v1+cell": {
     "cellMetadata": {
      "byteLimit": 2048000,
      "rowLimit": 10000
     },
     "inputWidgets": {},
     "nuid": "3b4b1344-3a63-4381-9cf5-e07c0cd40fb8",
     "showTitle": false,
     "title": ""
    }
   },
   "outputs": [],
   "source": [
    "# Check for missing values in DeleteEvent_df:\n",
    "# check_Missing_Val(DeleteEvent_df)"
   ]
  },
  {
   "cell_type": "code",
   "execution_count": 0,
   "metadata": {
    "application/vnd.databricks.v1+cell": {
     "cellMetadata": {
      "byteLimit": 2048000,
      "rowLimit": 10000
     },
     "inputWidgets": {},
     "nuid": "36420c8a-2552-49a7-977e-4316be33ee0c",
     "showTitle": false,
     "title": ""
    }
   },
   "outputs": [],
   "source": [
    "# Count the number of duplicate rows in DeleteEvent_df\n",
    "# count_Duplicates(DeleteEvent_df)"
   ]
  },
  {
   "cell_type": "code",
   "execution_count": 0,
   "metadata": {
    "application/vnd.databricks.v1+cell": {
     "cellMetadata": {
      "byteLimit": 2048000,
      "rowLimit": 10000
     },
     "inputWidgets": {},
     "nuid": "d6b7794a-13c5-48ad-8404-f688733a7296",
     "showTitle": false,
     "title": ""
    }
   },
   "outputs": [],
   "source": [
    "DeleteEvent_df = DeleteEvent_df.dropDuplicates()"
   ]
  },
  {
   "cell_type": "code",
   "execution_count": 0,
   "metadata": {
    "application/vnd.databricks.v1+cell": {
     "cellMetadata": {
      "byteLimit": 2048000,
      "rowLimit": 10000
     },
     "inputWidgets": {},
     "nuid": "39a89f4a-4292-4ae5-9ca8-abfa5538a8ec",
     "showTitle": false,
     "title": ""
    }
   },
   "outputs": [],
   "source": [
    "# Check if event_id column has only unique values:\n",
    "# check_Unique(DeleteEvent_df, \"event_id\")"
   ]
  },
  {
   "cell_type": "markdown",
   "metadata": {
    "application/vnd.databricks.v1+cell": {
     "cellMetadata": {
      "byteLimit": 2048000,
      "rowLimit": 10000
     },
     "inputWidgets": {},
     "nuid": "abaad769-b557-492c-9bf6-1264277d1e41",
     "showTitle": false,
     "title": ""
    }
   },
   "source": [
    "## GollumEvent_df"
   ]
  },
  {
   "cell_type": "code",
   "execution_count": 0,
   "metadata": {
    "application/vnd.databricks.v1+cell": {
     "cellMetadata": {
      "byteLimit": 2048000,
      "rowLimit": 10000
     },
     "inputWidgets": {},
     "nuid": "595d1781-ab16-470c-928f-98a4ba78ec8d",
     "showTitle": false,
     "title": ""
    }
   },
   "outputs": [],
   "source": [
    "# A wiki page is created or updated\n",
    "GollumEvent_df = flattened_df.where(col(\"type\")==\"GollumEvent\").select(\"event_id\", \"payload.*\")\n",
    "# GollumEvent_df.printSchema() "
   ]
  },
  {
   "cell_type": "code",
   "execution_count": 0,
   "metadata": {
    "application/vnd.databricks.v1+cell": {
     "cellMetadata": {
      "byteLimit": 2048000,
      "rowLimit": 10000
     },
     "inputWidgets": {},
     "nuid": "5f4f3bc3-3dc5-41cb-9c5c-0269c3f97401",
     "showTitle": false,
     "title": ""
    }
   },
   "outputs": [],
   "source": [
    "# Only event_id and pages columns have value, and pages is a list of page objects, thus, using explode to create a row for each page\n",
    "GollumEvent_df = GollumEvent_df.select(\"event_id\",explode(\"pages\").alias(\"page\")).select(\"event_id\",\"page.*\")\n",
    "# GollumEvent_df.limit(10).display()"
   ]
  },
  {
   "cell_type": "code",
   "execution_count": 0,
   "metadata": {
    "application/vnd.databricks.v1+cell": {
     "cellMetadata": {
      "byteLimit": 2048000,
      "rowLimit": 10000
     },
     "inputWidgets": {},
     "nuid": "ff9616d6-3d70-4514-a96c-05fee3edf311",
     "showTitle": false,
     "title": ""
    }
   },
   "outputs": [],
   "source": [
    "# The html url's endpoint is the page_name (transitive dependency)"
   ]
  },
  {
   "cell_type": "code",
   "execution_count": 0,
   "metadata": {
    "application/vnd.databricks.v1+cell": {
     "cellMetadata": {
      "byteLimit": 2048000,
      "rowLimit": 10000
     },
     "inputWidgets": {},
     "nuid": "9b606ce6-d082-4e8c-a114-cbd5cc5f0bd4",
     "showTitle": false,
     "title": ""
    }
   },
   "outputs": [],
   "source": [
    "# Check for missing values in GollumEvent_df:\n",
    "# check_Missing_Val(GollumEvent_df)                # Drop Summary column as it contains mostly nulls."
   ]
  },
  {
   "cell_type": "code",
   "execution_count": 0,
   "metadata": {
    "application/vnd.databricks.v1+cell": {
     "cellMetadata": {
      "byteLimit": 2048000,
      "rowLimit": 10000
     },
     "inputWidgets": {},
     "nuid": "f5eb8704-909a-423b-a954-8e8f2bd531d6",
     "showTitle": false,
     "title": ""
    }
   },
   "outputs": [],
   "source": [
    "# Check if sha is unique:\n",
    "# check_Unique(GollumEvent_df,\"sha\")"
   ]
  },
  {
   "cell_type": "code",
   "execution_count": 0,
   "metadata": {
    "application/vnd.databricks.v1+cell": {
     "cellMetadata": {
      "byteLimit": 2048000,
      "rowLimit": 10000
     },
     "inputWidgets": {},
     "nuid": "3310d236-733a-4f61-b299-abca01af1063",
     "showTitle": false,
     "title": ""
    }
   },
   "outputs": [],
   "source": [
    "# The summary, sha and html_url columns can be dropped.\n",
    "GollumEvent_df = GollumEvent_df.select('event_id', 'action', 'page_name', 'title')\n",
    "# GollumEvent_df.limit(10).display()"
   ]
  },
  {
   "cell_type": "code",
   "execution_count": 0,
   "metadata": {
    "application/vnd.databricks.v1+cell": {
     "cellMetadata": {
      "byteLimit": 2048000,
      "rowLimit": 10000
     },
     "inputWidgets": {},
     "nuid": "424f04ef-b6cd-4bbf-8eb8-01dcf7059c05",
     "showTitle": false,
     "title": ""
    }
   },
   "outputs": [],
   "source": [
    "# Count the number of duplicate rows in GollumEvent_df\n",
    "# count_Duplicates(GollumEvent_df)"
   ]
  },
  {
   "cell_type": "code",
   "execution_count": 0,
   "metadata": {
    "application/vnd.databricks.v1+cell": {
     "cellMetadata": {
      "byteLimit": 2048000,
      "rowLimit": 10000
     },
     "inputWidgets": {},
     "nuid": "9f3f98bd-f05b-45a8-8a98-4e2f9d28221d",
     "showTitle": false,
     "title": ""
    }
   },
   "outputs": [],
   "source": [
    "GollumEvent_df = GollumEvent_df.dropDuplicates()"
   ]
  },
  {
   "cell_type": "code",
   "execution_count": 0,
   "metadata": {
    "application/vnd.databricks.v1+cell": {
     "cellMetadata": {
      "byteLimit": 2048000,
      "rowLimit": 10000
     },
     "inputWidgets": {},
     "nuid": "f2d4d7be-daf1-400b-92a3-062ef85549ac",
     "showTitle": false,
     "title": ""
    }
   },
   "outputs": [],
   "source": [
    "# Check if event_id column has only unique values:\n",
    "# check_Unique(GollumEvent_df, \"event_id\")"
   ]
  },
  {
   "cell_type": "code",
   "execution_count": 0,
   "metadata": {
    "application/vnd.databricks.v1+cell": {
     "cellMetadata": {
      "byteLimit": 2048000,
      "rowLimit": 10000
     },
     "inputWidgets": {},
     "nuid": "96b3ac64-6339-415e-85f1-a6f622f238ef",
     "showTitle": false,
     "title": ""
    }
   },
   "outputs": [],
   "source": [
    "# Adding a row number column as primary key, since event_id is not unique\n",
    "GollumEvent_df = GollumEvent_df.withColumn(\"gollum_id_PK\", row_number().over(Window.orderBy(F.monotonically_increasing_id())))\n",
    "columns = GollumEvent_df.columns\n",
    "new_columns = [\"gollum_id_PK\"] + [col_name for col_name in columns if col_name != \"gollum_id_PK\"]\n",
    "GollumEvent_df = GollumEvent_df.select(*new_columns)\n",
    "# GollumEvent_df.limit(10).display()"
   ]
  },
  {
   "cell_type": "markdown",
   "metadata": {
    "application/vnd.databricks.v1+cell": {
     "cellMetadata": {
      "byteLimit": 2048000,
      "rowLimit": 10000
     },
     "inputWidgets": {},
     "nuid": "e59f402d-dd23-4924-a4ac-cd1dcf5fc616",
     "showTitle": false,
     "title": ""
    }
   },
   "source": [
    "## MemberEvent_df"
   ]
  },
  {
   "cell_type": "code",
   "execution_count": 0,
   "metadata": {
    "application/vnd.databricks.v1+cell": {
     "cellMetadata": {
      "byteLimit": 2048000,
      "rowLimit": 10000
     },
     "inputWidgets": {},
     "nuid": "432e173d-af8a-4248-a811-64fbc9c48373",
     "showTitle": false,
     "title": ""
    }
   },
   "outputs": [],
   "source": [
    "# Activity related to repository collaborators\n",
    "MemberEvent_df = flattened_df.where(col(\"type\")==\"MemberEvent\").select(\"event_id\", \"payload.*\")"
   ]
  },
  {
   "cell_type": "code",
   "execution_count": 0,
   "metadata": {
    "application/vnd.databricks.v1+cell": {
     "cellMetadata": {
      "byteLimit": 2048000,
      "rowLimit": 10000
     },
     "inputWidgets": {},
     "nuid": "edc10b31-f248-4012-8fe5-7c7f8b854eb7",
     "showTitle": false,
     "title": ""
    }
   },
   "outputs": [],
   "source": [
    "# The only columns that have value in them are: event_id, action, and member (which is nested and needs to be expanded):\n",
    "MemberEvent_df = MemberEvent_df.select(\"event_id\", \"action\", \"member.*\")\n",
    "# MemberEvent_df.limit(10).display()"
   ]
  },
  {
   "cell_type": "code",
   "execution_count": 0,
   "metadata": {
    "application/vnd.databricks.v1+cell": {
     "cellMetadata": {
      "byteLimit": 2048000,
      "rowLimit": 10000
     },
     "inputWidgets": {},
     "nuid": "21175720-cd24-4c66-8147-fc18a45cbccb",
     "showTitle": false,
     "title": ""
    }
   },
   "outputs": [],
   "source": [
    "MemberEvent_df = MemberEvent_df.select(\"event_id\",\"action\", col(\"id\").alias(\"member_id\"), col(\"login\").alias(\"member_login\"),\n",
    "                                       col(\"site_admin\").alias(\"member_site_admin\"), col(\"type\").alias(\"member_type\"))"
   ]
  },
  {
   "cell_type": "code",
   "execution_count": 0,
   "metadata": {
    "application/vnd.databricks.v1+cell": {
     "cellMetadata": {
      "byteLimit": 2048000,
      "rowLimit": 10000
     },
     "inputWidgets": {},
     "nuid": "63b75659-9109-4ec3-975a-bb26b3e050a3",
     "showTitle": false,
     "title": ""
    }
   },
   "outputs": [],
   "source": [
    "MemberEvent_df = MemberEvent_df.dropDuplicates()"
   ]
  },
  {
   "cell_type": "code",
   "execution_count": 0,
   "metadata": {
    "application/vnd.databricks.v1+cell": {
     "cellMetadata": {
      "byteLimit": 2048000,
      "rowLimit": 10000
     },
     "inputWidgets": {},
     "nuid": "9aeda2d3-b83e-431d-919f-bab9f3878d9c",
     "showTitle": false,
     "title": ""
    }
   },
   "outputs": [],
   "source": [
    "# MemberEvent_df.limit(10).display()"
   ]
  },
  {
   "cell_type": "code",
   "execution_count": 0,
   "metadata": {
    "application/vnd.databricks.v1+cell": {
     "cellMetadata": {
      "byteLimit": 2048000,
      "rowLimit": 10000
     },
     "inputWidgets": {},
     "nuid": "1627d033-e9de-4070-87fd-34c9038cd951",
     "showTitle": false,
     "title": ""
    }
   },
   "outputs": [],
   "source": [
    "# Check distinct action types:\n",
    "# MemberEvent_df.select(\"action\").distinct().show()"
   ]
  },
  {
   "cell_type": "code",
   "execution_count": 0,
   "metadata": {
    "application/vnd.databricks.v1+cell": {
     "cellMetadata": {
      "byteLimit": 2048000,
      "rowLimit": 10000
     },
     "inputWidgets": {},
     "nuid": "6a067816-bf94-4f9d-9085-9c1dccc1c9f3",
     "showTitle": false,
     "title": ""
    }
   },
   "outputs": [],
   "source": [
    "# Check for missing values:\n",
    "# check_Missing_Val(MemberEvent_df.drop(\"member_site_admin\"))"
   ]
  },
  {
   "cell_type": "code",
   "execution_count": 0,
   "metadata": {
    "application/vnd.databricks.v1+cell": {
     "cellMetadata": {
      "byteLimit": 2048000,
      "rowLimit": 10000
     },
     "inputWidgets": {},
     "nuid": "54278139-6e80-4762-9c40-6e5f763a2e97",
     "showTitle": false,
     "title": ""
    }
   },
   "outputs": [],
   "source": [
    "# Check if event_id is unique:\n",
    "# check_Unique(MemberEvent_df, \"event_id\")"
   ]
  },
  {
   "cell_type": "markdown",
   "metadata": {
    "application/vnd.databricks.v1+cell": {
     "cellMetadata": {
      "byteLimit": 2048000,
      "rowLimit": 10000
     },
     "inputWidgets": {},
     "nuid": "f31a9df8-52f1-4e32-9c0d-e61a71410544",
     "showTitle": false,
     "title": ""
    }
   },
   "source": [
    "## IssuesEvent_df"
   ]
  },
  {
   "cell_type": "code",
   "execution_count": 0,
   "metadata": {
    "application/vnd.databricks.v1+cell": {
     "cellMetadata": {
      "byteLimit": 2048000,
      "rowLimit": 10000
     },
     "inputWidgets": {},
     "nuid": "50aa53e8-e9c9-4278-85b7-791ad2e63206",
     "showTitle": false,
     "title": ""
    }
   },
   "outputs": [],
   "source": [
    "# Activity related to an issue.\n",
    "IssuesEvent_df = flattened_df.where(col(\"type\")==\"IssuesEvent\").select(\"event_id\", \"payload.*\")"
   ]
  },
  {
   "cell_type": "code",
   "execution_count": 0,
   "metadata": {
    "application/vnd.databricks.v1+cell": {
     "cellMetadata": {
      "byteLimit": 2048000,
      "rowLimit": 10000
     },
     "inputWidgets": {},
     "nuid": "1981732f-3791-4389-85cc-9fdaa48851a6",
     "showTitle": false,
     "title": ""
    }
   },
   "outputs": [],
   "source": [
    "# Non null columns are: event_id, action, and issue (which is nested)\n",
    "IssuesEvent_df = IssuesEvent_df.select(\"event_id\",\"action\", \"issue.*\")\n",
    "# IssuesEvent_df.limit(10).display()"
   ]
  },
  {
   "cell_type": "code",
   "execution_count": 0,
   "metadata": {
    "application/vnd.databricks.v1+cell": {
     "cellMetadata": {
      "byteLimit": 2048000,
      "rowLimit": 10000
     },
     "inputWidgets": {},
     "nuid": "5ab5fa28-1901-433b-bd7a-ea627f5217c2",
     "showTitle": false,
     "title": ""
    }
   },
   "outputs": [],
   "source": [
    "IssuesEvent_df = IssuesEvent_df.select(\"event_id\", \"action\", col(\"assignee.id\").alias(\"assignee_id\"), \"closed_at\", col(\"user.id\").alias(\"user_id\"),\n",
    "                      col(\"created_at\").alias(\"issue_created_at\"), col(\"id\").alias(\"issue_id\"))\n",
    "# IssuesEvent_df.limit(10).display()\n",
    "\n",
    "IssuesEvent_df = IssuesEvent_df.withColumn(\"issue_created_at\", col(\"issue_created_at\").cast(\"timestamp\"))\n"
   ]
  },
  {
   "cell_type": "code",
   "execution_count": 0,
   "metadata": {
    "application/vnd.databricks.v1+cell": {
     "cellMetadata": {
      "byteLimit": 2048000,
      "rowLimit": 10000
     },
     "inputWidgets": {},
     "nuid": "efa0035c-1bb0-4772-82f9-69bee640578a",
     "showTitle": false,
     "title": ""
    }
   },
   "outputs": [],
   "source": [
    "# Check for missing values:\n",
    "# check_Missing_Val(IssuesEvent_df.drop(\"issue_created_at\"))"
   ]
  },
  {
   "cell_type": "code",
   "execution_count": 0,
   "metadata": {
    "application/vnd.databricks.v1+cell": {
     "cellMetadata": {
      "byteLimit": 2048000,
      "rowLimit": 10000
     },
     "inputWidgets": {},
     "nuid": "7befa74d-63c8-4d66-b66c-6ab612ce2a9f",
     "showTitle": false,
     "title": ""
    }
   },
   "outputs": [],
   "source": [
    "# Check the total number of rows:\n",
    "# IssuesEvent_df.count()"
   ]
  },
  {
   "cell_type": "code",
   "execution_count": 0,
   "metadata": {
    "application/vnd.databricks.v1+cell": {
     "cellMetadata": {
      "byteLimit": 2048000,
      "rowLimit": 10000
     },
     "inputWidgets": {},
     "nuid": "b765cf72-532f-40a4-b505-081840fa6eb0",
     "showTitle": false,
     "title": ""
    }
   },
   "outputs": [],
   "source": [
    "# Dropping the assignee_id column since it mostly contains nulls:\n",
    "IssuesEvent_df = IssuesEvent_df.drop(\"assignee\")"
   ]
  },
  {
   "cell_type": "code",
   "execution_count": 0,
   "metadata": {
    "application/vnd.databricks.v1+cell": {
     "cellMetadata": {
      "byteLimit": 2048000,
      "rowLimit": 10000
     },
     "inputWidgets": {},
     "nuid": "fede5797-d07b-4982-be6b-1c8637afcc99",
     "showTitle": false,
     "title": ""
    }
   },
   "outputs": [],
   "source": [
    "# Check for duplicate rows:\n",
    "# count_Duplicates(IssuesEvent_df)"
   ]
  },
  {
   "cell_type": "code",
   "execution_count": 0,
   "metadata": {
    "application/vnd.databricks.v1+cell": {
     "cellMetadata": {
      "byteLimit": 2048000,
      "rowLimit": 10000
     },
     "inputWidgets": {},
     "nuid": "a4a453a0-210b-491c-a972-431785788bda",
     "showTitle": false,
     "title": ""
    }
   },
   "outputs": [],
   "source": [
    "# Check if event_id is unique:\n",
    "# check_Unique(IssuesEvent_df, \"event_id\")"
   ]
  },
  {
   "cell_type": "markdown",
   "metadata": {
    "application/vnd.databricks.v1+cell": {
     "cellMetadata": {
      "byteLimit": 2048000,
      "rowLimit": 10000
     },
     "inputWidgets": {},
     "nuid": "03ef683e-a79f-44c3-9925-d1d6cf85bb80",
     "showTitle": false,
     "title": ""
    }
   },
   "source": [
    "## ForkEvent_df"
   ]
  },
  {
   "cell_type": "code",
   "execution_count": 0,
   "metadata": {
    "application/vnd.databricks.v1+cell": {
     "cellMetadata": {
      "byteLimit": 2048000,
      "rowLimit": 10000
     },
     "inputWidgets": {},
     "nuid": "f860fcaa-c7ec-4db1-bf11-2edb835bac81",
     "showTitle": false,
     "title": ""
    }
   },
   "outputs": [],
   "source": [
    "# A user forks a repository.\n",
    "ForkEvent_df = flattened_df.where(col(\"type\")==\"ForkEvent\").select(\"event_id\", \"payload.*\")"
   ]
  },
  {
   "cell_type": "code",
   "execution_count": 0,
   "metadata": {
    "application/vnd.databricks.v1+cell": {
     "cellMetadata": {
      "byteLimit": 2048000,
      "rowLimit": 10000
     },
     "inputWidgets": {},
     "nuid": "95d98941-1818-4cbf-a13f-be0316dc4eea",
     "showTitle": false,
     "title": ""
    }
   },
   "outputs": [],
   "source": [
    "# Only keep event_id column and forkee (nested) column, as all other columns are null.\n",
    "ForkEvent_df = ForkEvent_df.select(\"event_id\", \"forkee.*\")\n",
    "# ForkEvent_df.limit(10).display()"
   ]
  },
  {
   "cell_type": "code",
   "execution_count": 0,
   "metadata": {
    "application/vnd.databricks.v1+cell": {
     "cellMetadata": {
      "byteLimit": 2048000,
      "rowLimit": 10000
     },
     "inputWidgets": {},
     "nuid": "000d7dfe-32ef-422b-9b80-dbf989376024",
     "showTitle": false,
     "title": ""
    }
   },
   "outputs": [],
   "source": [
    "ForkEvent_df = ForkEvent_df.select(\"event_id\", col(\"id\").alias(\"fork_id\"), col(\"created_at\").alias(\"fork_created_at\"), \"fork\", \"forks\",\"forks_count\",\"language\", \"open_issues_count\", col(\"owner.id\").alias(\"owner_id\"), \"default_branch\")\n",
    "\n",
    "ForkEvent_df = ForkEvent_df.withColumn(\"fork_created_at\", col(\"fork_created_at\").cast(\"timestamp\"))"
   ]
  },
  {
   "cell_type": "code",
   "execution_count": 0,
   "metadata": {
    "application/vnd.databricks.v1+cell": {
     "cellMetadata": {
      "byteLimit": 2048000,
      "rowLimit": 10000
     },
     "inputWidgets": {},
     "nuid": "261734d7-ef52-4098-8c4e-013bbcf69329",
     "showTitle": false,
     "title": ""
    }
   },
   "outputs": [],
   "source": [
    "# ForkEvent_df.limit(10).display()"
   ]
  },
  {
   "cell_type": "code",
   "execution_count": 0,
   "metadata": {
    "application/vnd.databricks.v1+cell": {
     "cellMetadata": {
      "byteLimit": 2048000,
      "rowLimit": 10000
     },
     "inputWidgets": {},
     "nuid": "1e45d2c9-c230-4938-99f7-d4eb660edea8",
     "showTitle": false,
     "title": ""
    }
   },
   "outputs": [
    {
     "output_type": "stream",
     "name": "stdout",
     "output_type": "stream",
     "text": [
      "+--------+-------+-----+-----------+--------+-----------------+--------+--------------+\n|event_id|fork_id|forks|forks_count|language|open_issues_count|owner_id|default_branch|\n+--------+-------+-----+-----------+--------+-----------------+--------+--------------+\n|       0|      0|    0|          0|   33686|                0|       0|             0|\n+--------+-------+-----+-----------+--------+-----------------+--------+--------------+\n\n"
     ]
    }
   ],
   "source": [
    "check_Missing_Val(ForkEvent_df.drop(\"fork\", \"fork_created_at\"))"
   ]
  },
  {
   "cell_type": "code",
   "execution_count": 0,
   "metadata": {
    "application/vnd.databricks.v1+cell": {
     "cellMetadata": {
      "byteLimit": 2048000,
      "rowLimit": 10000
     },
     "inputWidgets": {},
     "nuid": "8c4c983a-df63-43ba-997b-45bef55d0a32",
     "showTitle": false,
     "title": ""
    }
   },
   "outputs": [],
   "source": [
    "# ForkEvent_df.count()    # The language column is all nulls?"
   ]
  },
  {
   "cell_type": "code",
   "execution_count": 0,
   "metadata": {
    "application/vnd.databricks.v1+cell": {
     "cellMetadata": {
      "byteLimit": 2048000,
      "rowLimit": 10000
     },
     "inputWidgets": {},
     "nuid": "8e9292cc-1c45-42b9-8bfa-915a4782ac76",
     "showTitle": false,
     "title": ""
    }
   },
   "outputs": [],
   "source": [
    "# count_Duplicates(ForkEvent_df)"
   ]
  },
  {
   "cell_type": "code",
   "execution_count": 0,
   "metadata": {
    "application/vnd.databricks.v1+cell": {
     "cellMetadata": {
      "byteLimit": 2048000,
      "rowLimit": 10000
     },
     "inputWidgets": {},
     "nuid": "954d2618-e051-4947-a24f-3dac25aa1aad",
     "showTitle": false,
     "title": ""
    }
   },
   "outputs": [],
   "source": [
    "# Find the top 5 default branch names based on their count: \"main\" and \"master\" should be the most recurring ones.\n",
    "# df_grouped = ForkEvent_df.groupBy(\"default_branch\").agg(count(\"*\").alias(\"count\"))\n",
    "# df_sorted = df_grouped.sort(\"count\", ascending=False)\n",
    "# df_sorted.limit(10).display()"
   ]
  },
  {
   "cell_type": "code",
   "execution_count": 0,
   "metadata": {
    "application/vnd.databricks.v1+cell": {
     "cellMetadata": {
      "byteLimit": 2048000,
      "rowLimit": 10000
     },
     "inputWidgets": {},
     "nuid": "a27b4f3b-bcc9-45ff-be32-c46f4c01886b",
     "showTitle": false,
     "title": ""
    }
   },
   "outputs": [],
   "source": [
    "# ForkEvent_df.select(\"open_issues_count\").distinct().show()   # open_issues_count can be dropped since it only contain one value: 0"
   ]
  },
  {
   "cell_type": "code",
   "execution_count": 0,
   "metadata": {
    "application/vnd.databricks.v1+cell": {
     "cellMetadata": {
      "byteLimit": 2048000,
      "rowLimit": 10000
     },
     "inputWidgets": {},
     "nuid": "3e8b1176-eead-46cf-921c-aff480e27a00",
     "showTitle": false,
     "title": ""
    }
   },
   "outputs": [],
   "source": [
    "# ForkEvent_df.select(\"fork\").distinct().show()   # The fork column only contains one value: true, so it can be dropped"
   ]
  },
  {
   "cell_type": "code",
   "execution_count": 0,
   "metadata": {
    "application/vnd.databricks.v1+cell": {
     "cellMetadata": {
      "byteLimit": 2048000,
      "rowLimit": 10000
     },
     "inputWidgets": {},
     "nuid": "0e62c476-5d6e-4b46-a7ec-6ed89eab79d3",
     "showTitle": false,
     "title": ""
    }
   },
   "outputs": [],
   "source": [
    "# ForkEvent_df.select(\"forks\").distinct().show()   # The forks column only contains one value: true, which makes sense because the df only contains fork events, so it can be dropped"
   ]
  },
  {
   "cell_type": "code",
   "execution_count": 0,
   "metadata": {
    "application/vnd.databricks.v1+cell": {
     "cellMetadata": {
      "byteLimit": 2048000,
      "rowLimit": 10000
     },
     "inputWidgets": {},
     "nuid": "a12c89a4-5acc-415d-b10f-ae28f1c545ba",
     "showTitle": false,
     "title": ""
    }
   },
   "outputs": [],
   "source": [
    "ForkEvent_df = ForkEvent_df.drop(\"language\", \"open_issues_count\", \"fork\", \"forks\")\n"
   ]
  },
  {
   "cell_type": "code",
   "execution_count": 0,
   "metadata": {
    "application/vnd.databricks.v1+cell": {
     "cellMetadata": {
      "byteLimit": 2048000,
      "rowLimit": 10000
     },
     "inputWidgets": {},
     "nuid": "d4f56bb9-2e28-4e77-b08a-31cefe9946f1",
     "showTitle": false,
     "title": ""
    }
   },
   "outputs": [],
   "source": [
    "# check_Unique(ForkEvent_df, \"event_id\")"
   ]
  },
  {
   "cell_type": "code",
   "execution_count": 0,
   "metadata": {
    "application/vnd.databricks.v1+cell": {
     "cellMetadata": {
      "byteLimit": 2048000,
      "rowLimit": 10000
     },
     "inputWidgets": {},
     "nuid": "5d880a48-e78c-4a21-9b7f-11aebef2b1e3",
     "showTitle": false,
     "title": ""
    }
   },
   "outputs": [
    {
     "output_type": "display_data",
     "data": {
      "text/html": [
       "<style scoped>\n",
       "  .table-result-container {\n",
       "    max-height: 300px;\n",
       "    overflow: auto;\n",
       "  }\n",
       "  table, th, td {\n",
       "    border: 1px solid black;\n",
       "    border-collapse: collapse;\n",
       "  }\n",
       "  th, td {\n",
       "    padding: 5px;\n",
       "  }\n",
       "  th {\n",
       "    text-align: left;\n",
       "  }\n",
       "</style><div class='table-result-container'><table class='table-result'><thead style='background-color: white'><tr><th>event_id</th><th>fork_id</th><th>fork_created_at</th><th>forks_count</th><th>owner_id</th><th>default_branch</th></tr></thead><tbody><tr><td>19541181382</td><td>443443572</td><td>2022-01-01T00:01:17.000+0000</td><td>0</td><td>72463938</td><td>main</td></tr><tr><td>19541207342</td><td>443443974</td><td>2022-01-01T00:05:14.000+0000</td><td>0</td><td>127967</td><td>main</td></tr><tr><td>19541207607</td><td>443443977</td><td>2022-01-01T00:05:16.000+0000</td><td>0</td><td>16996420</td><td>main</td></tr><tr><td>19541210000</td><td>443444034</td><td>2022-01-01T00:05:40.000+0000</td><td>0</td><td>30208534</td><td>main</td></tr><tr><td>19541210104</td><td>443444036</td><td>2022-01-01T00:05:41.000+0000</td><td>0</td><td>19158291</td><td>main</td></tr><tr><td>19541216972</td><td>443444150</td><td>2022-01-01T00:06:58.000+0000</td><td>0</td><td>86165899</td><td>main</td></tr><tr><td>19541221476</td><td>443444234</td><td>2022-01-01T00:07:51.000+0000</td><td>0</td><td>80707194</td><td>main</td></tr><tr><td>19541230152</td><td>443444429</td><td>2022-01-01T00:09:46.000+0000</td><td>0</td><td>29532712</td><td>main</td></tr><tr><td>19541244423</td><td>443444733</td><td>2022-01-01T00:13:08.000+0000</td><td>0</td><td>16312458</td><td>main</td></tr><tr><td>19541258091</td><td>443445150</td><td>2022-01-01T00:16:53.000+0000</td><td>0</td><td>94422273</td><td>main</td></tr></tbody></table></div>"
      ]
     },
     "metadata": {
      "application/vnd.databricks.v1+output": {
       "addedWidgets": {},
       "aggData": [],
       "aggError": "",
       "aggOverflow": false,
       "aggSchema": [],
       "aggSeriesLimitReached": false,
       "aggType": "",
       "arguments": {},
       "columnCustomDisplayInfos": {},
       "data": [
        [
         "19541181382",
         443443572,
         "2022-01-01T00:01:17.000+0000",
         0,
         72463938,
         "main"
        ],
        [
         "19541207342",
         443443974,
         "2022-01-01T00:05:14.000+0000",
         0,
         127967,
         "main"
        ],
        [
         "19541207607",
         443443977,
         "2022-01-01T00:05:16.000+0000",
         0,
         16996420,
         "main"
        ],
        [
         "19541210000",
         443444034,
         "2022-01-01T00:05:40.000+0000",
         0,
         30208534,
         "main"
        ],
        [
         "19541210104",
         443444036,
         "2022-01-01T00:05:41.000+0000",
         0,
         19158291,
         "main"
        ],
        [
         "19541216972",
         443444150,
         "2022-01-01T00:06:58.000+0000",
         0,
         86165899,
         "main"
        ],
        [
         "19541221476",
         443444234,
         "2022-01-01T00:07:51.000+0000",
         0,
         80707194,
         "main"
        ],
        [
         "19541230152",
         443444429,
         "2022-01-01T00:09:46.000+0000",
         0,
         29532712,
         "main"
        ],
        [
         "19541244423",
         443444733,
         "2022-01-01T00:13:08.000+0000",
         0,
         16312458,
         "main"
        ],
        [
         "19541258091",
         443445150,
         "2022-01-01T00:16:53.000+0000",
         0,
         94422273,
         "main"
        ]
       ],
       "datasetInfos": [],
       "dbfsResultPath": null,
       "isJsonSchema": true,
       "metadata": {},
       "overflow": false,
       "plotOptions": {
        "customPlotOptions": {},
        "displayType": "table",
        "pivotAggregation": null,
        "pivotColumns": null,
        "xColumns": null,
        "yColumns": null
       },
       "removedWidgets": [],
       "schema": [
        {
         "metadata": "{}",
         "name": "event_id",
         "type": "\"string\""
        },
        {
         "metadata": "{}",
         "name": "fork_id",
         "type": "\"long\""
        },
        {
         "metadata": "{}",
         "name": "fork_created_at",
         "type": "\"timestamp\""
        },
        {
         "metadata": "{}",
         "name": "forks_count",
         "type": "\"long\""
        },
        {
         "metadata": "{}",
         "name": "owner_id",
         "type": "\"long\""
        },
        {
         "metadata": "{}",
         "name": "default_branch",
         "type": "\"string\""
        }
       ],
       "type": "table"
      }
     },
     "output_type": "display_data"
    }
   ],
   "source": [
    "ForkEvent_df.limit(10).display()"
   ]
  },
  {
   "cell_type": "markdown",
   "metadata": {
    "application/vnd.databricks.v1+cell": {
     "cellMetadata": {
      "byteLimit": 2048000,
      "rowLimit": 10000
     },
     "inputWidgets": {},
     "nuid": "7cd074da-417d-4ce4-a754-f80c7546a110",
     "showTitle": false,
     "title": ""
    }
   },
   "source": [
    "## IssueCommentEvent_df"
   ]
  },
  {
   "cell_type": "code",
   "execution_count": 0,
   "metadata": {
    "application/vnd.databricks.v1+cell": {
     "cellMetadata": {
      "byteLimit": 2048000,
      "rowLimit": 10000
     },
     "inputWidgets": {},
     "nuid": "6e88823f-7d34-4379-b395-11cb671598f9",
     "showTitle": false,
     "title": ""
    }
   },
   "outputs": [],
   "source": [
    "# Activity related to an issue or pull request comment.\n",
    "IssueCommentEvent_df = flattened_df.where(col(\"type\")==\"IssueCommentEvent\").select(\"event_id\", \"payload.*\")\n",
    "#IssueCommentEvent_df.limit(10).display()"
   ]
  },
  {
   "cell_type": "code",
   "execution_count": 0,
   "metadata": {
    "application/vnd.databricks.v1+cell": {
     "cellMetadata": {
      "byteLimit": 2048000,
      "rowLimit": 10000
     },
     "inputWidgets": {},
     "nuid": "050b3c67-b0d6-4c5a-a3ef-5d5db790a2f9",
     "showTitle": false,
     "title": ""
    }
   },
   "outputs": [],
   "source": [
    "# The only non-null columns in Payload are : event_id, action, comment and issue, selected below.\n",
    "# First, unnesting the nested issue column:\n",
    "IssueCommentEvent_df = IssueCommentEvent_df.select(\"event_id\", \"action\", \"issue.*\", \"comment\")\n",
    "#IssueCommentEvent_df.limit(10).display()"
   ]
  },
  {
   "cell_type": "code",
   "execution_count": 0,
   "metadata": {
    "application/vnd.databricks.v1+cell": {
     "cellMetadata": {
      "byteLimit": 2048000,
      "rowLimit": 10000
     },
     "inputWidgets": {},
     "nuid": "94b15e54-58fd-4d41-84db-f0cec3521ce3",
     "showTitle": false,
     "title": ""
    }
   },
   "outputs": [],
   "source": [
    "# Selecting event_id, action, as well as specific columns from issue and also unnesting the comment column:\n",
    "IssueCommentEvent_df = IssueCommentEvent_df.select(\"event_id\", \"action\", col(\"created_at\").alias(\"issue_created_at\"), \n",
    "                                                   col(\"id\").alias(\"issue_id\"), col(\"user.id\").alias(\"issue_user_id\"), \"comment.*\" )\n",
    "IssueCommentEvent_df = IssueCommentEvent_df.withColumn(\"issue_created_at\", col(\"issue_created_at\").cast(\"timestamp\"))\n",
    "\n",
    "IssueCommentEvent_df = IssueCommentEvent_df.select(\"event_id\", \"action\", \"issue_created_at\", \"issue_id\", \"issue_user_id\",\n",
    "                                                   col(\"created_at\").alias(\"comment_created_at\"), col(\"id\").alias(\"comment_id\"), \n",
    "                                                   col(\"user.id\").alias(\"comment_user_id\"))\n",
    "IssueCommentEvent_df = IssueCommentEvent_df.withColumn(\"comment_created_at\", col(\"comment_created_at\").cast(\"timestamp\"))                                                                                      "
   ]
  },
  {
   "cell_type": "code",
   "execution_count": 0,
   "metadata": {
    "application/vnd.databricks.v1+cell": {
     "cellMetadata": {
      "byteLimit": 2048000,
      "rowLimit": 10000
     },
     "inputWidgets": {},
     "nuid": "f578011f-097d-48e5-b85f-6142a8ae3f62",
     "showTitle": false,
     "title": ""
    }
   },
   "outputs": [],
   "source": [
    "#IssueCommentEvent_df.limit(10).display()"
   ]
  },
  {
   "cell_type": "code",
   "execution_count": 0,
   "metadata": {
    "application/vnd.databricks.v1+cell": {
     "cellMetadata": {
      "byteLimit": 2048000,
      "rowLimit": 10000
     },
     "inputWidgets": {},
     "nuid": "0d456568-3b8d-435d-8b77-1c2dc0bf6643",
     "showTitle": false,
     "title": ""
    }
   },
   "outputs": [],
   "source": [
    "# Check for duplicate rows:\n",
    "# count_Duplicates(IssueCommentEvent_df)"
   ]
  },
  {
   "cell_type": "code",
   "execution_count": 0,
   "metadata": {
    "application/vnd.databricks.v1+cell": {
     "cellMetadata": {
      "byteLimit": 2048000,
      "rowLimit": 10000
     },
     "inputWidgets": {},
     "nuid": "f388dea2-c342-4fe8-9327-95cd6b42aaac",
     "showTitle": false,
     "title": ""
    }
   },
   "outputs": [],
   "source": [
    "# Check for missing values:\n",
    "# check_Missing_Val(IssueCommentEvent_df.drop(\"issue_created_at\", \"comment_created_at\"))"
   ]
  },
  {
   "cell_type": "code",
   "execution_count": 0,
   "metadata": {
    "application/vnd.databricks.v1+cell": {
     "cellMetadata": {
      "byteLimit": 2048000,
      "rowLimit": 10000
     },
     "inputWidgets": {},
     "nuid": "09b18932-1991-4873-83ed-e26e2c95dddd",
     "showTitle": false,
     "title": ""
    }
   },
   "outputs": [],
   "source": [
    "# Check the distinct action types:\n",
    "# IssueCommentEvent_df.select(\"action\").distinct().show()"
   ]
  },
  {
   "cell_type": "code",
   "execution_count": 0,
   "metadata": {
    "application/vnd.databricks.v1+cell": {
     "cellMetadata": {
      "byteLimit": 2048000,
      "rowLimit": 10000
     },
     "inputWidgets": {},
     "nuid": "ba8b6e51-54d2-44dd-9041-b8e23b49385f",
     "showTitle": false,
     "title": ""
    }
   },
   "outputs": [],
   "source": [
    "# Check if event_id is unique:\n",
    "# check_Unique(IssueCommentEvent_df, \"event_id\")"
   ]
  },
  {
   "cell_type": "code",
   "execution_count": 0,
   "metadata": {
    "application/vnd.databricks.v1+cell": {
     "cellMetadata": {
      "byteLimit": 2048000,
      "rowLimit": 10000
     },
     "inputWidgets": {},
     "nuid": "d3e50c40-9d56-4b11-8375-63b76400cd61",
     "showTitle": false,
     "title": ""
    }
   },
   "outputs": [],
   "source": [
    "# IssueCommentEvent_df.columns"
   ]
  },
  {
   "cell_type": "markdown",
   "metadata": {
    "application/vnd.databricks.v1+cell": {
     "cellMetadata": {
      "byteLimit": 2048000,
      "rowLimit": 10000
     },
     "inputWidgets": {},
     "nuid": "b8a78e0f-9f26-461d-8f73-9bab9b7788d4",
     "showTitle": false,
     "title": ""
    }
   },
   "source": [
    "## WatchEvent"
   ]
  },
  {
   "cell_type": "code",
   "execution_count": 0,
   "metadata": {
    "application/vnd.databricks.v1+cell": {
     "cellMetadata": {
      "byteLimit": 2048000,
      "rowLimit": 10000
     },
     "inputWidgets": {},
     "nuid": "968d9b13-95c2-4a39-8cfd-d91d08c3e86f",
     "showTitle": false,
     "title": ""
    }
   },
   "outputs": [],
   "source": [
    "WatchEvent_df = flattened_df.where(col(\"type\")==\"WatchEvent\").select(\"event_id\", \"payload.*\")"
   ]
  },
  {
   "cell_type": "code",
   "execution_count": 0,
   "metadata": {
    "application/vnd.databricks.v1+cell": {
     "cellMetadata": {
      "byteLimit": 2048000,
      "rowLimit": 10000
     },
     "inputWidgets": {},
     "nuid": "02d8d0de-0a4e-4c01-ab5c-ab83d980e2bf",
     "showTitle": false,
     "title": ""
    }
   },
   "outputs": [],
   "source": [
    "WatchEvent_df = WatchEvent_df.select(\"event_id\", \"action\")\n",
    "# WatchEvent_df.limit(10).display()"
   ]
  },
  {
   "cell_type": "markdown",
   "metadata": {
    "application/vnd.databricks.v1+cell": {
     "cellMetadata": {
      "byteLimit": 2048000,
      "rowLimit": 10000
     },
     "inputWidgets": {},
     "nuid": "e926f6e2-0a13-4522-8500-d085dc06e67c",
     "showTitle": false,
     "title": ""
    }
   },
   "source": [
    "## PullRequestReviewCommentEvent"
   ]
  },
  {
   "cell_type": "code",
   "execution_count": 0,
   "metadata": {
    "application/vnd.databricks.v1+cell": {
     "cellMetadata": {
      "byteLimit": 2048000,
      "rowLimit": 10000
     },
     "inputWidgets": {},
     "nuid": "6ad11d8d-6c51-43e7-abcf-555f34aa3c79",
     "showTitle": false,
     "title": ""
    }
   },
   "outputs": [
    {
     "output_type": "stream",
     "name": "stdout",
     "output_type": "stream",
     "text": [
      "root\n |-- event_id: string (nullable = true)\n |-- review_comments: long (nullable = true)\n |-- pull_request_id: long (nullable = true)\n |-- repo_created_at: timestamp (nullable = true)\n |-- _repo_id: long (nullable = true)\n |-- repo_language: string (nullable = true)\n\n"
     ]
    }
   ],
   "source": [
    "PullRequestReviewCommentEvent_df = flattened_df.select(\n",
    "    col(\"event_id\"),\n",
    "    col(\"payload.pull_request.review_comments\"),\n",
    "    col(\"payload.pull_request.id\").alias(\"pull_request_id\"),\n",
    "    col(\"payload.pull_request.base.repo.created_at\").alias(\"repo_created_at\"),\n",
    "    col(\"payload.pull_request.base.repo.id\").alias(\"_repo_id\"),\n",
    "    col(\"payload.pull_request.base.repo.language\").alias(\"repo_language\")\n",
    ")\n",
    "\n",
    "PullRequestReviewCommentEvent_df = PullRequestReviewCommentEvent_df.withColumn(\"repo_created_at\", col(\"repo_created_at\").cast(\"timestamp\")) \n",
    "# Display the new DataFrame\n",
    "PullRequestReviewCommentEvent_df.printSchema()\n"
   ]
  },
  {
   "cell_type": "code",
   "execution_count": 0,
   "metadata": {
    "application/vnd.databricks.v1+cell": {
     "cellMetadata": {
      "byteLimit": 2048000,
      "rowLimit": 10000
     },
     "inputWidgets": {},
     "nuid": "69809228-6e26-457b-a5ff-39604c971818",
     "showTitle": false,
     "title": ""
    }
   },
   "outputs": [],
   "source": [
    "# a lot of nulls on repo_id, fill repo_id from event_id join\n",
    "joined_with_event = PullRequestReviewCommentEvent_df.join(\n",
    "    Event_Table.select(\"event_id\", \"repo_id\"),\n",
    "    on=\"event_id\",\n",
    "    how=\"left\"\n",
    ")"
   ]
  },
  {
   "cell_type": "code",
   "execution_count": 0,
   "metadata": {
    "application/vnd.databricks.v1+cell": {
     "cellMetadata": {
      "byteLimit": 2048000,
      "rowLimit": 10000
     },
     "inputWidgets": {},
     "nuid": "ad884a49-f5b2-499f-9cf2-298494a6f4e7",
     "showTitle": false,
     "title": ""
    }
   },
   "outputs": [],
   "source": [
    "# Fill missing values in repo_id using coalesce\n",
    "# if theres no value, fill it in with repo_id from event_table\n",
    "filled_df = joined_with_event.withColumn(\n",
    "    \"repo_id\",\n",
    "    coalesce(joined_with_event[\"repo_id\"], Event_Table[\"repo_id\"])\n",
    ")"
   ]
  },
  {
   "cell_type": "code",
   "execution_count": 0,
   "metadata": {
    "application/vnd.databricks.v1+cell": {
     "cellMetadata": {
      "byteLimit": 2048000,
      "rowLimit": 10000
     },
     "inputWidgets": {},
     "nuid": "cd94d491-bc37-4f60-84d8-d59bd8e0de4b",
     "showTitle": false,
     "title": ""
    }
   },
   "outputs": [],
   "source": [
    "PullRequestReviewCommentEvent_df = filled_df.drop(\"_repo_id\")"
   ]
  },
  {
   "cell_type": "code",
   "execution_count": 0,
   "metadata": {
    "application/vnd.databricks.v1+cell": {
     "cellMetadata": {
      "byteLimit": 2048000,
      "rowLimit": 10000
     },
     "inputWidgets": {},
     "nuid": "bb597350-05c5-429c-96b8-b3662703ebdc",
     "showTitle": false,
     "title": ""
    }
   },
   "outputs": [],
   "source": [
    "#Fill nulls in review_comments column with 0 \n",
    "PullRequestReviewCommentEvent_df = PullRequestReviewCommentEvent_df.fillna({'review_comments': '0'})"
   ]
  },
  {
   "cell_type": "code",
   "execution_count": 0,
   "metadata": {
    "application/vnd.databricks.v1+cell": {
     "cellMetadata": {
      "byteLimit": 2048000,
      "rowLimit": 10000
     },
     "inputWidgets": {},
     "nuid": "08cf7a91-1494-404f-a563-17c241a3cadb",
     "showTitle": false,
     "title": ""
    }
   },
   "outputs": [],
   "source": [
    "#Fill nulls in repo_language with 'N/S' (Not Specified)\n",
    "PullRequestReviewCommentEvent_df = PullRequestReviewCommentEvent_df.fillna({'repo_language': 'N/S'})"
   ]
  },
  {
   "cell_type": "code",
   "execution_count": 0,
   "metadata": {
    "application/vnd.databricks.v1+cell": {
     "cellMetadata": {
      "byteLimit": 2048000,
      "rowLimit": 10000
     },
     "inputWidgets": {},
     "nuid": "fea79064-2080-405f-8e54-886e165d3d3e",
     "showTitle": false,
     "title": ""
    }
   },
   "outputs": [],
   "source": [
    "# Not within the 85% threshold\n",
    "PullRequestReviewCommentEvent_df = PullRequestReviewCommentEvent_df.drop(\"pull_request_id\", \"repo_created_at\")"
   ]
  },
  {
   "cell_type": "code",
   "execution_count": 0,
   "metadata": {
    "application/vnd.databricks.v1+cell": {
     "cellMetadata": {
      "byteLimit": 2048000,
      "rowLimit": 10000
     },
     "inputWidgets": {},
     "nuid": "124b2385-4c94-4d28-a3e1-5b3fbed298bf",
     "showTitle": false,
     "title": ""
    }
   },
   "outputs": [],
   "source": [
    "# PullRequestReviewCommentEvent_df.count()"
   ]
  },
  {
   "cell_type": "code",
   "execution_count": 0,
   "metadata": {
    "application/vnd.databricks.v1+cell": {
     "cellMetadata": {
      "byteLimit": 2048000,
      "rowLimit": 10000
     },
     "inputWidgets": {},
     "nuid": "b2cf0db7-5e88-4e10-b870-5a2144deb460",
     "showTitle": false,
     "title": ""
    }
   },
   "outputs": [],
   "source": [
    "# check_Missing_Val(PullRequestReviewCommentEvent_df.drop(\"repo_created_at\"))"
   ]
  },
  {
   "cell_type": "code",
   "execution_count": 0,
   "metadata": {
    "application/vnd.databricks.v1+cell": {
     "cellMetadata": {
      "byteLimit": 2048000,
      "rowLimit": 10000
     },
     "inputWidgets": {},
     "nuid": "7c8587a0-f8d2-4870-a27b-5195c7b500ae",
     "showTitle": false,
     "title": ""
    }
   },
   "outputs": [],
   "source": [
    "#see if event_id is null in pullrequestevent to compare to reviewcommentevent\n",
    "# PullRequestEvent_df.filter(col(\"event_id\") == \"19541175619\").show()"
   ]
  },
  {
   "cell_type": "code",
   "execution_count": 0,
   "metadata": {
    "application/vnd.databricks.v1+cell": {
     "cellMetadata": {
      "byteLimit": 2048000,
      "rowLimit": 10000
     },
     "inputWidgets": {},
     "nuid": "9682dc4d-0cc7-4132-86a6-770f6c628ae4",
     "showTitle": false,
     "title": ""
    }
   },
   "outputs": [
    {
     "output_type": "display_data",
     "data": {
      "text/html": [
       "<style scoped>\n",
       "  .table-result-container {\n",
       "    max-height: 300px;\n",
       "    overflow: auto;\n",
       "  }\n",
       "  table, th, td {\n",
       "    border: 1px solid black;\n",
       "    border-collapse: collapse;\n",
       "  }\n",
       "  th, td {\n",
       "    padding: 5px;\n",
       "  }\n",
       "  th {\n",
       "    text-align: left;\n",
       "  }\n",
       "</style><div class='table-result-container'><table class='table-result'><thead style='background-color: white'><tr><th>event_id</th><th>review_comments</th><th>repo_language</th><th>repo_id</th></tr></thead><tbody><tr><td>19541174443</td><td>0</td><td>N/S</td><td>436559311</td></tr><tr><td>19541174699</td><td>0</td><td>N/S</td><td>379863144</td></tr><tr><td>19541174735</td><td>0</td><td>N/S</td><td>442018948</td></tr><tr><td>19541174889</td><td>0</td><td>N/S</td><td>420826190</td></tr><tr><td>19541175484</td><td>0</td><td>N/S</td><td>138681984</td></tr></tbody></table></div>"
      ]
     },
     "metadata": {
      "application/vnd.databricks.v1+output": {
       "addedWidgets": {},
       "aggData": [],
       "aggError": "",
       "aggOverflow": false,
       "aggSchema": [],
       "aggSeriesLimitReached": false,
       "aggType": "",
       "arguments": {},
       "columnCustomDisplayInfos": {},
       "data": [
        [
         "19541174443",
         0,
         "N/S",
         436559311
        ],
        [
         "19541174699",
         0,
         "N/S",
         379863144
        ],
        [
         "19541174735",
         0,
         "N/S",
         442018948
        ],
        [
         "19541174889",
         0,
         "N/S",
         420826190
        ],
        [
         "19541175484",
         0,
         "N/S",
         138681984
        ]
       ],
       "datasetInfos": [],
       "dbfsResultPath": null,
       "isJsonSchema": true,
       "metadata": {},
       "overflow": false,
       "plotOptions": {
        "customPlotOptions": {},
        "displayType": "table",
        "pivotAggregation": null,
        "pivotColumns": null,
        "xColumns": null,
        "yColumns": null
       },
       "removedWidgets": [],
       "schema": [
        {
         "metadata": "{}",
         "name": "event_id",
         "type": "\"string\""
        },
        {
         "metadata": "{}",
         "name": "review_comments",
         "type": "\"long\""
        },
        {
         "metadata": "{}",
         "name": "repo_language",
         "type": "\"string\""
        },
        {
         "metadata": "{}",
         "name": "repo_id",
         "type": "\"long\""
        }
       ],
       "type": "table"
      }
     },
     "output_type": "display_data"
    }
   ],
   "source": [
    "PullRequestReviewCommentEvent_df.limit(5).display()"
   ]
  },
  {
   "cell_type": "markdown",
   "metadata": {
    "application/vnd.databricks.v1+cell": {
     "cellMetadata": {
      "byteLimit": 2048000,
      "rowLimit": 10000
     },
     "inputWidgets": {},
     "nuid": "05935173-a6c1-462c-8bd4-3ed9b999001e",
     "showTitle": false,
     "title": ""
    }
   },
   "source": [
    "## Write the Silver Layer:"
   ]
  },
  {
   "cell_type": "markdown",
   "metadata": {
    "application/vnd.databricks.v1+cell": {
     "cellMetadata": {
      "byteLimit": 2048000,
      "rowLimit": 10000
     },
     "inputWidgets": {},
     "nuid": "513bf5d7-c1a2-4084-8b42-da61bb6e657e",
     "showTitle": false,
     "title": ""
    }
   },
   "source": [
    "\n",
    "# Tables listed"
   ]
  },
  {
   "cell_type": "code",
   "execution_count": 0,
   "metadata": {
    "application/vnd.databricks.v1+cell": {
     "cellMetadata": {
      "byteLimit": 2048000,
      "rowLimit": 10000
     },
     "inputWidgets": {},
     "nuid": "fc77ba4a-0a8b-4bbb-aab6-f809bbf60390",
     "showTitle": false,
     "title": ""
    }
   },
   "outputs": [
    {
     "output_type": "display_data",
     "data": {
      "text/html": [
       "<style scoped>\n",
       "  .ansiout {\n",
       "    display: block;\n",
       "    unicode-bidi: embed;\n",
       "    white-space: pre-wrap;\n",
       "    word-wrap: break-word;\n",
       "    word-break: break-all;\n",
       "    font-family: \"Source Code Pro\", \"Menlo\", monospace;;\n",
       "    font-size: 13px;\n",
       "    color: #555;\n",
       "    margin-left: 4px;\n",
       "    line-height: 19px;\n",
       "  }\n",
       "</style>"
      ]
     },
     "metadata": {
      "application/vnd.databricks.v1+output": {
       "arguments": {},
       "data": "",
       "errorSummary": "Cancelled",
       "errorTraceType": "html",
       "metadata": {},
       "type": "ipynbError"
      }
     },
     "output_type": "display_data"
    }
   ],
   "source": [
    "table_string_names = [\"Event_Table\",\n",
    "\"repo_df\",\n",
    "\"actor_df\",\n",
    "\"organization_df\",\n",
    "\"PushEvent_df\",\n",
    "\"ReleaseEvent_df\",\n",
    "\"CreateEvent_df\",\n",
    "\"PullRequestEvent_df\",\n",
    "\"CommitCommentEvent_df\",\n",
    "\"PullRequestReviewCommentEvent_df\",\n",
    "\"DeleteEvent_df\",\n",
    "\"GollumEvent_df\",\n",
    "\"MemberEvent_df\",\n",
    "\"IssuesEvent_df\",\n",
    "\"ForkEvent_df\",\n",
    "\"IssueCommentEvent_df\",\n",
    "\"WatchEvent\"]"
   ]
  },
  {
   "cell_type": "code",
   "execution_count": 0,
   "metadata": {
    "application/vnd.databricks.v1+cell": {
     "cellMetadata": {
      "byteLimit": 2048000,
      "rowLimit": 10000
     },
     "inputWidgets": {},
     "nuid": "f4a62ebc-6ab5-4722-843f-62c0993df046",
     "showTitle": false,
     "title": ""
    }
   },
   "outputs": [
    {
     "output_type": "display_data",
     "data": {
      "text/html": [
       "<style scoped>\n",
       "  .ansiout {\n",
       "    display: block;\n",
       "    unicode-bidi: embed;\n",
       "    white-space: pre-wrap;\n",
       "    word-wrap: break-word;\n",
       "    word-break: break-all;\n",
       "    font-family: \"Source Code Pro\", \"Menlo\", monospace;;\n",
       "    font-size: 13px;\n",
       "    color: #555;\n",
       "    margin-left: 4px;\n",
       "    line-height: 19px;\n",
       "  }\n",
       "</style>"
      ]
     },
     "metadata": {
      "application/vnd.databricks.v1+output": {
       "arguments": {},
       "data": "",
       "errorSummary": "Cancelled",
       "errorTraceType": "html",
       "metadata": {},
       "type": "ipynbError"
      }
     },
     "output_type": "display_data"
    }
   ],
   "source": [
    "# multiply by 0.242 for partition number (multiply by 31, divide by 128)\n",
    "table_names = [Event_Table,               # 290.5  MB (70.3 part)\n",
    "repo_df,                                  #  68.6  MB (16.6)                \n",
    "actor_df,                                 # 207.9  MB (50.3)\n",
    "organization_df,                          #  29.4  MB (7.1)\n",
    "PushEvent_df,                             # 292.0  MB (70.6)\n",
    "ReleaseEvent_df,                          #   0.52 MB (0.126)\n",
    "CreateEvent_df,                           #  15.4  MB (3.73)\n",
    "PullRequestEvent_df,                      #  12.8  MB (3.1)\n",
    "CommitCommentEvent_df,                    #  11.2  MB (2.71)\n",
    "PullRequestReviewCommentEvent_df,         #  36.2  MB (8.7)  \n",
    "DeleteEvent_df,                           #  4.28 MB (1.04 part)\n",
    "GollumEvent_df,                           #  0.53 MB (0.128 part)\n",
    "MemberEvent_df,                           #  0.37 MB (0.09 part)\n",
    "IssuesEvent_df,                           #  4.15 MB (1.0043)\n",
    "ForkEvent_df,                             #  2.96 MB (3.08 part) \n",
    "IssueCommentEvent_df,                     # 12.74 MB (3.08 part)\n",
    "WatchEvent_df]                            #  2.52 MB (0.61 part)\n",
    "\n",
    "partition_size = [71, 17, 51, 8, 71, 1, 4, 4, 3, 9, 2, 1, 1, 2, 4, 4, 1]\n"
   ]
  },
  {
   "cell_type": "code",
   "execution_count": 0,
   "metadata": {
    "application/vnd.databricks.v1+cell": {
     "cellMetadata": {
      "byteLimit": 2048000,
      "rowLimit": 10000
     },
     "inputWidgets": {},
     "nuid": "a452d54a-4c7f-4fef-8a4b-679f3d953bdc",
     "showTitle": false,
     "title": ""
    }
   },
   "outputs": [
    {
     "output_type": "display_data",
     "data": {
      "text/html": [
       "<style scoped>\n",
       "  .ansiout {\n",
       "    display: block;\n",
       "    unicode-bidi: embed;\n",
       "    white-space: pre-wrap;\n",
       "    word-wrap: break-word;\n",
       "    word-break: break-all;\n",
       "    font-family: \"Source Code Pro\", \"Menlo\", monospace;;\n",
       "    font-size: 13px;\n",
       "    color: #555;\n",
       "    margin-left: 4px;\n",
       "    line-height: 19px;\n",
       "  }\n",
       "</style>"
      ]
     },
     "metadata": {
      "application/vnd.databricks.v1+output": {
       "arguments": {},
       "data": "",
       "errorSummary": "Cancelled",
       "errorTraceType": "html",
       "metadata": {},
       "type": "ipynbError"
      }
     },
     "output_type": "display_data"
    }
   ],
   "source": [
    "# Write the tables one at a time based on a specific repartition number to the silver layer container\n",
    "for indx, table_name in enumerate(table_names):\n",
    "    df_name = table_name\n",
    "    df_name.repartition(partition_size[indx]).write.format(\"parquet\").mode(\"overwrite\").save(f\"abfss://{contname}@{storage_acct_name}.dfs.core.windows.net/SilverLayer/{table_string_names[indx]}\")\n",
    "\n",
    "    "
   ]
  },
  {
   "cell_type": "markdown",
   "metadata": {
    "application/vnd.databricks.v1+cell": {
     "cellMetadata": {
      "byteLimit": 2048000,
      "rowLimit": 10000
     },
     "inputWidgets": {},
     "nuid": "51492170-5a65-4f3c-91ee-6ee11de2675a",
     "showTitle": false,
     "title": ""
    }
   },
   "source": [
    "\n",
    "## Confirm successful write to the datalake"
   ]
  },
  {
   "cell_type": "code",
   "execution_count": 0,
   "metadata": {
    "application/vnd.databricks.v1+cell": {
     "cellMetadata": {
      "byteLimit": 2048000,
      "rowLimit": 10000
     },
     "inputWidgets": {},
     "nuid": "5a93e302-f32a-430c-9091-c077bd18e529",
     "showTitle": false,
     "title": ""
    }
   },
   "outputs": [
    {
     "output_type": "display_data",
     "data": {
      "text/html": [
       "<style scoped>\n",
       "  .ansiout {\n",
       "    display: block;\n",
       "    unicode-bidi: embed;\n",
       "    white-space: pre-wrap;\n",
       "    word-wrap: break-word;\n",
       "    word-break: break-all;\n",
       "    font-family: \"Source Code Pro\", \"Menlo\", monospace;;\n",
       "    font-size: 13px;\n",
       "    color: #555;\n",
       "    margin-left: 4px;\n",
       "    line-height: 19px;\n",
       "  }\n",
       "</style>"
      ]
     },
     "metadata": {
      "application/vnd.databricks.v1+output": {
       "arguments": {},
       "data": "",
       "errorSummary": "Cancelled",
       "errorTraceType": "html",
       "metadata": {},
       "type": "ipynbError"
      }
     },
     "output_type": "display_data"
    }
   ],
   "source": [
    "# After writing files to the datalake, run:\n",
    "display(dbutils.fs.ls(f\"abfss://{contname}@{storage_acct_name}.dfs.core.windows.net/\"))"
   ]
  }
 ],
 "metadata": {
  "application/vnd.databricks.v1+notebook": {
   "dashboards": [],
   "language": "python",
   "notebookMetadata": {
    "pythonIndentUnit": 4
   },
   "notebookName": "Proj2_Team3_Silver_2023-10-04",
   "widgets": {}
  }
 },
 "nbformat": 4,
 "nbformat_minor": 0
}
