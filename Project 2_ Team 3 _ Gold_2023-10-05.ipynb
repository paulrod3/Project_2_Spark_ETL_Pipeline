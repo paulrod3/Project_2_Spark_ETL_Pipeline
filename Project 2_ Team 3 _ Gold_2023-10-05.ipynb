{
 "cells": [
  {
   "cell_type": "markdown",
   "metadata": {
    "application/vnd.databricks.v1+cell": {
     "cellMetadata": {
      "byteLimit": 2048000,
      "rowLimit": 10000
     },
     "inputWidgets": {},
     "nuid": "f703adf7-dd20-4b02-bf82-b28d179b4d13",
     "showTitle": false,
     "title": ""
    }
   },
   "source": [
    "# Project 2_ Team 3 _ Silver to Gold Layer"
   ]
  },
  {
   "cell_type": "markdown",
   "metadata": {
    "application/vnd.databricks.v1+cell": {
     "cellMetadata": {},
     "inputWidgets": {},
     "nuid": "da5a9822-8f57-42f1-8aec-258a68e1b3cd",
     "showTitle": false,
     "title": ""
    }
   },
   "source": [
    "\n",
    "## Import the necessary libraries/functions"
   ]
  },
  {
   "cell_type": "code",
   "execution_count": 0,
   "metadata": {
    "application/vnd.databricks.v1+cell": {
     "cellMetadata": {
      "byteLimit": 2048000,
      "rowLimit": 10000
     },
     "inputWidgets": {},
     "nuid": "82b3eef1-3f64-4719-a0e1-c2b5de909e79",
     "showTitle": false,
     "title": ""
    }
   },
   "outputs": [],
   "source": [
    "\n",
    "import pyspark.sql.functions as F\n",
    "from pyspark.sql.functions import col, count, countDistinct, split, reverse\n",
    "from pyspark.sql.types import StructField, StructType, StringType, LongType, IntegerType, DateType, FloatType, BooleanType"
   ]
  },
  {
   "cell_type": "markdown",
   "metadata": {
    "application/vnd.databricks.v1+cell": {
     "cellMetadata": {},
     "inputWidgets": {},
     "nuid": "ebafdd93-d2e9-4612-8480-cc575cd9a6d1",
     "showTitle": false,
     "title": ""
    }
   },
   "source": [
    "\n",
    "## Configure access to our Azure Storage account container:"
   ]
  },
  {
   "cell_type": "code",
   "execution_count": 0,
   "metadata": {
    "application/vnd.databricks.v1+cell": {
     "cellMetadata": {
      "byteLimit": 2048000,
      "rowLimit": 10000
     },
     "inputWidgets": {},
     "nuid": "2f0c7a80-d50d-438f-a7fa-24ffe7d34940",
     "showTitle": false,
     "title": ""
    }
   },
   "outputs": [],
   "source": [
    "\n",
    "contname = 'team3-project2' #azure storage account container\n",
    "storage_acct_name = '20230821desa'\n",
    "client_id = 'de4ff859-02b1-4e2f-9d16-b578fa03df4f' #aka: app id\n",
    "tenant_id = '33da9f3f-4c1a-4640-8ce1-3f63024aea1d' #aka: directory id\n",
    "service_credential = dbutils.secrets.get(scope=\"databricks-app-kv\",key=\"databricks-application\")"
   ]
  },
  {
   "cell_type": "markdown",
   "metadata": {
    "application/vnd.databricks.v1+cell": {
     "cellMetadata": {},
     "inputWidgets": {},
     "nuid": "65f1f4fe-1745-42b2-8ed2-917b3316c125",
     "showTitle": false,
     "title": ""
    }
   },
   "source": [
    "\n",
    "## Configure Spark to access Azure Storage securely using OAuth-based authentication:"
   ]
  },
  {
   "cell_type": "code",
   "execution_count": 0,
   "metadata": {
    "application/vnd.databricks.v1+cell": {
     "cellMetadata": {
      "byteLimit": 2048000,
      "rowLimit": 10000
     },
     "inputWidgets": {},
     "nuid": "8be8c55c-93ff-43f1-b97a-f41bdce7e3ef",
     "showTitle": false,
     "title": ""
    }
   },
   "outputs": [],
   "source": [
    "\n",
    "spark.conf.set(f\"fs.azure.account.auth.type.{storage_acct_name}.dfs.core.windows.net\", \"OAuth\")\n",
    "spark.conf.set(f\"fs.azure.account.oauth.provider.type.{storage_acct_name}.dfs.core.windows.net\", \"org.apache.hadoop.fs.azurebfs.oauth2.ClientCredsTokenProvider\")\n",
    "spark.conf.set(f\"fs.azure.account.oauth2.client.id.{storage_acct_name}.dfs.core.windows.net\", f\"{client_id}\")\n",
    "spark.conf.set(f\"fs.azure.account.oauth2.client.secret.{storage_acct_name}.dfs.core.windows.net\", service_credential)\n",
    "spark.conf.set(f\"fs.azure.account.oauth2.client.endpoint.{storage_acct_name}.dfs.core.windows.net\", f\"https://login.microsoftonline.com/{tenant_id}/oauth2/token\")"
   ]
  },
  {
   "cell_type": "markdown",
   "metadata": {
    "application/vnd.databricks.v1+cell": {
     "cellMetadata": {
      "byteLimit": 2048000,
      "rowLimit": 10000
     },
     "inputWidgets": {},
     "nuid": "f215e1ab-fd61-49d1-969c-bcec07a4f8d2",
     "showTitle": false,
     "title": ""
    }
   },
   "source": [
    "## Read the Gold layer from the container"
   ]
  },
  {
   "cell_type": "code",
   "execution_count": 0,
   "metadata": {
    "application/vnd.databricks.v1+cell": {
     "cellMetadata": {
      "byteLimit": 2048000,
      "rowLimit": 10000
     },
     "inputWidgets": {},
     "nuid": "6c3ba24a-8d6a-4ccb-9a64-bafb1a979f28",
     "showTitle": false,
     "title": ""
    }
   },
   "outputs": [],
   "source": [
    "Event_Table = spark.read.parquet(f\"abfss://{contname}@{storage_acct_name}.dfs.core.windows.net/SilverLayer/Event_Table/\")\n",
    "repo_df = spark.read.parquet(f\"abfss://{contname}@{storage_acct_name}.dfs.core.windows.net/SilverLayer/repo_df/\")\n",
    "actor_df = spark.read.parquet(f\"abfss://{contname}@{storage_acct_name}.dfs.core.windows.net/SilverLayer/actor_df/\")\n",
    "organization_df = spark.read.parquet(f\"abfss://{contname}@{storage_acct_name}.dfs.core.windows.net/SilverLayer/organization_df/\")\n",
    "PushEvent_df =  spark.read.parquet(f\"abfss://{contname}@{storage_acct_name}.dfs.core.windows.net/SilverLayer/PushEvent_df/\")\n",
    "ReleaseEvent_df = spark.read.parquet(f\"abfss://{contname}@{storage_acct_name}.dfs.core.windows.net/SilverLayer/ReleaseEvent_df/\")\n",
    "CommitCommentEvent_df = spark.read.parquet(f\"abfss://{contname}@{storage_acct_name}.dfs.core.windows.net/SilverLayer/CommitCommentEvent_df/\")"
   ]
  },
  {
   "cell_type": "markdown",
   "metadata": {
    "application/vnd.databricks.v1+cell": {
     "cellMetadata": {
      "byteLimit": 2048000,
      "rowLimit": 10000
     },
     "inputWidgets": {},
     "nuid": "f3f28fe1-1119-4bce-9b02-9854335422c7",
     "showTitle": false,
     "title": ""
    }
   },
   "source": [
    "## Prepare the tables for the Gold layer"
   ]
  },
  {
   "cell_type": "markdown",
   "metadata": {
    "application/vnd.databricks.v1+cell": {
     "cellMetadata": {},
     "inputWidgets": {},
     "nuid": "152e6206-c5de-4ade-948e-6960cf5033cb",
     "showTitle": false,
     "title": ""
    }
   },
   "source": [
    "\n",
    "## Event Table"
   ]
  },
  {
   "cell_type": "code",
   "execution_count": 0,
   "metadata": {
    "application/vnd.databricks.v1+cell": {
     "cellMetadata": {
      "byteLimit": 2048000,
      "rowLimit": 10000
     },
     "inputWidgets": {},
     "nuid": "4fbdb781-659e-4f25-be31-6633aba25a87",
     "showTitle": false,
     "title": ""
    }
   },
   "outputs": [
    {
     "output_type": "display_data",
     "data": {
      "text/html": [
       "<style scoped>\n",
       "  .table-result-container {\n",
       "    max-height: 300px;\n",
       "    overflow: auto;\n",
       "  }\n",
       "  table, th, td {\n",
       "    border: 1px solid black;\n",
       "    border-collapse: collapse;\n",
       "  }\n",
       "  th, td {\n",
       "    padding: 5px;\n",
       "  }\n",
       "  th {\n",
       "    text-align: left;\n",
       "  }\n",
       "</style><div class='table-result-container'><table class='table-result'><thead style='background-color: white'><tr><th>event_id</th><th>created_at</th><th>actor_id</th><th>org_id</th><th>type</th><th>repo_id</th></tr></thead><tbody><tr><td>19960749167</td><td>2022-01-28T08:09:51.000+0000</td><td>6414648</td><td>0</td><td>IssueCommentEvent</td><td>28530868</td></tr><tr><td>19557023836</td><td>2022-01-03T11:03:24.000+0000</td><td>65212910</td><td>0</td><td>PushEvent</td><td>222505696</td></tr><tr><td>19659257050</td><td>2022-01-10T15:29:00.000+0000</td><td>96717210</td><td>0</td><td>PushEvent</td><td>442083252</td></tr><tr><td>19939165300</td><td>2022-01-27T06:04:58.000+0000</td><td>25180681</td><td>0</td><td>PushEvent</td><td>267364785</td></tr><tr><td>19765632123</td><td>2022-01-17T01:37:00.000+0000</td><td>41898282</td><td>0</td><td>PushEvent</td><td>446196561</td></tr></tbody></table></div>"
      ]
     },
     "metadata": {
      "application/vnd.databricks.v1+output": {
       "addedWidgets": {},
       "aggData": [],
       "aggError": "",
       "aggOverflow": false,
       "aggSchema": [],
       "aggSeriesLimitReached": false,
       "aggType": "",
       "arguments": {},
       "columnCustomDisplayInfos": {},
       "data": [
        [
         "19960749167",
         "2022-01-28T08:09:51.000+0000",
         6414648,
         0,
         "IssueCommentEvent",
         28530868
        ],
        [
         "19557023836",
         "2022-01-03T11:03:24.000+0000",
         65212910,
         0,
         "PushEvent",
         222505696
        ],
        [
         "19659257050",
         "2022-01-10T15:29:00.000+0000",
         96717210,
         0,
         "PushEvent",
         442083252
        ],
        [
         "19939165300",
         "2022-01-27T06:04:58.000+0000",
         25180681,
         0,
         "PushEvent",
         267364785
        ],
        [
         "19765632123",
         "2022-01-17T01:37:00.000+0000",
         41898282,
         0,
         "PushEvent",
         446196561
        ]
       ],
       "datasetInfos": [],
       "dbfsResultPath": null,
       "isJsonSchema": true,
       "metadata": {},
       "overflow": false,
       "plotOptions": {
        "customPlotOptions": {},
        "displayType": "table",
        "pivotAggregation": null,
        "pivotColumns": null,
        "xColumns": null,
        "yColumns": null
       },
       "removedWidgets": [],
       "schema": [
        {
         "metadata": "{}",
         "name": "event_id",
         "type": "\"string\""
        },
        {
         "metadata": "{}",
         "name": "created_at",
         "type": "\"timestamp\""
        },
        {
         "metadata": "{}",
         "name": "actor_id",
         "type": "\"long\""
        },
        {
         "metadata": "{}",
         "name": "org_id",
         "type": "\"long\""
        },
        {
         "metadata": "{}",
         "name": "type",
         "type": "\"string\""
        },
        {
         "metadata": "{}",
         "name": "repo_id",
         "type": "\"long\""
        }
       ],
       "type": "table"
      }
     },
     "output_type": "display_data"
    }
   ],
   "source": [
    "Event_Table = Event_Table.drop(\"repo_name\")\n",
    "Event_Table = Event_Table.dropDuplicates()\n",
    "# Event_Table.limit(5).display()"
   ]
  },
  {
   "cell_type": "markdown",
   "metadata": {
    "application/vnd.databricks.v1+cell": {
     "cellMetadata": {},
     "inputWidgets": {},
     "nuid": "0c954eca-b469-431b-ad57-0fcd668f3a42",
     "showTitle": false,
     "title": ""
    }
   },
   "source": [
    "\n",
    "## repo_df"
   ]
  },
  {
   "cell_type": "code",
   "execution_count": 0,
   "metadata": {
    "application/vnd.databricks.v1+cell": {
     "cellMetadata": {
      "byteLimit": 2048000,
      "rowLimit": 10000
     },
     "inputWidgets": {},
     "nuid": "9669af5d-1b2f-4342-8b0c-c550e6277b8e",
     "showTitle": false,
     "title": ""
    }
   },
   "outputs": [
    {
     "output_type": "display_data",
     "data": {
      "text/html": [
       "<style scoped>\n",
       "  .table-result-container {\n",
       "    max-height: 300px;\n",
       "    overflow: auto;\n",
       "  }\n",
       "  table, th, td {\n",
       "    border: 1px solid black;\n",
       "    border-collapse: collapse;\n",
       "  }\n",
       "  th, td {\n",
       "    padding: 5px;\n",
       "  }\n",
       "  th {\n",
       "    text-align: left;\n",
       "  }\n",
       "</style><div class='table-result-container'><table class='table-result'><thead style='background-color: white'><tr><th>repo_id</th><th>repo_name</th></tr></thead><tbody><tr><td>363663608</td><td>visualpython/visualpython</td></tr><tr><td>451378741</td><td>nostradamuss21/fantasy_football</td></tr><tr><td>443718594</td><td>matsuyuki-a/vercel-trial</td></tr><tr><td>447687837</td><td>viddex/Spotify-AD-Blocker</td></tr><tr><td>108427186</td><td>sed-inf-u-szeged/OpenStaticAnalyzer</td></tr></tbody></table></div>"
      ]
     },
     "metadata": {
      "application/vnd.databricks.v1+output": {
       "addedWidgets": {},
       "aggData": [],
       "aggError": "",
       "aggOverflow": false,
       "aggSchema": [],
       "aggSeriesLimitReached": false,
       "aggType": "",
       "arguments": {},
       "columnCustomDisplayInfos": {},
       "data": [
        [
         363663608,
         "visualpython/visualpython"
        ],
        [
         451378741,
         "nostradamuss21/fantasy_football"
        ],
        [
         443718594,
         "matsuyuki-a/vercel-trial"
        ],
        [
         447687837,
         "viddex/Spotify-AD-Blocker"
        ],
        [
         108427186,
         "sed-inf-u-szeged/OpenStaticAnalyzer"
        ]
       ],
       "datasetInfos": [],
       "dbfsResultPath": null,
       "isJsonSchema": true,
       "metadata": {},
       "overflow": false,
       "plotOptions": {
        "customPlotOptions": {},
        "displayType": "table",
        "pivotAggregation": null,
        "pivotColumns": null,
        "xColumns": null,
        "yColumns": null
       },
       "removedWidgets": [],
       "schema": [
        {
         "metadata": "{}",
         "name": "repo_id",
         "type": "\"long\""
        },
        {
         "metadata": "{}",
         "name": "repo_name",
         "type": "\"string\""
        }
       ],
       "type": "table"
      }
     },
     "output_type": "display_data"
    }
   ],
   "source": [
    "repo_df = repo_df.drop(\"repo_url\")\n",
    "repo_df = repo_df.dropDuplicates()\n",
    "# repo_df.limit(5).display()"
   ]
  },
  {
   "cell_type": "markdown",
   "metadata": {
    "application/vnd.databricks.v1+cell": {
     "cellMetadata": {},
     "inputWidgets": {},
     "nuid": "4f39bebc-9e8f-4396-b163-6512370bfdb6",
     "showTitle": false,
     "title": ""
    }
   },
   "source": [
    "\n",
    "## actor_df"
   ]
  },
  {
   "cell_type": "code",
   "execution_count": 0,
   "metadata": {
    "application/vnd.databricks.v1+cell": {
     "cellMetadata": {
      "byteLimit": 2048000,
      "rowLimit": 10000
     },
     "inputWidgets": {},
     "nuid": "05a09f12-1781-4ab2-a23a-caa42ca2e1e2",
     "showTitle": false,
     "title": ""
    }
   },
   "outputs": [
    {
     "output_type": "display_data",
     "data": {
      "text/html": [
       "<style scoped>\n",
       "  .table-result-container {\n",
       "    max-height: 300px;\n",
       "    overflow: auto;\n",
       "  }\n",
       "  table, th, td {\n",
       "    border: 1px solid black;\n",
       "    border-collapse: collapse;\n",
       "  }\n",
       "  th, td {\n",
       "    padding: 5px;\n",
       "  }\n",
       "  th {\n",
       "    text-align: left;\n",
       "  }\n",
       "</style><div class='table-result-container'><table class='table-result'><thead style='background-color: white'><tr><th>actor_id</th><th>login</th></tr></thead><tbody><tr><td>19560074</td><td>QualitySoftwareDeveloper</td></tr><tr><td>81461416</td><td>stcdan2x</td></tr><tr><td>8092460</td><td>davidbritch</td></tr><tr><td>97944394</td><td>Ngima-Muraguri</td></tr><tr><td>67475495</td><td>jsru-1</td></tr></tbody></table></div>"
      ]
     },
     "metadata": {
      "application/vnd.databricks.v1+output": {
       "addedWidgets": {},
       "aggData": [],
       "aggError": "",
       "aggOverflow": false,
       "aggSchema": [],
       "aggSeriesLimitReached": false,
       "aggType": "",
       "arguments": {},
       "columnCustomDisplayInfos": {},
       "data": [
        [
         19560074,
         "QualitySoftwareDeveloper"
        ],
        [
         81461416,
         "stcdan2x"
        ],
        [
         8092460,
         "davidbritch"
        ],
        [
         97944394,
         "Ngima-Muraguri"
        ],
        [
         67475495,
         "jsru-1"
        ]
       ],
       "datasetInfos": [],
       "dbfsResultPath": null,
       "isJsonSchema": true,
       "metadata": {},
       "overflow": false,
       "plotOptions": {
        "customPlotOptions": {},
        "displayType": "table",
        "pivotAggregation": null,
        "pivotColumns": null,
        "xColumns": null,
        "yColumns": null
       },
       "removedWidgets": [],
       "schema": [
        {
         "metadata": "{}",
         "name": "actor_id",
         "type": "\"long\""
        },
        {
         "metadata": "{}",
         "name": "login",
         "type": "\"string\""
        }
       ],
       "type": "table"
      }
     },
     "output_type": "display_data"
    }
   ],
   "source": [
    "actor_df = actor_df.select(\"actor_id\", \"login\")\n",
    "actor_df = actor_df.dropDuplicates()\n",
    "# actor_df.limit(5).display()"
   ]
  },
  {
   "cell_type": "markdown",
   "metadata": {
    "application/vnd.databricks.v1+cell": {
     "cellMetadata": {},
     "inputWidgets": {},
     "nuid": "b751800f-ea4d-46d3-98be-950ecf829455",
     "showTitle": false,
     "title": ""
    }
   },
   "source": [
    "\n",
    "## organization_df"
   ]
  },
  {
   "cell_type": "code",
   "execution_count": 0,
   "metadata": {
    "application/vnd.databricks.v1+cell": {
     "cellMetadata": {
      "byteLimit": 2048000,
      "rowLimit": 10000
     },
     "inputWidgets": {},
     "nuid": "1d83d15f-59e2-4f54-ac25-07cab4ca803e",
     "showTitle": false,
     "title": ""
    }
   },
   "outputs": [
    {
     "output_type": "display_data",
     "data": {
      "text/html": [
       "<style scoped>\n",
       "  .table-result-container {\n",
       "    max-height: 300px;\n",
       "    overflow: auto;\n",
       "  }\n",
       "  table, th, td {\n",
       "    border: 1px solid black;\n",
       "    border-collapse: collapse;\n",
       "  }\n",
       "  th, td {\n",
       "    padding: 5px;\n",
       "  }\n",
       "  th {\n",
       "    text-align: left;\n",
       "  }\n",
       "</style><div class='table-result-container'><table class='table-result'><thead style='background-color: white'><tr><th>org_id</th><th>login</th></tr></thead><tbody><tr><td>3380462</td><td>prometheus</td></tr><tr><td>44949219</td><td>MT-CTF</td></tr><tr><td>25274995</td><td>next-step</td></tr><tr><td>16104327</td><td>thought-machine</td></tr><tr><td>22757041</td><td>webflextech</td></tr></tbody></table></div>"
      ]
     },
     "metadata": {
      "application/vnd.databricks.v1+output": {
       "addedWidgets": {},
       "aggData": [],
       "aggError": "",
       "aggOverflow": false,
       "aggSchema": [],
       "aggSeriesLimitReached": false,
       "aggType": "",
       "arguments": {},
       "columnCustomDisplayInfos": {},
       "data": [
        [
         3380462,
         "prometheus"
        ],
        [
         44949219,
         "MT-CTF"
        ],
        [
         25274995,
         "next-step"
        ],
        [
         16104327,
         "thought-machine"
        ],
        [
         22757041,
         "webflextech"
        ]
       ],
       "datasetInfos": [],
       "dbfsResultPath": null,
       "isJsonSchema": true,
       "metadata": {},
       "overflow": false,
       "plotOptions": {
        "customPlotOptions": {},
        "displayType": "table",
        "pivotAggregation": null,
        "pivotColumns": null,
        "xColumns": null,
        "yColumns": null
       },
       "removedWidgets": [],
       "schema": [
        {
         "metadata": "{}",
         "name": "org_id",
         "type": "\"long\""
        },
        {
         "metadata": "{}",
         "name": "login",
         "type": "\"string\""
        }
       ],
       "type": "table"
      }
     },
     "output_type": "display_data"
    }
   ],
   "source": [
    "organization_df = organization_df.select(\"org_id\", \"login\")\n",
    "organization_df = organization_df.dropDuplicates()\n",
    "# organization_df.limit(5).display()"
   ]
  },
  {
   "cell_type": "markdown",
   "metadata": {
    "application/vnd.databricks.v1+cell": {
     "cellMetadata": {},
     "inputWidgets": {},
     "nuid": "be2e895d-2728-4eda-99fd-cd533b6503e1",
     "showTitle": false,
     "title": ""
    }
   },
   "source": [
    "\n",
    "## PushEvent_df"
   ]
  },
  {
   "cell_type": "code",
   "execution_count": 0,
   "metadata": {
    "application/vnd.databricks.v1+cell": {
     "cellMetadata": {
      "byteLimit": 2048000,
      "rowLimit": 10000
     },
     "inputWidgets": {},
     "nuid": "ac4d960d-ae0d-436a-8a42-6d885d04c7cc",
     "showTitle": false,
     "title": ""
    }
   },
   "outputs": [
    {
     "output_type": "display_data",
     "data": {
      "text/html": [
       "<style scoped>\n",
       "  .table-result-container {\n",
       "    max-height: 300px;\n",
       "    overflow: auto;\n",
       "  }\n",
       "  table, th, td {\n",
       "    border: 1px solid black;\n",
       "    border-collapse: collapse;\n",
       "  }\n",
       "  th, td {\n",
       "    padding: 5px;\n",
       "  }\n",
       "  th {\n",
       "    text-align: left;\n",
       "  }\n",
       "</style><div class='table-result-container'><table class='table-result'><thead style='background-color: white'><tr><th>event_id</th><th>push_id</th><th>distinct_size</th><th>ref</th><th>commits_message</th></tr></thead><tbody><tr><td>19794776056</td><td>8868914806</td><td>2</td><td>next</td><td>6.5.0-alpha.20 next.json version file</td></tr><tr><td>19937012458</td><td>8941250464</td><td>1</td><td>self-hosted-runner</td><td>#self-hosted-runner fix .</td></tr><tr><td>19649037603</td><td>8792293414</td><td>1</td><td>master</td><td>ipipip</td></tr><tr><td>19994826914</td><td>8972063211</td><td>1</td><td>main</td><td>Create 空</td></tr><tr><td>19546717121</td><td>8735984884</td><td>1</td><td>main</td><td>upload file a275ae7117c38183b2162aef8e8bd4cfacd2d44395cdeb1d5b59834afa9ab3a80c788e678f2a94166dfdcaebfd088b10video_732_0_552406.ts</td></tr></tbody></table></div>"
      ]
     },
     "metadata": {
      "application/vnd.databricks.v1+output": {
       "addedWidgets": {},
       "aggData": [],
       "aggError": "",
       "aggOverflow": false,
       "aggSchema": [],
       "aggSeriesLimitReached": false,
       "aggType": "",
       "arguments": {},
       "columnCustomDisplayInfos": {},
       "data": [
        [
         "19794776056",
         8868914806,
         2,
         "next",
         "6.5.0-alpha.20 next.json version file"
        ],
        [
         "19937012458",
         8941250464,
         1,
         "self-hosted-runner",
         "#self-hosted-runner fix ."
        ],
        [
         "19649037603",
         8792293414,
         1,
         "master",
         "ipipip"
        ],
        [
         "19994826914",
         8972063211,
         1,
         "main",
         "Create 空"
        ],
        [
         "19546717121",
         8735984884,
         1,
         "main",
         "upload file a275ae7117c38183b2162aef8e8bd4cfacd2d44395cdeb1d5b59834afa9ab3a80c788e678f2a94166dfdcaebfd088b10video_732_0_552406.ts"
        ]
       ],
       "datasetInfos": [],
       "dbfsResultPath": null,
       "isJsonSchema": true,
       "metadata": {},
       "overflow": false,
       "plotOptions": {
        "customPlotOptions": {},
        "displayType": "table",
        "pivotAggregation": null,
        "pivotColumns": null,
        "xColumns": null,
        "yColumns": null
       },
       "removedWidgets": [],
       "schema": [
        {
         "metadata": "{}",
         "name": "event_id",
         "type": "\"string\""
        },
        {
         "metadata": "{}",
         "name": "push_id",
         "type": "\"long\""
        },
        {
         "metadata": "{}",
         "name": "distinct_size",
         "type": "\"long\""
        },
        {
         "metadata": "{}",
         "name": "ref",
         "type": "\"string\""
        },
        {
         "metadata": "{}",
         "name": "commits_message",
         "type": "\"string\""
        }
       ],
       "type": "table"
      }
     },
     "output_type": "display_data"
    }
   ],
   "source": [
    "PushEvent_df = PushEvent_df.drop(\"push_id_PK\")\n",
    "PushEvent_df = PushEvent_df.withColumn(\"ref\", reverse(split(col(\"ref\"), \"/\"))[0])\n",
    "PushEvent_df = PushEvent_df.dropDuplicates()\n",
    "# PushEvent_df.limit(5).display()"
   ]
  },
  {
   "cell_type": "markdown",
   "metadata": {
    "application/vnd.databricks.v1+cell": {
     "cellMetadata": {},
     "inputWidgets": {},
     "nuid": "f888bc95-b6ad-40c1-aaab-01b55cba2e19",
     "showTitle": false,
     "title": ""
    }
   },
   "source": [
    "\n",
    "## ReleaseEvent_df"
   ]
  },
  {
   "cell_type": "code",
   "execution_count": 0,
   "metadata": {
    "application/vnd.databricks.v1+cell": {
     "cellMetadata": {
      "byteLimit": 2048000,
      "rowLimit": 10000
     },
     "inputWidgets": {},
     "nuid": "2edf5bbf-b084-400f-b78c-07f999d5542d",
     "showTitle": false,
     "title": ""
    }
   },
   "outputs": [
    {
     "output_type": "display_data",
     "data": {
      "text/html": [
       "<style scoped>\n",
       "  .table-result-container {\n",
       "    max-height: 300px;\n",
       "    overflow: auto;\n",
       "  }\n",
       "  table, th, td {\n",
       "    border: 1px solid black;\n",
       "    border-collapse: collapse;\n",
       "  }\n",
       "  th, td {\n",
       "    padding: 5px;\n",
       "  }\n",
       "  th {\n",
       "    text-align: left;\n",
       "  }\n",
       "</style><div class='table-result-container'><table class='table-result'><thead style='background-color: white'><tr><th>event_id</th><th>release_id</th></tr></thead><tbody><tr><td>19658282851</td><td>47236153</td></tr><tr><td>19545885268</td><td>56257423</td></tr><tr><td>19546052018</td><td>56258282</td></tr><tr><td>19546854032</td><td>56261343</td></tr><tr><td>19547870688</td><td>56266097</td></tr></tbody></table></div>"
      ]
     },
     "metadata": {
      "application/vnd.databricks.v1+output": {
       "addedWidgets": {},
       "aggData": [],
       "aggError": "",
       "aggOverflow": false,
       "aggSchema": [],
       "aggSeriesLimitReached": false,
       "aggType": "",
       "arguments": {},
       "columnCustomDisplayInfos": {},
       "data": [
        [
         "19658282851",
         47236153
        ],
        [
         "19545885268",
         56257423
        ],
        [
         "19546052018",
         56258282
        ],
        [
         "19546854032",
         56261343
        ],
        [
         "19547870688",
         56266097
        ]
       ],
       "datasetInfos": [],
       "dbfsResultPath": null,
       "isJsonSchema": true,
       "metadata": {},
       "overflow": false,
       "plotOptions": {
        "customPlotOptions": {},
        "displayType": "table",
        "pivotAggregation": null,
        "pivotColumns": null,
        "xColumns": null,
        "yColumns": null
       },
       "removedWidgets": [],
       "schema": [
        {
         "metadata": "{}",
         "name": "event_id",
         "type": "\"string\""
        },
        {
         "metadata": "{}",
         "name": "release_id",
         "type": "\"long\""
        }
       ],
       "type": "table"
      }
     },
     "output_type": "display_data"
    }
   ],
   "source": [
    "ReleaseEvent_df = ReleaseEvent_df.drop(\"action\")\n",
    "ReleaseEvent_df = ReleaseEvent_df.dropDuplicates()\n",
    "# ReleaseEvent_df.limit(5).display()"
   ]
  },
  {
   "cell_type": "markdown",
   "metadata": {
    "application/vnd.databricks.v1+cell": {
     "cellMetadata": {},
     "inputWidgets": {},
     "nuid": "95a3339b-4849-4f60-94f8-b8a68fb63d05",
     "showTitle": false,
     "title": ""
    }
   },
   "source": [
    "\n",
    "## CommitCommentEvent_df"
   ]
  },
  {
   "cell_type": "code",
   "execution_count": 0,
   "metadata": {
    "application/vnd.databricks.v1+cell": {
     "cellMetadata": {
      "byteLimit": 2048000,
      "rowLimit": 10000
     },
     "inputWidgets": {},
     "nuid": "1aa66e24-7781-43de-b614-52612512e561",
     "showTitle": false,
     "title": ""
    }
   },
   "outputs": [
    {
     "output_type": "display_data",
     "data": {
      "text/html": [
       "<style scoped>\n",
       "  .table-result-container {\n",
       "    max-height: 300px;\n",
       "    overflow: auto;\n",
       "  }\n",
       "  table, th, td {\n",
       "    border: 1px solid black;\n",
       "    border-collapse: collapse;\n",
       "  }\n",
       "  th, td {\n",
       "    padding: 5px;\n",
       "  }\n",
       "  th {\n",
       "    text-align: left;\n",
       "  }\n",
       "</style><div class='table-result-container'><table class='table-result'><thead style='background-color: white'><tr><th>event_id</th><th>commit_id</th><th>commit_created_at</th><th>user_id</th></tr></thead><tbody><tr><td>19619478792</td><td>ab9d11e7e9aacbf62be48d35732e00c7eb4b1d76</td><td>2022-01-07T03:14:09.000+0000</td><td>35613825</td></tr><tr><td>19980567097</td><td>8c2cf14407da95c0243908b820669d590ebdad4d</td><td>2022-01-29T20:57:31.000+0000</td><td>35613825</td></tr><tr><td>19578481104</td><td>c8a6a428d4e77ea412ca7e4c738c37aac90738c6</td><td>2022-01-04T17:59:22.000+0000</td><td>28784688</td></tr><tr><td>19749402047</td><td>3e79b592cdee7975f38e87e3ac7d1c32e6748f64</td><td>2022-01-15T00:04:30.000+0000</td><td>40862150</td></tr><tr><td>19789059769</td><td>4fb6ebdb164faffded22e04a3f4c3a1175a33266</td><td>2022-01-18T10:13:53.000+0000</td><td>35613825</td></tr></tbody></table></div>"
      ]
     },
     "metadata": {
      "application/vnd.databricks.v1+output": {
       "addedWidgets": {},
       "aggData": [],
       "aggError": "",
       "aggOverflow": false,
       "aggSchema": [],
       "aggSeriesLimitReached": false,
       "aggType": "",
       "arguments": {},
       "columnCustomDisplayInfos": {},
       "data": [
        [
         "19619478792",
         "ab9d11e7e9aacbf62be48d35732e00c7eb4b1d76",
         "2022-01-07T03:14:09.000+0000",
         35613825
        ],
        [
         "19980567097",
         "8c2cf14407da95c0243908b820669d590ebdad4d",
         "2022-01-29T20:57:31.000+0000",
         35613825
        ],
        [
         "19578481104",
         "c8a6a428d4e77ea412ca7e4c738c37aac90738c6",
         "2022-01-04T17:59:22.000+0000",
         28784688
        ],
        [
         "19749402047",
         "3e79b592cdee7975f38e87e3ac7d1c32e6748f64",
         "2022-01-15T00:04:30.000+0000",
         40862150
        ],
        [
         "19789059769",
         "4fb6ebdb164faffded22e04a3f4c3a1175a33266",
         "2022-01-18T10:13:53.000+0000",
         35613825
        ]
       ],
       "datasetInfos": [],
       "dbfsResultPath": null,
       "isJsonSchema": true,
       "metadata": {},
       "overflow": false,
       "plotOptions": {
        "customPlotOptions": {},
        "displayType": "table",
        "pivotAggregation": null,
        "pivotColumns": null,
        "xColumns": null,
        "yColumns": null
       },
       "removedWidgets": [],
       "schema": [
        {
         "metadata": "{}",
         "name": "event_id",
         "type": "\"string\""
        },
        {
         "metadata": "{}",
         "name": "commit_id",
         "type": "\"string\""
        },
        {
         "metadata": "{}",
         "name": "commit_created_at",
         "type": "\"timestamp\""
        },
        {
         "metadata": "{}",
         "name": "user_id",
         "type": "\"long\""
        }
       ],
       "type": "table"
      }
     },
     "output_type": "display_data"
    }
   ],
   "source": [
    "CommitCommentEvent_df = CommitCommentEvent_df.drop(\"commit_id_PK\", \"body\")\n",
    "CommitCommentEvent_df = CommitCommentEvent_df.dropDuplicates()\n",
    "# CommitCommentEvent_df.limit(5).display()"
   ]
  },
  {
   "cell_type": "markdown",
   "metadata": {
    "application/vnd.databricks.v1+cell": {
     "cellMetadata": {
      "byteLimit": 2048000,
      "rowLimit": 10000
     },
     "inputWidgets": {},
     "nuid": "0997a9f1-59c0-4684-8b92-8266e63cca60",
     "showTitle": false,
     "title": ""
    }
   },
   "source": [
    "\n",
    "# Write to Gold Layer"
   ]
  },
  {
   "cell_type": "markdown",
   "metadata": {
    "application/vnd.databricks.v1+cell": {
     "cellMetadata": {},
     "inputWidgets": {},
     "nuid": "b3c7c2ca-08be-46ec-af70-73dd2d93da96",
     "showTitle": false,
     "title": ""
    }
   },
   "source": [
    "\n",
    "## Table names in string format"
   ]
  },
  {
   "cell_type": "code",
   "execution_count": 0,
   "metadata": {
    "application/vnd.databricks.v1+cell": {
     "cellMetadata": {
      "byteLimit": 2048000,
      "rowLimit": 10000
     },
     "inputWidgets": {},
     "nuid": "cba2576a-7bcb-4159-8121-bf8b5b52edcb",
     "showTitle": false,
     "title": ""
    }
   },
   "outputs": [],
   "source": [
    "table_string_names = [\"Event_Table\",\n",
    "\"repo_df\",\n",
    "\"actor_df\",\n",
    "\"organization_df\",\n",
    "\"PushEvent_df\",\n",
    "\"ReleaseEvent_df\",\n",
    "\"CommitCommentEvent_df\"\n",
    "]"
   ]
  },
  {
   "cell_type": "markdown",
   "metadata": {
    "application/vnd.databricks.v1+cell": {
     "cellMetadata": {},
     "inputWidgets": {},
     "nuid": "b87c6cfb-ed30-4b68-9d26-d34df18c5c9a",
     "showTitle": false,
     "title": ""
    }
   },
   "source": [
    "\n",
    "## List containing our dataframes"
   ]
  },
  {
   "cell_type": "code",
   "execution_count": 0,
   "metadata": {
    "application/vnd.databricks.v1+cell": {
     "cellMetadata": {
      "byteLimit": 2048000,
      "rowLimit": 10000
     },
     "inputWidgets": {},
     "nuid": "8f610b58-b10e-4570-89bf-7cea15f488ae",
     "showTitle": false,
     "title": ""
    }
   },
   "outputs": [],
   "source": [
    "table_names = [Event_Table,            \n",
    "repo_df,                                                \n",
    "actor_df,                                  \n",
    "organization_df,                           \n",
    "PushEvent_df,                             \n",
    "ReleaseEvent_df,                            \n",
    "CommitCommentEvent_df                   \n",
    " ]                                           \n",
    "   \n",
    "\n",
    "# Sizes were repartioned by checking our gold layer file size for one partition, multiplying by the number of partitions from the silver layer\n",
    "partition_size = [21, 2, 1, 1, 38, 1, 1]"
   ]
  },
  {
   "cell_type": "markdown",
   "metadata": {
    "application/vnd.databricks.v1+cell": {
     "cellMetadata": {},
     "inputWidgets": {},
     "nuid": "02658fcb-d9e4-495c-8b6c-a1badb0d55e6",
     "showTitle": false,
     "title": ""
    }
   },
   "source": [
    "\n",
    "## Loop through each table and write to gold layer"
   ]
  },
  {
   "cell_type": "code",
   "execution_count": 0,
   "metadata": {
    "application/vnd.databricks.v1+cell": {
     "cellMetadata": {
      "byteLimit": 2048000,
      "rowLimit": 10000
     },
     "inputWidgets": {},
     "nuid": "7a5d5665-595d-4c23-9028-94da6943d577",
     "showTitle": false,
     "title": ""
    }
   },
   "outputs": [],
   "source": [
    "for indx, table_name in enumerate(table_names):\n",
    "    df_name = table_name\n",
    "    df_name.repartition(partition_size[indx]).write.format(\"parquet\").mode(\"overwrite\").save(f\"abfss://{contname}@{storage_acct_name}.dfs.core.windows.net/GoldLayer/{table_string_names[indx]}\")\n",
    "    "
   ]
  },
  {
   "cell_type": "markdown",
   "metadata": {
    "application/vnd.databricks.v1+cell": {
     "cellMetadata": {},
     "inputWidgets": {},
     "nuid": "f88b21f6-b86d-4fec-9f65-2f35b3888a4d",
     "showTitle": false,
     "title": ""
    }
   },
   "source": [
    "\n",
    "## check for successful confirmation"
   ]
  },
  {
   "cell_type": "code",
   "execution_count": 0,
   "metadata": {
    "application/vnd.databricks.v1+cell": {
     "cellMetadata": {
      "byteLimit": 2048000,
      "rowLimit": 10000
     },
     "inputWidgets": {},
     "nuid": "0f09a1ad-4260-4b9b-924c-5ef16f38ff6d",
     "showTitle": false,
     "title": ""
    }
   },
   "outputs": [
    {
     "output_type": "display_data",
     "data": {
      "text/html": [
       "<style scoped>\n",
       "  .table-result-container {\n",
       "    max-height: 300px;\n",
       "    overflow: auto;\n",
       "  }\n",
       "  table, th, td {\n",
       "    border: 1px solid black;\n",
       "    border-collapse: collapse;\n",
       "  }\n",
       "  th, td {\n",
       "    padding: 5px;\n",
       "  }\n",
       "  th {\n",
       "    text-align: left;\n",
       "  }\n",
       "</style><div class='table-result-container'><table class='table-result'><thead style='background-color: white'><tr><th>path</th><th>name</th><th>size</th><th>modificationTime</th></tr></thead><tbody><tr><td>abfss://team3-project2@20230821desa.dfs.core.windows.net/BronzeLayer/</td><td>BronzeLayer/</td><td>0</td><td>1695766198000</td></tr><tr><td>abfss://team3-project2@20230821desa.dfs.core.windows.net/GoldLayer/</td><td>GoldLayer/</td><td>0</td><td>1696552313000</td></tr><tr><td>abfss://team3-project2@20230821desa.dfs.core.windows.net/SilverLayer/</td><td>SilverLayer/</td><td>0</td><td>1696540462000</td></tr></tbody></table></div>"
      ]
     },
     "metadata": {
      "application/vnd.databricks.v1+output": {
       "addedWidgets": {},
       "aggData": [],
       "aggError": "",
       "aggOverflow": false,
       "aggSchema": [],
       "aggSeriesLimitReached": false,
       "aggType": "",
       "arguments": {},
       "columnCustomDisplayInfos": {},
       "data": [
        [
         "abfss://team3-project2@20230821desa.dfs.core.windows.net/BronzeLayer/",
         "BronzeLayer/",
         0,
         1695766198000
        ],
        [
         "abfss://team3-project2@20230821desa.dfs.core.windows.net/GoldLayer/",
         "GoldLayer/",
         0,
         1696552313000
        ],
        [
         "abfss://team3-project2@20230821desa.dfs.core.windows.net/SilverLayer/",
         "SilverLayer/",
         0,
         1696540462000
        ]
       ],
       "datasetInfos": [],
       "dbfsResultPath": null,
       "isJsonSchema": true,
       "metadata": {},
       "overflow": false,
       "plotOptions": {
        "customPlotOptions": {},
        "displayType": "table",
        "pivotAggregation": null,
        "pivotColumns": null,
        "xColumns": null,
        "yColumns": null
       },
       "removedWidgets": [],
       "schema": [
        {
         "metadata": "{}",
         "name": "path",
         "type": "\"string\""
        },
        {
         "metadata": "{}",
         "name": "name",
         "type": "\"string\""
        },
        {
         "metadata": "{}",
         "name": "size",
         "type": "\"long\""
        },
        {
         "metadata": "{}",
         "name": "modificationTime",
         "type": "\"long\""
        }
       ],
       "type": "table"
      }
     },
     "output_type": "display_data"
    }
   ],
   "source": [
    "# After writing files to the datalake, run:\n",
    "display(dbutils.fs.ls(f\"abfss://{contname}@{storage_acct_name}.dfs.core.windows.net/\"))"
   ]
  }
 ],
 "metadata": {
  "application/vnd.databricks.v1+notebook": {
   "dashboards": [],
   "language": "python",
   "notebookMetadata": {
    "pythonIndentUnit": 4
   },
   "notebookName": "Project 2_ Team 3 _ Gold_2023-10-05",
   "widgets": {}
  }
 },
 "nbformat": 4,
 "nbformat_minor": 0
}
